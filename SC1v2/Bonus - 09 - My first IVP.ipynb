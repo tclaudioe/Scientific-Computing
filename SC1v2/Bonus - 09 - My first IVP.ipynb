{
 "cells": [
  {
   "attachments": {},
   "cell_type": "markdown",
   "metadata": {},
   "source": [
    "<center>\n",
    "    <img src=\"http://sct.inf.utfsm.cl/wp-content/uploads/2020/04/logo_di.png\" style=\"width:60%\">\n",
    "    <h1> INF285 - Computación Científica </h1>\n",
    "    <h2> My first IVP </h2>\n",
    "    <h2> <a href=\"#acknowledgements\"> [S]cientific [C]omputing [T]eam </a> </h2>\n",
    "    <h2> Version: 1.03</h2>\n",
    "</center>"
   ]
  },
  {
   "attachments": {},
   "cell_type": "markdown",
   "metadata": {},
   "source": [
    "<div id='toc' />\n",
    "\n",
    "## Table of Contents\n",
    "\n",
    "* [My first IVP](#myfirstivp)\n",
    "* [Acknowledgements](#acknowledgements)"
   ]
  },
  {
   "cell_type": "code",
   "execution_count": 1,
   "metadata": {},
   "outputs": [],
   "source": [
    "# %matplotlib inline\n",
    "import matplotlib.pyplot as plt # type: ignore\n",
    "from matplotlib import pyplot # type: ignore\n",
    "import numpy as np # type: ignore\n",
    "\n",
    "from scipy.integrate import solve_ivp # type: ignore\n",
    "from scipy import optimize # type: ignore \n",
    "from pylab import * # type: ignore\n",
    "from numpy import linalg as LA # type: ignore\n",
    "from matplotlib.legend_handler import HandlerLine2D # type: ignore\n",
    "from scipy.linalg import toeplitz # type: ignore\n",
    "from scipy.optimize import root # type: ignore\n",
    "from ipywidgets import interact, RadioButtons, Checkbox # type: ignore\n",
    "import sympy as sym # type: ignore\n",
    "import matplotlib as mpl # type: ignore\n",
    "mpl.rcParams['font.size'] = 14\n",
    "mpl.rcParams['axes.labelsize'] = 20\n",
    "mpl.rcParams['xtick.labelsize'] = 14\n",
    "mpl.rcParams['ytick.labelsize'] = 14\n",
    "from mpl_toolkits.axes_grid1 import make_axes_locatable # type: ignore\n",
    "sym.init_printing()\n"
   ]
  },
  {
   "attachments": {},
   "cell_type": "markdown",
   "metadata": {},
   "source": [
    "<div id='IVP' />\n",
    "\n",
    "# Initial Value Problems\n",
    "[Back to TOC](#toc)\n",
    "\n",
    "The following is a basic definition of an IVP:\n",
    "$$ \n",
    "\\begin{align*}\n",
    "    \\dot{y}(t) &= f(t,y(t)), \\quad t\\in]t_0,T],\\\\\n",
    "    y(t_0) & = y_0.\n",
    "\\end{align*}\n",
    "$$\n"
   ]
  },
  {
   "attachments": {},
   "cell_type": "markdown",
   "metadata": {},
   "source": [
    "<div id='solver' />\n",
    "\n",
    "# Four solvers: One step version\n",
    "[Back to TOC](#toc)\n",
    "\n",
    "- **Euler's Method**:\n",
    "$$\n",
    "\\begin{align*}\n",
    "    y_{i+1} &= y_i + h\\,f(t_i,y_i)\n",
    "\\end{align*}\n",
    "$$\n",
    "\n",
    "- **Backward Euler Method**:\n",
    "$$\n",
    "\\begin{align*}\n",
    "    y_{i+1} &= y_i + h\\,f(t_i+h,y_{i+1})\n",
    "\\end{align*}\n",
    "$$\n",
    "\n",
    "- **Runge-Kutta of second order (RK2)**:\n",
    "$$\n",
    "\\begin{align*}\n",
    "    k_{1} &= f(t_i,y_i) \\\\\n",
    "    y_{i+1} &= y_i + h\\,f\\left(t_i + \\dfrac{h}{2}, y_i + \\dfrac{h}{2}\\,k_1\\right)\n",
    "\\end{align*}\n",
    "$$\n",
    "\n",
    "- **Runge-Kutta of 4th order (RK4)**:\n",
    "$$\n",
    "\\begin{align*}\n",
    "    k_{1} &= f(t_i,y_i) \\\\\n",
    "    k_{2} &= f(t_i + \\dfrac{h}{2}, y_i + \\dfrac{h}{2}k_1) \\\\\n",
    "    k_{3} &= f(t_i + \\dfrac{h}{2}, y_i + \\dfrac{h}{2}k_2) \\\\\n",
    "    k_{4} &= f(t_i + h, y + h\\,k_3) \\\\\n",
    "    y_{i+1} &= y_i + \\dfrac{h}{6}(k_1 + 2k_2 + 2k_3 + k_4) \n",
    "\\end{align*}\n",
    "$$"
   ]
  },
  {
   "cell_type": "markdown",
   "metadata": {},
   "source": [
    "## One Step Implementation"
   ]
  },
  {
   "cell_type": "code",
   "execution_count": 2,
   "metadata": {},
   "outputs": [],
   "source": [
    "# Forward Euler Method\n",
    "def eulerMethod_one_step(yi,ti,f,h):\n",
    "    return yi+h*f(ti,yi)\n",
    "\n",
    "# Backward Euler for 1D and nD problems\n",
    "def backwardEuler_one_step(yi,ti,f,h):\n",
    "    f_hat = lambda x:  x - yi - f(ti+h,x)*h\n",
    "    if isinstance(yi,(int,float)):\n",
    "        out = optimize.root_scalar(f_hat,x0=yi)\n",
    "        if out.converged:\n",
    "            return out.root\n",
    "        else:\n",
    "            raise Exception(\"Backward Euler 1D: We couldn't find the root. Select/build another solver.\")\n",
    "    else:\n",
    "        out = optimize.root(f_hat,yi)\n",
    "        if out.success:\n",
    "            return out.x\n",
    "        else:\n",
    "            raise Exception(\"Backward Euler nD: We couldn't find the root. Select/build another solver.\")\n",
    "\n",
    "# Runge-Kutta of Second order\n",
    "def RK2_one_step(yi,ti,f,h):\n",
    "    k1=f(ti,yi)\n",
    "    return yi+h*f(ti+h/2.0,yi+h/2.0*k1)\n",
    "\n",
    "# Runge-Kutta \n",
    "def RK4_one_step(yi,ti,f,h):\n",
    "    k1=f(ti,yi)\n",
    "    k2=f(ti+h/2.0,yi+(h/2.0)*k1)\n",
    "    k3=f(ti+h/2.0,yi+(h/2.0)*k2)\n",
    "    k4=f(ti+h,yi+h*k3)\n",
    "    return yi+(h/6.0)*(k1+2.0*k2+2.0*k3+k4)"
   ]
  },
  {
   "cell_type": "markdown",
   "metadata": {},
   "source": [
    "## All Steps Implementation"
   ]
  },
  {
   "cell_type": "code",
   "execution_count": 3,
   "metadata": {},
   "outputs": [],
   "source": [
    "def eulerMethod(t0,T,N,y0,f):\n",
    "    t = np.linspace(t0,T,N+1)\n",
    "    h = (T-t0)/N\n",
    "    if isinstance(y0,(int,float)):\n",
    "        y = np.zeros(N+1)\n",
    "    else:\n",
    "        y = np.zeros((N+1,len(y0)))\n",
    "    y[0] = y0\n",
    "    for i in np.arange(N):\n",
    "        y[i+1] = eulerMethod_one_step(y[i],t[i],f,h)\n",
    "    return t, y\n",
    "\n",
    "def backwardEulerMethod(t0,T,N,y0,f):\n",
    "    t = np.linspace(t0,T,N+1)\n",
    "    h = (T-t0)/N\n",
    "    if isinstance(y0,(int,float)):\n",
    "        y = np.zeros(N+1)\n",
    "    else:\n",
    "        y = np.zeros((N+1,len(y0)))\n",
    "    y[0] = y0\n",
    "    for i in np.arange(N):\n",
    "        y[i+1] = backwardEuler_one_step(y[i],t[i],f,h)\n",
    "    return t, y\n",
    "\n",
    "def RK2(t0,T,N,y0,f):\n",
    "    t = np.linspace(t0,T,N+1)\n",
    "    h = (T-t0)/N\n",
    "    if isinstance(y0,(int,float)):\n",
    "        y = np.zeros(N+1)\n",
    "    else:\n",
    "        y = np.zeros((N+1,len(y0)))\n",
    "    y[0] = y0\n",
    "    for i in np.arange(N):\n",
    "        y[i+1] = RK2_one_step(y[i],t[i],f,h)\n",
    "    return t, y\n",
    "\n",
    "def RK4(t0,T,N,y0,f):\n",
    "    t = np.linspace(t0,T,N+1)\n",
    "    h = (T-t0)/N\n",
    "    if isinstance(y0,(int,float)):\n",
    "        y = np.zeros(N+1)\n",
    "    else:\n",
    "        y = np.zeros((N+1,len(y0)))\n",
    "    y[0] = y0\n",
    "    for i in np.arange(N):\n",
    "        y[i+1] = RK4_one_step(y[i],t[i],f,h)\n",
    "    return t, y"
   ]
  },
  {
   "cell_type": "markdown",
   "metadata": {},
   "source": [
    "<div id='myfirstivp' />\n",
    "\n",
    "# My first IVP - The ODE\n",
    "[Back to TOC](#toc)\n",
    "\n",
    "$$\n",
    "\\begin{align*}\n",
    "    \\dot{y}(t) &= \\dfrac{1}{2}\\,y(t), \\quad t\\in]0,10],&& \\leftarrow \\textrm{The equation/model and its domain},\\\\\n",
    "    y(0) &= 1, && \\leftarrow \\textrm{The initial condition}.\n",
    "\\end{align*}\n",
    "$$"
   ]
  },
  {
   "cell_type": "markdown",
   "metadata": {},
   "source": [
    "# My first IVP - Theoretical Analysis\n",
    "We first begin by solving the ODE algebraically,\n",
    "$$\n",
    "\\begin{align*}\n",
    "    \\dot{y}(t) &= \\dfrac{1}{2}\\,y(t), && \\textrm{moving $y(t)$ to the LHS.}\\\\\n",
    "    \\dfrac{1}{y(t)}\\,\\dfrac{\\textrm{d}y}{\\textrm{d}t}(t) &= \\dfrac{1}{2},  && \\textrm{re-writing $\\dot{y}(t)$ as $\\dfrac{\\textrm{d}y}{\\textrm{d}t}(t)$, and integrating.}\\\\\n",
    "    \\int \\dfrac{1}{y(t)}\\,\\dfrac{\\textrm{d}y}{\\textrm{d}t}(t) \\mathrm{d}t &= \\int \\dfrac{1}{2}\\mathrm{d}t,\\\\\n",
    "    \\int \\dfrac{1}{y}\\,\\textrm{d}y  &= \\int \\dfrac{1}{2}\\mathrm{d}t,\\\\\n",
    "    \\log\\left(y\\right) &= \\dfrac{t}{2}+C, && \\textrm{solving for $y(t)$.}\\\\\n",
    "    y(t) &= \\exp\\left(\\dfrac{t}{2}+C\\right), && \\textrm{applying the initial condition $y(0) = 1$.}\\\\\n",
    "    y(t) &= \\exp\\left(\\dfrac{t}{2}\\right), && \\textrm{the ``algebraic'' solution.}\\\\\n",
    "\\end{align*}\n",
    "$$\n",
    "Thus, we now can compare any **numerical approximation** with the **algebraic solution**."
   ]
  },
  {
   "cell_type": "markdown",
   "metadata": {},
   "source": [
    "Now, we will compute one step of the **numerical approximation** for the previous ODE using the Euler's method, Backward Euler Method and RK2.\n",
    "\n",
    "We consider $h=\\dfrac{1}{2}$, $t_0=0$, $t_1=t_0+h=\\dfrac{1}{2}$, $y_0=1$ (initial condition), and $f(t,y)=\\dfrac{y}{2}$ (from the definition of the ODE)."
   ]
  },
  {
   "cell_type": "markdown",
   "metadata": {},
   "source": [
    "## One step for \"My First IVP\" - **Euler's method**\n",
    "Euler method is the following:\n",
    "$$\n",
    "    y_{i+1} = y_i + h\\,f(t_i,y_i)\n",
    "$$\n",
    "Thus,\n",
    "$$\n",
    "\\begin{align*}\n",
    "    y_1 &= y_0+h\\,f(t_0,y_0),\\\\\n",
    "        &= y_0 + h\\,\\dfrac{y_0}{2},\\\\\n",
    "        &= 1 + h\\,\\dfrac{1}{2},\\\\\n",
    "        &= 1 + \\dfrac{1}{2}\\,\\dfrac{1}{2},\\\\\n",
    "    y_1 &= \\dfrac{5}{4}.\\\\\n",
    "\\end{align*}\n",
    "$$\n",
    "Now, we can compare it to the **algebraic solution**.\n",
    "$$\n",
    "\\begin{align*}\n",
    "    \\textrm{Error}_{\\textrm{Euler}} \n",
    "        &= \\left| y_1 - \\exp\\left(\\dfrac{t_1}{2}\\right)\\right|\\\\\n",
    "        &= \\left| \\dfrac{5}{4} - \\exp\\left(\\dfrac{1/2}{2}\\right)\\right|\\\\\n",
    "        &= \\left| \\dfrac{5}{4} - \\exp\\left(\\dfrac{1}{4}\\right)\\right|\\\\\n",
    "        &\\approx \\left| 1.25 - 1.28402541668774\\right|\\\\\n",
    "        &\\approx 0.0340254166877414.\n",
    "\\end{align*}\n",
    "$$\n"
   ]
  },
  {
   "cell_type": "markdown",
   "metadata": {},
   "source": [
    "## One step for \"My First IVP\" - **Backward Euler method**\n",
    "Backward Euler method is the following:\n",
    "$$\n",
    "    y_{i+1} = y_i + h\\,f(t_i+h,y_{i+1})\n",
    "$$\n",
    "Thus,\n",
    "$$\n",
    "\\begin{align*}\n",
    "    y_1 &= y_0+h\\,f(t_1,y_1),\\\\\n",
    "    y_1 &= y_0 + h\\,\\dfrac{y_1}{2},\\\\\n",
    "    y_1 - h\\,\\dfrac{y_1}{2}&= y_0,\\\\\n",
    "    y_1\\,\\left(1 - \\dfrac{h}{2}\\right)&= y_0,\\\\\n",
    "    y_1 &= \\dfrac{y_0}{1 - \\dfrac{h}{2}},\\\\\n",
    "        &= \\dfrac{1}{1 - \\dfrac{1/2}{2}},\\\\\n",
    "        &= \\dfrac{1}{1 - \\dfrac{1}{4}},\\\\\n",
    "    y_1 &\\approx 1.33333333333333. \n",
    "\\end{align*}\n",
    "$$\n",
    "\n",
    "Now, we can compare it to the **algebraic solution**.\n",
    "$$\n",
    "\\begin{align*}\n",
    "    \\textrm{Error}_{\\textrm{Backward Euler}} \n",
    "        &= \\left| y_1 - \\exp\\left(\\dfrac{t_1}{2}\\right)\\right|\\\\\n",
    "        &\\approx \\left| 1.33333333333333 - \\exp\\left(\\dfrac{1}{4}\\right)\\right|\\\\\n",
    "        &\\approx \\left| 1.33333333333333 - 1.28402541668774\\right|\\\\\n",
    "        &\\approx 0.0493079166455919.\n",
    "\\end{align*}\n",
    "$$"
   ]
  },
  {
   "cell_type": "markdown",
   "metadata": {},
   "source": [
    "## One step for \"My First IVP\" - **RK2**\n",
    "Backward Euler method is the following:\n",
    "$$\n",
    "\\begin{align*}\n",
    "    k_{1} &= f(t_i,y_i) \\\\\n",
    "    y_{i+1} &= y_i + h\\,f\\left(t_i + \\dfrac{h}{2}, y_i + \\dfrac{h}{2}\\,k_1\\right)\n",
    "\\end{align*}\n",
    "$$\n",
    "Thus,\n",
    "$$\n",
    "\\begin{align*}\n",
    "    k_1 &= f(t_0,y_0) = \\dfrac{y_0}{2} = \\dfrac{1}{2}.\\\\\n",
    "    y_1 &= y_0 + h\\,f\\left(t_0+\\dfrac{h}{2},y_0 + \\dfrac{h}{2}\\,k_1\\right),\\\\\n",
    "        &= 1 + \\dfrac{1}{2}\\,f\\left(0+\\dfrac{1}{4},1 + \\dfrac{1}{4}\\,\\dfrac{1}{2}\\right),\\\\\n",
    "        &= 1 + \\dfrac{1}{2}\\,f\\left(\\dfrac{1}{4},\\dfrac{9}{8}\\right),\\\\\n",
    "        &= 1 + \\dfrac{1}{2}\\,\\dfrac{\\frac{9}{8}}{2},\\\\\n",
    "        &= 1 + \\dfrac{1}{2}\\,\\frac{9}{16},\\\\\n",
    "        &= 1 + \\frac{9}{32},\\\\\n",
    "        &= \\frac{41}{32},\\\\\n",
    "    y_1 &= 1.28125.\n",
    "\\end{align*}\n",
    "$$\n",
    "\n",
    "Now, we can compare it to the **algebraic solution**.\n",
    "$$\n",
    "\\begin{align*}\n",
    "    \\textrm{Error}_{\\textrm{RK2}} \n",
    "        &= \\left| y_1 - \\exp\\left(\\dfrac{t_1}{2}\\right)\\right|\\\\\n",
    "        &\\approx \\left| 1.28125. - \\exp\\left(\\dfrac{1}{4}\\right)\\right|\\\\\n",
    "        &\\approx \\left| 1.28125. - 1.28402541668774\\right|\\\\\n",
    "        &\\approx 0.00277541668774139.\n",
    "\\end{align*}\n",
    "$$"
   ]
  },
  {
   "cell_type": "markdown",
   "metadata": {},
   "source": [
    "## Conclusions of the Theoretical Analysis\n",
    "- The error for the Euler's method and Backward Euler method are comparable.\n",
    "- The error for RK2 is much smaller than Euler's method and the Backward Euler method.\n",
    "\n",
    "**Challenge:** _Could you do the one-step computation for RK4?_"
   ]
  },
  {
   "attachments": {},
   "cell_type": "markdown",
   "metadata": {},
   "source": [
    "# My First IVP - Numerical Analysis\n",
    "Now, we will solve the problem numerically.\n",
    "\n",
    "For completeness, we repeat here the ODE under study.\n",
    "$$\n",
    "\\begin{align*}\n",
    "    \\dot{y}(t) &= \\dfrac{1}{2}\\,y(t), \\quad t\\in]0,10],&& \\leftarrow \\textrm{The equation/model and its domain},\\\\\n",
    "    y(0) &= 1, && \\leftarrow \\textrm{The initial condition}.\n",
    "\\end{align*}\n",
    "$$\n",
    "\n",
    "Now, we implement the **numerical solution** for _several time steps_."
   ]
  },
  {
   "cell_type": "code",
   "execution_count": 4,
   "metadata": {},
   "outputs": [],
   "source": [
    "# Defining 'f'\n",
    "f = lambda t,y: y/2\n",
    "\n",
    "# Defining 't'\n",
    "T =10\n",
    "t = np.linspace(0,T,21)\n",
    "\n",
    "# Defining the output 'vector'\n",
    "y = np.zeros(21)\n",
    "\n",
    "# Setting up the initial condition\n",
    "y[0] = 1"
   ]
  },
  {
   "cell_type": "markdown",
   "metadata": {},
   "source": [
    "Solving it numerically with the Euler's method"
   ]
  },
  {
   "cell_type": "code",
   "execution_count": 5,
   "metadata": {},
   "outputs": [],
   "source": [
    "# Setting up the h=\\Delta t\n",
    "h = 0.5\n",
    "\n",
    "# Computing the approximation\n",
    "for i in np.arange(20):\n",
    "    ##################################################\n",
    "    # Explicit implementation\n",
    "    ##################################################\n",
    "    y[i+1] = y[i]+ h*f(t[i],y[i])\n",
    "    \n",
    "    ##################################################\n",
    "    # using One Step Implementation\n",
    "    ##################################################\n",
    "    # y[i+1] = eulerMethod_one_step(y[i],t[i],f,h)"
   ]
  },
  {
   "cell_type": "markdown",
   "metadata": {},
   "source": [
    "Plotting the outcome"
   ]
  },
  {
   "cell_type": "code",
   "execution_count": 6,
   "metadata": {},
   "outputs": [
    {
     "data": {
      "image/png": "[encoded data removed]",
      "text/plain": [
       "<Figure size 640x480 with 1 Axes>"
      ]
     },
     "metadata": {},
     "output_type": "display_data"
    }
   ],
   "source": [
    "# The exact solution for this IVP. NOTICE: This is not possible in general, but it is possible for this case!\n",
    "y_exact = lambda t: np.exp(t/2)\n",
    "tt = np.linspace(0,T,1000)\n",
    "\n",
    "plt.figure()\n",
    "plt.plot(t,y,'.', color='orange', label='Euler\\'s method approximation')\n",
    "plt.plot(tt,y_exact(tt),'b-', label='Exact solution')\n",
    "plt.xlabel(r'$t$')\n",
    "plt.grid(True)\n",
    "plt.legend(loc='best')\n",
    "plt.show()"
   ]
  },
  {
   "cell_type": "markdown",
   "metadata": {},
   "source": [
    "# How can we improve this?\n",
    "Consider a more general case,\n",
    "$$\n",
    "\\begin{align*}\n",
    "    \\dot{y}(t) &= \\alpha\\,\\,y(t), \\quad t\\in]0,10],&& \\leftarrow \\textrm{The equation/model and its domain},\\\\\n",
    "    y(0) &= 1, && \\leftarrow \\textrm{The initial condition}.\n",
    "\\end{align*}\n",
    "$$"
   ]
  },
  {
   "cell_type": "code",
   "execution_count": 7,
   "metadata": {},
   "outputs": [],
   "source": [
    "def plot_all_solvers(N=20,alpha=0.5,flagBackwardEuler=False,flagRK2=False,flagRK4=False,flagError=False,flagConvergence=False):\n",
    "\n",
    "    # Parameters for discrete approximation\n",
    "    t0 = 0.\n",
    "    T = 10.\n",
    "    y0 = 1.\n",
    "    f = lambda t,y: alpha*y\n",
    "    \n",
    "    # Time discretization for 'exact/continuous' solution\n",
    "    tt = np.linspace(0,T,1000)\n",
    "    y_exact = lambda t: np.exp(alpha*t)\n",
    "    \n",
    "    # Computing three different 'numerical approximations'\n",
    "    t, y_euler = eulerMethod(t0,T,N,y0,f)\n",
    "    if flagBackwardEuler:\n",
    "       _, y_backward_euler = backwardEulerMethod(t0,T,N,y0,f) \n",
    "    if flagRK2:\n",
    "        _, y_RK2 = RK2(t0,T,N,y0,f)\n",
    "    if flagRK4:\n",
    "        _, y_RK4 = RK4(t0,T,N,y0,f)\n",
    "    \n",
    "    plt.figure(figsize=(15,5))\n",
    "    plt.subplot(131)\n",
    "    plt.plot(tt,y_exact(tt),'-', color='blue', label='Exact solution')\n",
    "    plt.plot(t,y_euler,'d', color='orange', label='Euler\\'s method',markersize=8,alpha=0.7)\n",
    "    if flagBackwardEuler:\n",
    "        plt.plot(t,y_backward_euler,'x', color='purple', label='Back. Euler method',markersize=7,alpha=0.7) \n",
    "    if flagRK2:\n",
    "        plt.plot(t,y_RK2,'s', color='green', label='RK2 method',markersize=6,alpha=0.7)\n",
    "    if flagRK4:\n",
    "        plt.plot(t,y_RK4,'.', color='red', label='RK4 method',markersize=5)\n",
    "    plt.xlabel(r'$t$')\n",
    "    plt.grid(True)\n",
    "    plt.legend(loc='best')\n",
    "    plt.title(f'Num. Approx using N=%d'%(N+1))\n",
    "   \n",
    "    if flagError:\n",
    "        plt.subplot(132)\n",
    "        plt.semilogy(t,np.abs(y_euler-y_exact(t)),'.', color='orange', label='Error Euler\\'s method',markersize=8,alpha=0.5)\n",
    "        if flagBackwardEuler:\n",
    "            plt.semilogy(t,np.abs(y_backward_euler-y_exact(t)),'.', color='purple', label='Back. Euler method',markersize=8,alpha=0.5) \n",
    "        if flagRK2:\n",
    "            plt.semilogy(t,np.abs(y_RK2-y_exact(t)),'.', color='green', label='Error RK2 method',markersize=8,alpha=0.7)\n",
    "        if flagRK4:\n",
    "            plt.semilogy(t,np.abs(y_RK4-y_exact(t)),'.', color='red', label='Error RK4 method',markersize=8,alpha=0.7)\n",
    "        plt.xlabel(r'$t$')\n",
    "        plt.grid(True)\n",
    "        plt.legend(loc='lower right')\n",
    "        plt.title(f'Error over time using N=%d'%(N+1))\n",
    "        \n",
    "    if flagConvergence:\n",
    "        Ns = np.logspace(1,4,5,dtype=int)\n",
    "        hs = T/(Ns-1)\n",
    "        y_euler_final_step = np.zeros_like(hs)\n",
    "        if flagBackwardEuler:\n",
    "            y_backward_euler_final_step = np.zeros_like(hs) \n",
    "        if flagRK2:\n",
    "            y_RK2_final_step = np.zeros_like(hs)\n",
    "        if flagRK4: \n",
    "            y_RK4_final_step = np.zeros_like(hs)\n",
    "            \n",
    "        for i, N in np.ndenumerate(Ns):\n",
    "            _ , y_euler = eulerMethod(t0,T,N,y0,f)\n",
    "            y_euler_final_step[i]=y_euler[-1]\n",
    "            if flagBackwardEuler:\n",
    "               _, y_backward_euler = backwardEulerMethod(t0,T,N,y0,f)\n",
    "               y_backward_euler_final_step[i]=y_backward_euler[-1] \n",
    "            if flagRK2:\n",
    "                _, y_RK2 = RK2(t0,T,N,y0,f)\n",
    "                y_RK2_final_step[i]=y_RK2[-1]\n",
    "            if flagRK4:\n",
    "                _, y_RK4 = RK4(t0,T,N,y0,f)\n",
    "                y_RK4_final_step[i]=y_RK4[-1]\n",
    "        plt.subplot(133)\n",
    "        plt.loglog(hs,np.abs(y_exact(T)-y_euler_final_step),'.', color='orange', label='Error Euler\\'s method',markersize=8,alpha=0.5)\n",
    "        if flagBackwardEuler:\n",
    "            plt.loglog(hs,np.abs(y_exact(T)-y_backward_euler_final_step),'.', color='purple', label='Error Back. Euler method',markersize=8,alpha=0.5) \n",
    "        if flagRK2:\n",
    "            plt.loglog(hs,np.abs(y_exact(T)-y_RK2_final_step),'.', color='green', label='Error RK2\\'s method',markersize=8,alpha=0.5)\n",
    "        if flagRK4:\n",
    "            plt.loglog(hs,np.abs(y_exact(T)-y_RK4_final_step),'.', color='red', label='Error RK4\\'s method',markersize=8,alpha=0.5)\n",
    "        plt.xlabel(r'$h$')\n",
    "        plt.grid(True)\n",
    "        #plt.legend(loc='lower right')\n",
    "        plt.title(r'$|y_N-y_{\\text{exact}}(T)|$')\n",
    "    plt.show()"
   ]
  },
  {
   "cell_type": "markdown",
   "metadata": {},
   "source": [
    "Suggested numerical exploration for the parameters:\n",
    "1. Observe the error and convergence for Euler's method\n",
    "1. Observe the error and convergence for Euler's method and RK2\n",
    "1. Observe the error and convergence for Euler's method, RK2 and RK4. What can you conclude?\n",
    "1. Use $\\alpha=-10$ and $N=20$. What is happening?\n",
    "1. $\\alpha=-10$, increase $N=20$. When does it improve?"
   ]
  },
  {
   "cell_type": "code",
   "execution_count": 8,
   "metadata": {},
   "outputs": [
    {
     "data": {
      "application/vnd.jupyter.widget-view+json": {
       "model_id": "779625e31271403fb566ac01d5bd7284",
       "version_major": 2,
       "version_minor": 0
      },
      "text/plain": [
       "interactive(children=(IntSlider(value=20, description='N', max=1000, min=2), FloatSlider(value=0.5, descriptio…"
      ]
     },
     "metadata": {},
     "output_type": "display_data"
    },
    {
     "data": {
      "text/plain": [
       "<function __main__.plot_all_solvers(N=20, alpha=0.5, flagBackwardEuler=False, flagRK2=False, flagRK4=False, flagError=False, flagConvergence=False)>"
      ]
     },
     "execution_count": 8,
     "metadata": {},
     "output_type": "execute_result"
    }
   ],
   "source": [
    "interact(plot_all_solvers,N=(2,1000,1),alpha=(-10,2,0.1))"
   ]
  },
  {
   "cell_type": "code",
   "execution_count": 9,
   "metadata": {},
   "outputs": [],
   "source": [
    "def plot_all_solvers_error(N_euler=20, N_BackEuler=20, N_RK2=20, N_RK4=20, alpha=0.5):\n",
    "\n",
    "    # Parameters for discrete approximation\n",
    "    t0 = 0.\n",
    "    T = 10.\n",
    "    y0 = 1.\n",
    "    f = lambda t,y: alpha*y\n",
    "    \n",
    "    # Time discretization for 'exact/continuous' solution\n",
    "    tt = np.linspace(0,T,1000)\n",
    "    y_exact = lambda t: np.exp(alpha*t)\n",
    "    \n",
    "    # Computing three different 'numerical approximations'\n",
    "    t_euler, y_euler = eulerMethod(t0,T,N_euler,y0,f)\n",
    "    t_back_euler, y_back_euler = backwardEulerMethod(t0,T,N_BackEuler,y0,f) \n",
    "    t_RK2, y_RK2 = RK2(t0,T,N_RK2,y0,f)\n",
    "    t_RK4, y_RK4 = RK4(t0,T,N_RK4,y0,f)\n",
    "    \n",
    "    plt.figure(figsize=(10,5))\n",
    "    plt.subplot(121)\n",
    "    plt.plot(tt,y_exact(tt),'-', color='blue', label='Exact solution')\n",
    "    plt.plot(t_euler,y_euler,'d', color='orange', label='Euler\\'s method',markersize=8,alpha=0.5)\n",
    "    plt.plot(t_back_euler,y_back_euler,'x', color='purple', label='Back. Euler\\'s method',markersize=8,alpha=0.5)\n",
    "    plt.plot(t_RK2,y_RK2,'s', color='green', label='RK2 method',markersize=6,alpha=0.5)\n",
    "    plt.plot(t_RK4,y_RK4,'.', color='red', label='RK4 method',markersize=5,alpha=0.5)\n",
    "    plt.xlabel(r'$t$')\n",
    "    plt.grid(True)\n",
    "    plt.legend(loc='best')\n",
    "    plt.title(f'Num. Approx')\n",
    "   \n",
    "    plt.subplot(122)\n",
    "    plt.semilogy(t_euler,np.abs(y_euler-y_exact(t_euler)),'.', color='orange', label='Error Euler\\'s method',markersize=8,alpha=0.5)\n",
    "    plt.semilogy(t_back_euler,np.abs(y_back_euler-y_exact(t_back_euler)),'.', color='purple', label='Error Euler\\'s method',markersize=8,alpha=0.5) \n",
    "    plt.semilogy(t_RK2,np.abs(y_RK2-y_exact(t_RK2)),'.', color='green', label='Error RK2 method',markersize=8,alpha=0.5)\n",
    "    plt.semilogy(t_RK4,np.abs(y_RK4-y_exact(t_RK4)),'.', color='red', label='Error RK4 method',markersize=8,alpha=0.5)\n",
    "    plt.xlabel(r'$t$')\n",
    "    plt.grid(True)\n",
    "    plt.legend(loc='best')\n",
    "    plt.title(f'Error over time')\n",
    "    plt.show()"
   ]
  },
  {
   "cell_type": "markdown",
   "metadata": {},
   "source": [
    "The purpose of this numerical experiment is to show that it is very computational convenient to use higher order methods in general since if will require less **computation** to obtain a much better numerical approximations.\n",
    "\n",
    "Experiments:\n",
    "1. How could count the number of operations used for each solver?\n",
    "1. Consider N_RK4=20: **What values for N_euler and N_RK2 to have a comparable error?**\n",
    "1. Consider N_RK4=100: **What values for N_euler and N_RK2 to have a comparable error?**\n",
    "1. Consider N_RK4=500: **What values for N_euler and N_RK2 to have a comparable error?**"
   ]
  },
  {
   "cell_type": "code",
   "execution_count": 10,
   "metadata": {},
   "outputs": [
    {
     "data": {
      "application/vnd.jupyter.widget-view+json": {
       "model_id": "ad7fc834a8854c8b955efdf96346ab28",
       "version_major": 2,
       "version_minor": 0
      },
      "text/plain": [
       "interactive(children=(IntSlider(value=20, description='N_euler', max=10000, min=2), IntSlider(value=20, descri…"
      ]
     },
     "metadata": {},
     "output_type": "display_data"
    },
    {
     "data": {
      "text/plain": [
       "<function __main__.plot_all_solvers_error(N_euler=20, N_BackEuler=20, N_RK2=20, N_RK4=20, alpha=0.5)>"
      ]
     },
     "execution_count": 10,
     "metadata": {},
     "output_type": "execute_result"
    }
   ],
   "source": [
    "interact(plot_all_solvers_error,N_euler=(2,10000,1),N_BackEuler=(2,10000,1),N_RK2=(2,10000,1),N_RK4=(2,10000,1),alpha=(-10,2,0.1))"
   ]
  },
  {
   "attachments": {},
   "cell_type": "markdown",
   "metadata": {},
   "source": [
    "<div id='acknowledgements' />\n",
    "\n",
    "# Acknowledgements\n",
    "[Back to TOC](#toc)\n",
    "\n",
    "- _Material originally created by professor  Claudio Torres_ (`ctorres@inf.utfsm.cl`) _ DI UTFSM. June 2024.\n",
    "- _Update June 2024 - v1.01 - C.Torres_ : Adding second widget about computational cost and error.\n",
    "- _Update June 2024 - v1.02 - C.Torres_ : Adding Backward Euler method and a **theoretical analysis** for the understanding of the numerical algorithms.\n",
    "- _Update June 2024 - v1.03 - C.Torres_ : Extending Backward Euler method to nD problems."
   ]
  },
  {
   "cell_type": "code",
   "execution_count": null,
   "metadata": {},
   "outputs": [],
   "source": []
  }
 ],
 "metadata": {
  "anaconda-cloud": {},
  "kernelspec": {
   "display_name": "Python 3.9.12 ('base')",
   "language": "python",
   "name": "python3"
  },
  "language_info": {
   "codemirror_mode": {
    "name": "ipython",
    "version": 3
   },
   "file_extension": ".py",
   "mimetype": "text/x-python",
   "name": "python",
   "nbconvert_exporter": "python",
   "pygments_lexer": "ipython3",
   "version": "3.12.2"
  },
  "vscode": {
   "interpreter": {
    "hash": "be29b946057c80ffef9af054603c17eefe4352d2c0caf18ac01a8c63bdfe4f5b"
   }
  }
 },
 "nbformat": 4,
 "nbformat_minor": 4
}
