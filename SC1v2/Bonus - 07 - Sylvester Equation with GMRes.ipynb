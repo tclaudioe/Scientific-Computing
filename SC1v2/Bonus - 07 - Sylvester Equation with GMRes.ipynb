{
 "cells": [
  {
   "attachments": {},
   "cell_type": "markdown",
   "metadata": {},
   "source": [
    "<center>\n",
    "    <img src=\"http://sct.inf.utfsm.cl/wp-content/uploads/2020/04/logo_di.png\" style=\"width:60%\">\n",
    "    <h1> INF285 - Computación Científica </h1>\n",
    "    <h2> Sylvester Equation with GMRes </h2>\n",
    "    <h2> <a href=\"#acknowledgements\"> [S]cientific [C]omputing [T]eam </a> </h2>\n",
    "    <h2> Version: 1.03</h2>\n",
    "</center>"
   ]
  },
  {
   "attachments": {},
   "cell_type": "markdown",
   "metadata": {},
   "source": [
    "<div id='toc' />\n",
    "\n",
    "## Table of Contents\n",
    "* [Sylvester Equation](#sylvester)\n",
    "* [GMRes with afun(x)](#GMRes)\n",
    "* [Using a Jacobi/Gauss-Seidel as iterative solver](#jacAndGSIterative)\n",
    "* [Using the beautiful GMRes](#GMResTest)\n",
    "* [Challenge](#chal)\n",
    "* [Acknowledgements](#acknowledgements)"
   ]
  },
  {
   "cell_type": "code",
   "execution_count": 1,
   "metadata": {},
   "outputs": [],
   "source": [
    "import numpy as np\n",
    "import scipy as sp\n",
    "from scipy import linalg as la\n",
    "import scipy.sparse.linalg as spla\n",
    "import matplotlib.pyplot as plt\n",
    "%matplotlib inline\n",
    "import matplotlib as mpl\n",
    "mpl.rcParams['font.size'] = 14\n",
    "mpl.rcParams['axes.labelsize'] = 20\n",
    "mpl.rcParams['xtick.labelsize'] = 14\n",
    "mpl.rcParams['ytick.labelsize'] = 14"
   ]
  },
  {
   "attachments": {},
   "cell_type": "markdown",
   "metadata": {},
   "source": [
    "<div id='sylvester' />\n",
    "\n",
    "# Sylvester Equation\n",
    "\n",
    "The Sylvester Equation has the following form matricial form:\n",
    "$$A\\,X+X\\,B=C$$\n",
    "where $A\\in\\mathbb{R}^{n\\times n}$, $B\\in\\mathbb{R}^{n\\times n}$, $C\\in\\mathbb{R}^{n\\times n}$ and $X\\in\\mathbb{R}^{n\\times n}$.\n",
    "$A$, $B$ and $C$ are given, the problem is to find the matrix $X$.\n",
    "See https://en.wikipedia.org/wiki/Sylvester_equation.\n",
    "Thus, an algorithm as PALU or classical version of iterative solvers can't be applied directly.\n",
    "If you want to do so, please take a look to the ```vec``` operator: https://en.wikipedia.org/wiki/Vectorization_%28mathematics%29 , together with NumPy flatten(order='F') procedure and the NumPy Kronecker product of two arrays, np.kron.\n",
    "Notice that if you really want to translate the Sylvester Equation into the tradicional form $\\widehat{A}\\,\\widehat{\\mathbf{x}}=\\widehat{\\mathbf{b}}$, just be aware that $\\widehat{A}\\in\\mathbb{R}^{n^2\\times n^2}$, $\\widehat{\\mathbf{x}}\\in\\mathbb{R}^{n^2}$, and $\\widehat{\\mathbf{b}}\\in\\mathbb{R}^{n^2}$.\n",
    "This means that if $n$ is large, $n^2$ is huge!\n",
    "And you may not have enough memory to store $\\widehat{A}$."
   ]
  },
  {
   "attachments": {},
   "cell_type": "markdown",
   "metadata": {},
   "source": [
    "## Vectorization: A quick review\n",
    "\n",
    "In Mathematics the ```vec``` operator is an operator that translate a matrix into a vector as follows:\n",
    "$$\n",
    "\\text{vec}\n",
    "\\left(\n",
    "\\begin{bmatrix}\n",
    "  a & b \\\\\n",
    "  c & d\n",
    "\\end{bmatrix}\n",
    "\\right)\n",
    "=\n",
    "\\begin{bmatrix}\n",
    "  a \\\\\n",
    "  c \\\\\n",
    "  b \\\\\n",
    "  d\n",
    "\\end{bmatrix}.\n",
    "$$\n",
    "This can be achieved with the ```flatten``` function from NumPy with the parameter ```F```. Consider the following numerical example:"
   ]
  },
  {
   "cell_type": "code",
   "execution_count": 2,
   "metadata": {},
   "outputs": [
    {
     "name": "stdout",
     "output_type": "stream",
     "text": [
      "[[1 3]\n",
      " [2 4]]\n",
      "[1 2 3 4]\n"
     ]
    }
   ],
   "source": [
    "A = np.array([[1, 3],[2, 4]])\n",
    "print(A)\n",
    "print(A.flatten('F'))"
   ]
  },
  {
   "attachments": {},
   "cell_type": "markdown",
   "metadata": {},
   "source": [
    "Why is the ```vec``` operator useful?\n",
    "This operator is useful because of the following identity for the matrices $A$, $B$, and $C$ that belong to $\\mathbb{R}^{n\\times n}$:\n",
    "$$\n",
    "\\text{vec}\n",
    "\\left(\n",
    "A\\,B\\,C\n",
    "\\right)\n",
    "=\n",
    "(C^T \\otimes A)\\,\\text{vec}(B),\n",
    "$$\n",
    "where $\\otimes$ is the [Kronecker product](https://en.wikipedia.org/wiki/Kronecker_product).\n",
    "This implies that the Sylvester equation $A\\,X+X\\,B=C$, after adding two identity matrices $I\\in\\mathbb{R}^{n\\times n}$ conveniently we obtain,\n",
    "$$\n",
    "A\\,X\\,I+I\\,X\\,B=C,\n",
    "$$\n",
    "so, if we apply the ```vec``` operator we obtain,\n",
    "$$\n",
    "\\begin{align}\n",
    "    \\text{vec}(A\\,X\\,I+I\\,X\\,B) & = \\text{vec}(C)\\\\\n",
    "    \\text{vec}(A\\,X\\,I)+\\text{vec}(I\\,X\\,B) & = \\text{vec}(C)\\\\\n",
    "    (I \\otimes A)\\,\\text{vec}(X)+(B^T \\otimes I)\\text{vec}(X) & = \\text{vec}(C)\\\\\n",
    "    \\left((I \\otimes A)+(B^T \\otimes I)\\right)\\text{vec}(X) & = \\text{vec}(C).\n",
    "\\end{align}\n",
    "$$\n",
    "Thus, the true linear system we are solving is the following:\n",
    "$$\n",
    "\\widehat{A}\\,\\widehat{\\mathbf{x}}=\\widehat{\\mathbf{b}},\n",
    "$$\n",
    "where,\n",
    "$$\n",
    "\\begin{align}\n",
    "    \\widehat{A} & = (I \\otimes A)+(B^T \\otimes I) \\in \\mathbb{R}^{n^2\\times n^2},\\\\\n",
    "    \\widehat{\\mathbf{x}} &= \\text{vec}(X) \\in \\mathbb{R}^{n^2},\\\\\n",
    "    \\widehat{\\mathbf{b}} &= \\text{vec}(C) \\in \\mathbb{R}^{n^2}.\n",
    "\\end{align}\n",
    "$$\n",
    "Why don't we just use PALU with $\\widehat{A}\\,\\widehat{\\mathbf{x}}=\\widehat{\\mathbf{b}}$?\n",
    "Because we may run out of memory!\n",
    "Notice that the original matrices are of size $n \\times n$, but $\\widehat{A}$ is of size $n^2 \\times n^2 $, which may be huge depending on the value of $n$!"
   ]
  },
  {
   "attachments": {},
   "cell_type": "markdown",
   "metadata": {},
   "source": [
    "<div id='GMRes' />\n",
    "\n",
    "# GMRes with afun($\\mathbf{x}$)\n",
    "[Back to TOC](#toc)\n",
    "\n",
    "GMRes is a member of the family of Krylov methods. It finds an approximation of $\\mathbf{x}$ restricted to _live_ on the Krylov sub-space $\\mathcal{K_k}$,  where $\\mathcal{K_k}=\\{\\mathbf{r}_0, A\\,\\mathbf{r}_0, A^2\\,\\mathbf{r}_0, \\cdots, A^{k-1}\\,\\mathbf{r}_0\\}$ and $\\mathbf{r}_0 = \\mathbf{b} - A\\,\\mathbf{x}_0$ is the residual vector of the initial guess.\n",
    "\n",
    "The idea behind this method is to look for improvements to the initial guess $\\mathbf{x}_0$ in the Krylov space. At the $k$-th iteration, we enlarge the Krylov space by adding $A^k\\,\\mathbf{r}_0$, reorthogonalize the basis, and then use least squares to find the best improvement to add to $\\mathbf{x}_0$.\n",
    "\n",
    "The algorithm is as follows:"
   ]
  },
  {
   "attachments": {},
   "cell_type": "markdown",
   "metadata": {},
   "source": [
    "`Generalized Minimum Residual Method`\n",
    "\n",
    "$\\mathbf{x}_0$ `= initial guess`<br>\n",
    "$\\mathbf{r}$ `=` $\\mathbf{b} - A\\,\\mathbf{x}_0$ `=` $\\mathbf{b} - $<span style=\"color:blue\">afun</span>$(\\mathbf{x}_0)$<br>\n",
    "$\\mathbf{q}_1$ `=` $\\mathbf{r} / \\|\\mathbf{r}\\|_2$<br>\n",
    "`for` $k = 1, ..., m$<br>\n",
    "$\\qquad \\ \\ \\mathbf{y} = A\\,\\mathbf{q}_k$ = <span style=\"color:blue\">afun</span>$(\\mathbf{q}_k)$ <br>\n",
    "$\\qquad$ `for` $j = 1,2,...,k$ <br>\n",
    "$\\qquad \\qquad$ $h_{jk} = \\mathbf{q}_j^*\\,\\mathbf{y}$<br>\n",
    "$\\qquad \\qquad$ $\\mathbf{y} = \\mathbf{y} - h_{jk}\\, \\mathbf{q}_j$<br>\n",
    "$\\qquad$ `end`<br>\n",
    "$\\qquad h_{k+1,k} = \\|y\\|_2 \\qquad$ `(If ` $h_{k+1,k} = 0$ `, skip next line and terminate at bottom.)` <br>\n",
    "$\\qquad \\ \\mathbf{q}_{k+1} = \\mathbf{y}/h_{k+1,k}$ <br>\n",
    "$\\qquad$ `Minimize` $\\left\\|\\widehat{H}_k\\, \\mathbf{c}_k - [\\|\\mathbf{r}\\|_2, \\, 0, \\, 0, \\, ..., \\, 0]^T \\right\\|_2$ `for` $\\mathbf{c}_k$ <br>\n",
    "$\\qquad$ $\\mathbf{x}_k = Q_k \\, \\mathbf{c}_k + \\mathbf{x}_0$ <br>\n",
    "`end`"
   ]
  },
  {
   "attachments": {},
   "cell_type": "markdown",
   "metadata": {},
   "source": [
    "<div id='jacAndGSIterative' />\n",
    "\n",
    "# Using a Jacobi/Gauss-Seidel iterative solver\n",
    "[Back to TOC](#toc)\n",
    "\n",
    "The Sylvester Equation could be solve iteratively by building matrix-fix-point-iterative procedures.\n",
    "For instance, we propose 2 algorihtms, the first one is derived as follows,\n",
    "\\begin{align*}\n",
    "    A\\,X+X\\,B &= C,\\\\\n",
    "    X &= A^{-1}\\,(C-X\\,B),\\\\\n",
    "    X^{(0)} &= \\underline{\\underline{0}},\\\\\n",
    "    X^{(i+1)} &= A^{-1}\\,(C-X^{(i)}\\,B),\n",
    "\\end{align*}\n",
    "where $\\underline{\\underline{0}}$ is the matrix of dimension $n\\times n$ o $0$.\n",
    "Recall **please** that we don't compute the inverse of a matrix in general, i.e. we don't need to compute $A^{-1}$, but what we do is to solve the corresponding linear system of equations.\n",
    "The second alternative is the following,\n",
    "\\begin{align*}\n",
    "    A\\,X+X\\,B &= C,\\\\\n",
    "    X &= (C-A\\,X)\\,B^{-1},\\\\\n",
    "    X^{(0)} &= \\underline{\\underline{0}},\\\\\n",
    "    X^{(i+1)} &= (C-A\\,X^{(i)})\\,B^{-1},\n",
    "\\end{align*}\n",
    "where, again, **please** don't compute the inverse of $B$.\n",
    "However in this case is a bit more challenging the implementation since it is a bit trickier to get the corresponding linear system of equation, just think out of the ```transpose```-box!"
   ]
  },
  {
   "cell_type": "code",
   "execution_count": 3,
   "metadata": {},
   "outputs": [],
   "source": [
    "def solve_JGS_iterative_Sylvester(A,B,C,m,alg=1):\n",
    "    if alg==1:\n",
    "        # Algorithm 1\n",
    "        # AX+XB=C\n",
    "        # X=A^{-1}(C-XB)\n",
    "        # X^{(i+1)}=A^{-1}(C-X^{(i)} B)\n",
    "        X0 = np.zeros_like(A)\n",
    "        X1 = np.zeros_like(A)\n",
    "        for i in range(m):\n",
    "            X1=np.linalg.solve(A,C-np.dot(X0,B))\n",
    "            X0=X1\n",
    "            # Just 'printing' a residual!\n",
    "            print(np.linalg.norm(np.dot(A,X1)+np.dot(X1,B)-C))\n",
    "        return X1\n",
    "#    elif algo==2: # TO DO !!!!!!!!!!!!!\n",
    "        # Algorithm 2\n",
    "        # AX+XB=C\n",
    "        # X = (C-AX)B^{-1}\n",
    "        # X^{(i+1)}=(C-A X^{(i)})B^{-1}\n",
    "        # How do we implement this? Hint: You only need to use np.linalg.solve in a convenient way."
   ]
  },
  {
   "cell_type": "code",
   "execution_count": 4,
   "metadata": {},
   "outputs": [],
   "source": [
    "# First TEST\n",
    "n = 10\n",
    "np.random.seed(0)\n",
    "A = np.random.rand(n,n)+10*np.eye(n)\n",
    "#print(np.linalg.eigvals(A))\n",
    "B = np.random.rand(n,n)\n",
    "#print(np.linalg.eigvals(B))\n",
    "C = np.random.rand(n,n)"
   ]
  },
  {
   "cell_type": "code",
   "execution_count": 5,
   "metadata": {},
   "outputs": [
    {
     "name": "stdout",
     "output_type": "stream",
     "text": [
      "1.9907084066946081\n",
      "0.8043165445235992\n",
      "0.3633069939849517\n",
      "0.18339713376573877\n",
      "0.09990241167316857\n",
      "0.05657422650777181\n",
      "0.03258207341158652\n",
      "0.018893884242102987\n",
      "0.010986814278637508\n",
      "0.00639621207872684\n"
     ]
    }
   ],
   "source": [
    "X_JGS=solve_JGS_iterative_Sylvester(A,B,C,10)"
   ]
  },
  {
   "attachments": {},
   "cell_type": "markdown",
   "metadata": {},
   "source": [
    "So, since the residual is decreasing we expect convergence. Let's look at the following example,"
   ]
  },
  {
   "cell_type": "code",
   "execution_count": 6,
   "metadata": {},
   "outputs": [],
   "source": [
    "# Second TEST\n",
    "n = 10\n",
    "np.random.seed(0)\n",
    "A = np.random.rand(n,n)+2*np.eye(n)\n",
    "#print(np.linalg.eigvals(A))\n",
    "B = np.random.rand(n,n)\n",
    "#print(np.linalg.eigvals(B))\n",
    "C = np.random.rand(n,n)"
   ]
  },
  {
   "cell_type": "code",
   "execution_count": 7,
   "metadata": {},
   "outputs": [
    {
     "name": "stdout",
     "output_type": "stream",
     "text": [
      "8.06674588003015\n",
      "34.57406247675346\n",
      "168.70353729762985\n",
      "819.8919726957436\n",
      "3949.6601997495295\n",
      "18860.437124867964\n",
      "89325.87084866346\n",
      "419868.5695000343\n",
      "1959858.3262074112\n",
      "9089702.028396815\n"
     ]
    }
   ],
   "source": [
    "X_JGS=solve_JGS_iterative_Sylvester(A,B,C,10)"
   ]
  },
  {
   "attachments": {},
   "cell_type": "markdown",
   "metadata": {},
   "source": [
    "Unfortunately in this case it is divergent.\n",
    "One alternativs is to implement Algorithm 2 and hope it will converge.\n",
    "**A better alternative is to use GMRes!!**"
   ]
  },
  {
   "attachments": {},
   "cell_type": "markdown",
   "metadata": {},
   "source": [
    "<div id='GMResTest' />\n",
    "\n",
    "# Using the beautiful GMRes\n",
    "[Back to TOC](#toc)"
   ]
  },
  {
   "cell_type": "code",
   "execution_count": 8,
   "metadata": {},
   "outputs": [
    {
     "name": "stdout",
     "output_type": "stream",
     "text": [
      "residual:  5.336422186956609e-10\n"
     ]
    },
    {
     "name": "stderr",
     "output_type": "stream",
     "text": [
      "/var/folders/9y/fwh0nfx16wd6199vf_40_xkr0000gn/T/ipykernel_45493/1318436619.py:11: DeprecationWarning: 'scipy.sparse.linalg.gmres' keyword argument `tol` is deprecated in favor of `rtol` and will be removed in SciPy v1.14.0. Until then, if set, it will override `rtol`.\n",
      "  x, exitCode = spla.gmres(afun, C.flatten('F'), tol=1e-10)\n"
     ]
    }
   ],
   "source": [
    "# This function computes the 'matrix-vector' product of the matrix we don't have explicitly stored!!\n",
    "def compute_matrix_vector_product(x,A,B,n):\n",
    "    X = np.reshape(x,(n,n),order='F')\n",
    "    out = np.dot(A,X)+np.dot(X,B)\n",
    "    return out.flatten('F')\n",
    "# This is part of the interface that SciPy requires.\n",
    "Ax = lambda x: compute_matrix_vector_product(x,A,B,n)\n",
    "# This is the famous 'afun'!!\n",
    "afun = spla.LinearOperator((n**2, n**2), matvec=Ax)\n",
    "# Just running GMRes\n",
    "x, exitCode = spla.gmres(afun, C.flatten('F'), tol=1e-10)\n",
    "# Just reshaping the \n",
    "X_GMRes = np.reshape(x,(n,n),order='F')\n",
    "print('residual: ',np.linalg.norm(np.dot(A,X_GMRes)+np.dot(X_GMRes,B)-C))\n",
    "#print(X_GMRes)"
   ]
  },
  {
   "attachments": {},
   "cell_type": "markdown",
   "metadata": {},
   "source": [
    "This is beautiful!!\n",
    "We were able to solve a linear system of equations without even requiring to build the 'large' matrix associated to the linear system!"
   ]
  },
  {
   "attachments": {},
   "cell_type": "markdown",
   "metadata": {},
   "source": [
    "## Computing the 'truly' relative residues"
   ]
  },
  {
   "cell_type": "code",
   "execution_count": 9,
   "metadata": {},
   "outputs": [
    {
     "name": "stdout",
     "output_type": "stream",
     "text": [
      "1534827.066866048\n",
      "9.010730150645104e-11\n"
     ]
    }
   ],
   "source": [
    "Ax_JGS = Ax(X_JGS.flatten(order='F'))\n",
    "Ax_GMRes = Ax(X_GMRes.flatten(order='F'))\n",
    "c =  C.flatten(order='F')\n",
    "print(np.linalg.norm(Ax_JGS-c)/np.linalg.norm(c))\n",
    "print(np.linalg.norm(Ax_GMRes-c)/np.linalg.norm(c))"
   ]
  },
  {
   "attachments": {},
   "cell_type": "markdown",
   "metadata": {},
   "source": [
    "<div id='chal' />\n",
    "\n",
    "# Challenge: What do we need to change in our implementation of GMRes to be able to use the lambda function \"Ax\"?\n",
    "[Back to TOC](#toc)"
   ]
  },
  {
   "cell_type": "code",
   "execution_count": 10,
   "metadata": {},
   "outputs": [
    {
     "name": "stderr",
     "output_type": "stream",
     "text": [
      "<>:52: SyntaxWarning: invalid escape sequence '\\,'\n",
      "<>:53: SyntaxWarning: invalid escape sequence '\\,'\n",
      "<>:52: SyntaxWarning: invalid escape sequence '\\,'\n",
      "<>:53: SyntaxWarning: invalid escape sequence '\\,'\n",
      "/var/folders/9y/fwh0nfx16wd6199vf_40_xkr0000gn/T/ipykernel_45493/1148402014.py:52: SyntaxWarning: invalid escape sequence '\\,'\n",
      "  print('..........||b-A\\,x_k||=',norm_full)\n",
      "/var/folders/9y/fwh0nfx16wd6199vf_40_xkr0000gn/T/ipykernel_45493/1148402014.py:53: SyntaxWarning: invalid escape sequence '\\,'\n",
      "  print('..........||H_k\\,c_k-nr0*e1||',norm_small);\n"
     ]
    }
   ],
   "source": [
    "# This is a very instructive implementation of GMRes.\n",
    "def GMRes_Ax(A, b, x0=np.array([0.0]), m=10, flag_display=True, threshold=1e-12):\n",
    "    n = len(b)\n",
    "    if len(x0)==1:\n",
    "        x0=np.zeros(n)\n",
    "    r0 = b - np.dot(A, x0)\n",
    "    nr0=np.linalg.norm(r0)\n",
    "    out_res=np.array(nr0)\n",
    "    Q = np.zeros((n,n))\n",
    "    H = np.zeros((n,n))\n",
    "    Q[:,0] = r0 / nr0\n",
    "    flag_break=False\n",
    "    for k in np.arange(np.min((m,n))):\n",
    "        y = np.dot(A, Q[:,k])\n",
    "        if flag_display:\n",
    "            print('||y||=',np.linalg.norm(y))\n",
    "        for j in np.arange(k+1):\n",
    "            H[j][k] = np.dot(Q[:,j], y)\n",
    "            if flag_display:\n",
    "                print('H[',j,'][',k,']=',H[j][k])\n",
    "            y = y - np.dot(H[j][k],Q[:,j])\n",
    "            if flag_display:\n",
    "                print('||y||=',np.linalg.norm(y))\n",
    "        # All but the last equation are treated equally. Why?\n",
    "        if k+1<n:\n",
    "            H[k+1][k] = np.linalg.norm(y)\n",
    "            if flag_display:\n",
    "                print('H[',k+1,'][',k,']=',H[k+1][k])\n",
    "            if (np.abs(H[k+1][k]) > 1e-16):\n",
    "                Q[:,k+1] = y/H[k+1][k]\n",
    "            else:\n",
    "                print('flag_break has been activated')\n",
    "                flag_break=True\n",
    "            # Do you remember e_1? The canonical vector.\n",
    "            e1 = np.zeros((k+1)+1)        \n",
    "            e1[0]=1\n",
    "            H_tilde=H[0:(k+1)+1,0:k+1]\n",
    "        else:\n",
    "            H_tilde=H[0:k+1,0:k+1]\n",
    "        # Solving the 'SMALL' least square problem. \n",
    "        # This could be improved with Givens rotations!\n",
    "        ck = np.linalg.lstsq(H_tilde, nr0*e1)[0] \n",
    "        if k+1<n:\n",
    "            x = x0 + np.dot(Q[:,0:(k+1)], ck)\n",
    "        else:\n",
    "            x = x0 + np.dot(Q, ck)\n",
    "        # Why is 'norm_small' equal to 'norm_full'?\n",
    "        norm_small=np.linalg.norm(np.dot(H_tilde,ck)-nr0*e1)\n",
    "        out_res = np.append(out_res,norm_small)\n",
    "        if flag_display:\n",
    "            norm_full=np.linalg.norm(b-np.dot(A,x))\n",
    "            print('..........||b-A\\,x_k||=',norm_full)\n",
    "            print('..........||H_k\\,c_k-nr0*e1||',norm_small);\n",
    "        if flag_break:\n",
    "            if flag_display: \n",
    "                print('EXIT: flag_break=True')\n",
    "            break\n",
    "        if norm_small<threshold:\n",
    "            if flag_display:\n",
    "                print('EXIT: norm_small<threshold')\n",
    "            break\n",
    "    return x,out_res"
   ]
  },
  {
   "attachments": {},
   "cell_type": "markdown",
   "metadata": {},
   "source": [
    "<div id='acknowledgements' />\n",
    "\n",
    "# Acknowledgements\n",
    "* _Material created by professor Claudio Torres_ (`ctorres@inf.utfsm.cl`). _July 2020._\n",
    "* _Update June 2021 - v1.01 - C.Torres_ : Major update.\n",
    "* _Update November 2021 - v1.02 - C.Torres_ : Adding ```vec``` explanation for building the associated large linear system of equations.\n",
    "* _Update June 2022 - v1.03 - C.Torres_ : Fixing issue with backslash."
   ]
  },
  {
   "cell_type": "code",
   "execution_count": null,
   "metadata": {},
   "outputs": [],
   "source": []
  }
 ],
 "metadata": {
  "anaconda-cloud": {},
  "kernelspec": {
   "display_name": "Python 3.9.12 ('base')",
   "language": "python",
   "name": "python3"
  },
  "language_info": {
   "codemirror_mode": {
    "name": "ipython",
    "version": 3
   },
   "file_extension": ".py",
   "mimetype": "text/x-python",
   "name": "python",
   "nbconvert_exporter": "python",
   "pygments_lexer": "ipython3",
   "version": "3.12.2"
  },
  "vscode": {
   "interpreter": {
    "hash": "3ac50632fb3bdf9f343ef51447c90235899ecf2fcb8080338e89f31f890e4206"
   }
  }
 },
 "nbformat": 4,
 "nbformat_minor": 4
}
