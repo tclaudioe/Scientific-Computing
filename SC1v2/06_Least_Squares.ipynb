{
 "cells": [
  {
   "attachments": {},
   "cell_type": "markdown",
   "metadata": {},
   "source": [
    "<center>\n",
    "    <img src=\"http://sct.inf.utfsm.cl/wp-content/uploads/2020/04/logo_di.png\" style=\"width:60%\">\n",
    "    <h1> INF285 - Computación Científica </h1>\n",
    "    <h2> Least Squares </h2>\n",
    "    <h2> <a href=\"#acknowledgements\"> [S]cientific [C]omputing [T]eam </a> </h2>\n",
    "    <h2> Version: 1.38</h2>\n",
    "</center>"
   ]
  },
  {
   "attachments": {},
   "cell_type": "markdown",
   "metadata": {},
   "source": [
    "<div id='toc' />\n",
    "\n",
    "## Table of Contents\n",
    "* [Introduction](#intro)\n",
    "* [Overdetermined Linear System of Equations](#over)\n",
    "    * [Initial Example](#initialExample)\n",
    "* [QR Factorization](#qr)\n",
    "    * [Do we really have _truly_ unitary vectors?](#DoWeReallyHaveUnitaryVectors)\n",
    "    * [Examples of QR: Classic vs Modified Gram-Schmidt](#ex)\n",
    "    * [Using the QR factorization to solve least-square problems](#qrls)\n",
    "* [Addional examples](#sm)\n",
    "* [Acknowledgements](#acknowledgements)"
   ]
  },
  {
   "cell_type": "code",
   "execution_count": 1,
   "metadata": {},
   "outputs": [],
   "source": [
    "import numpy as np # type: ignore\n",
    "import matplotlib.pyplot as plt # type: ignore\n",
    "import scipy.linalg as spla # type: ignore\n",
    "%matplotlib inline\n",
    "# https://scikit-learn.org/stable/modules/classes.html#module-sklearn.datasets\n",
    "from sklearn import datasets # type: ignore\n",
    "import ipywidgets as widgets # type: ignore\n",
    "import matplotlib as mpl # type: ignore\n",
    "mpl.rcParams['font.size'] = 14\n",
    "mpl.rcParams['axes.labelsize'] = 20\n",
    "mpl.rcParams['xtick.labelsize'] = 14\n",
    "mpl.rcParams['ytick.labelsize'] = 14\n",
    "M=8\n",
    "from ipywidgets import interact # type: ignore\n",
    "from colorama import Fore, Back, Style # type: ignore\n",
    "# https://pypi.org/project/colorama/\n",
    "# Fore: BLACK, RED, GREEN, YELLOW, BLUE, MAGENTA, CYAN, WHITE, RESET.\n",
    "# Back: BLACK, RED, GREEN, YELLOW, BLUE, MAGENTA, CYAN, WHITE, RESET.\n",
    "# Style: DIM, NORMAL, BRIGHT, RESET_ALL\n",
    "textBold = lambda x: Style.BRIGHT+x+Style.RESET_ALL\n",
    "textBoldH = lambda x: Style.BRIGHT+Back.YELLOW+x+Style.RESET_ALL\n",
    "\n",
    "textQRClassic = lambda x: Style.BRIGHT+Fore.RED+x+Style.RESET_ALL\n",
    "textQRModified = lambda x: Style.BRIGHT+Fore.BLUE+x+Style.RESET_ALL\n",
    "textAnswer = lambda x: Style.BRIGHT+Back.YELLOW+Fore.WHITE+x+Style.RESET_ALL"
   ]
  },
  {
   "attachments": {},
   "cell_type": "markdown",
   "metadata": {},
   "source": [
    "<div id='intro' />\n",
    "\n",
    "## Introduction\n",
    "[Back to TOC](#toc)\n",
    "\n",
    "We have learned about **square** linear system of equations. \n",
    "However, can we solve a **non-square/rectangular** linear system of equations? i.e. when we have more equations than unknowns!\n",
    "Well, a traditional alternative is to find a least squares approximation!"
   ]
  },
  {
   "attachments": {},
   "cell_type": "markdown",
   "metadata": {},
   "source": [
    "<div id='over' />\n",
    "\n",
    "# Overdetermined Linear Systems of Equations\n",
    "[Back to TOC](#toc)\n",
    "\n",
    "There are cases where the number of equations is greater than the number of unknowns. \n",
    "Many times, these systems don't have an exact solution (they are inconsistent system).\n",
    "In this case, we find a numerical approximation that minimizes an error.\n",
    "In particular, we use as error the vector 2-norm for the residual vector.\n",
    "We define the **minimal** residual vector as:\n",
    "$$\n",
    "\\begin{align*}\n",
    "    \\mathbf{r} &= \\mathbf{b}-A\\,\\overline{\\mathbf{x}}.\n",
    "\\end{align*}\n",
    "$$\n",
    "We know the following for this **minimal** residual vector:\n",
    "1. $\\mathbf{b}$ corresponds to the vector that **we want** to represent as a **linear combination of the column vectors of the matrix $A$**, i.e. $A\\,\\mathbf{x}$.\n",
    "2. Among all the vectors that belong to the column-space of $A$, i.e. $A\\,\\mathbf{x}$, there is only one vector that minimizes the **distance** between the vector $\\mathbf{b}$ and the vectors that belong to the column-space of $A$. This minimizer is denoted as $A\\,\\overline{\\mathbf{x}}$.\n",
    "3. The minimal distance can be computed as the 2-norm of the difference between $\\mathbf{b}$ and $A\\,\\overline{\\mathbf{x}}$. This means that the 2-norm of the residual vector $\\mathbf{r} = \\mathbf{b}-A\\,\\overline{\\mathbf{x}}$, which is $\\|\\mathbf{r}\\|$ is the minimal distance.\n",
    "4. Another important condition we can highlight is the **ortogonality** between the residual vector $\\mathbf{r}$ and the column-space of $A$, i.e. all the vectors that can be represented as $A\\,\\mathbf{x}$. \n",
    "This induces the following equation $\\langle A\\,\\mathbf{x}, \\mathbf{r} \\rangle=0$, i.e. the inner product is equal to 0.\n",
    "Replacing the definition of $\\mathbf{r}$, we obtain,\n",
    "\\begin{align*} \n",
    "    \\left(A\\,\\mathbf{x}\\right)^\\top\\,\\left(\\mathbf{b}-A\\,\\overline{\\mathbf{x}}\\right)&=0,   && \\textrm{Expanding the Transpose operator $^\\top$},\\\\\n",
    "    \\mathbf{x}^\\top\\, A^\\top\\,\\left(\\mathbf{b}-A\\,\\overline{\\mathbf{x}}\\right)&=0,          && \\textrm{Re-organizing the terms},\\\\\n",
    "    \\underbrace{\\mathbf{x}^\\top}_{\\displaystyle\\textrm{(I)}}\\, \\underbrace{\\left(A^\\top\\,\\mathbf{b}-A^\\top\\,A\\,\\overline{\\mathbf{x}}\\right)}_{\\displaystyle\\textrm{(II)}}&=0,\n",
    "\\end{align*}\n",
    "Now, recalling that the residual must be orthogonal to any vector that belong to the column-space of $A$, this implies that the vector $\\mathbf{x}$, i.e. $\\textrm{(I)}$ can't assure the product will be $0$. Therefore, the term  $\\textrm{(II)}$ must be the null-vector.\n",
    "Thus,\n",
    "\\begin{align*} \n",
    "    A^\\top\\,\\mathbf{b}-A^\\top\\,A\\,\\overline{\\mathbf{x}}&=\\mathbf{0}, \\\\\n",
    "    A^\\top\\,A\\,\\overline{\\mathbf{x}}&= A^\\top\\,\\mathbf{b}. \\\\\n",
    "\\end{align*}\n",
    "\n",
    "This last equation gives us a new **square** $n\\times n$ matrix, which can be solved with any linear system of equations solver.\n",
    "This linear system of equations is known as the **Normal Equations**."
   ]
  },
  {
   "attachments": {},
   "cell_type": "markdown",
   "metadata": {},
   "source": [
    "<div id='initialExample' />\n",
    "\n",
    "## Initial example:\n",
    "[Back to TOC](#toc)\n",
    "\n",
    "In this example we will approximate $m$ points considering a linear relationship between the variables $x$ and $y$.\n",
    "Consider that we have $m$ data points  $(x_i,y_i)$ for $i\\in\\{1,2,\\dots,m\\}$, and we consider the relationshop $y=a_0+a_1\\,x$.\n",
    "\n",
    "**Notice: \n",
    "The linear approximation here proposed is the typical example one could use, but you could also use other kind of approximations, for instance $y=a_0+a_1\\,x+a_2\\,x^2$, and so on. \n",
    "It is important to highlight that even though the relation between the _dependent_ variable $y$ and the _independent_ is not linear in this last example, the problem we will be solving with least-square will still be ``linear'' on the unknowns variables $a_0$, $a_1$, and $a_2$, respectively.**"
   ]
  },
  {
   "cell_type": "code",
   "execution_count": 2,
   "metadata": {},
   "outputs": [
    {
     "data": {
      "image/png": "[encoded data removed]",
      "text/plain": [
       "<Figure size 500x500 with 1 Axes>"
      ]
     },
     "metadata": {},
     "output_type": "display_data"
    }
   ],
   "source": [
    "# Number of points to be used\n",
    "m = 100\n",
    "# Relationship considered\n",
    "fv = np.vectorize(lambda x, a0, a1: a0+a1*x)\n",
    "# \"Exact\" coefficients considered\n",
    "a0_exact, a1_exact = 1, 4\n",
    "\n",
    "# Fixing the 'seed' of the random number generator to obtain reproducible outcomes.\n",
    "rng = np.random.Generator(np.random.PCG64(seed=0))\n",
    "\n",
    "# Error:\n",
    "# Standard deviation for the error\n",
    "sigma = 5e-1\n",
    "# Error to be added\n",
    "e = rng.normal(0, sigma, m)\n",
    "\n",
    "# Generating data points\n",
    "x = np.linspace(0,1,m)\n",
    "y = fv(x,a0_exact,a1_exact)+e\n",
    "# Challenging question: What if all the xi are the same?\n",
    "# This means that considering the following definition for x, for instance:\n",
    "# x = np.linspace(0,1,m)*0+0.5\n",
    "\n",
    "# Plotting the data\n",
    "plt.figure(figsize=(5,5))\n",
    "plt.plot(x,y,'b.',markersize=20, label='Data points')\n",
    "plt.plot(x,fv(x,a0_exact,a1_exact),'k-',linewidth=8,alpha=0.8, label='Original function')\n",
    "plt.legend(loc='lower left', ncol=1, fancybox=True, shadow=True, numpoints=1, bbox_to_anchor=(1,0))\n",
    "plt.grid(True)\n",
    "plt.xlabel(r'$x$')\n",
    "plt.ylabel(r'$y$')\n",
    "plt.show()"
   ]
  },
  {
   "cell_type": "markdown",
   "metadata": {},
   "source": [
    "The plot before was build from a _arbitrary_ defined values for $a_0=1$ and $a_1=4$, to then later add some errors $\\varepsilon_i$ that follow a Normal distribution $\\mathrm{N}(0,\\sigma)$, for $\\sigma=5\\,10^{-1}$.\n",
    "This way we generated the <span style=\"color:blue\">blue</span> **data points**.\n",
    "_The purpose of this numerical experiment is to try to recover the **exact** values for $a_0$ and $a_1$ from the **data points** that have error of the $y$ component_.\n",
    "\n",
    "Now, we will solve the _least-square_ problem with the **Normal Equations**."
   ]
  },
  {
   "cell_type": "code",
   "execution_count": 3,
   "metadata": {},
   "outputs": [],
   "source": [
    "# Build the data matrix\n",
    "A = np.ones((m,2))\n",
    "A[:,1] = x\n",
    "# Setting up the right hand side\n",
    "b = y\n",
    "\n",
    "# Building and solving the normal equations\n",
    "# A^T A x_bar = A^T b\n",
    "x_bar = np.linalg.solve(A.T @ A, A.T @ b)"
   ]
  },
  {
   "cell_type": "markdown",
   "metadata": {},
   "source": [
    "Now, let's compare the solution found with the exact solution."
   ]
  },
  {
   "cell_type": "code",
   "execution_count": 4,
   "metadata": {},
   "outputs": [
    {
     "name": "stdout",
     "output_type": "stream",
     "text": [
      "a0_exact\t: 1\n",
      "a0_bar  \t: 1.0041518440034367 \n",
      "\n",
      "a1_exact\t: 4\n",
      "a1_bar  \t: 4.072793005483844\n"
     ]
    }
   ],
   "source": [
    "print('a0_exact\\t:',a0_exact)\n",
    "print('a0_bar  \\t:',x_bar[0],'\\n')\n",
    "\n",
    "print('a1_exact\\t:',a1_exact)\n",
    "print('a1_bar  \\t:',x_bar[1])"
   ]
  },
  {
   "cell_type": "markdown",
   "metadata": {},
   "source": [
    "- Are the least-square approximation close to the **exact** values?\n",
    "- Do they have to be close?\n",
    "- How does the error changes as we increase $m$ (the number of data points)?\n",
    "- How does the error changes as we change standard deviation of the error added? Recall that we added an error to perturbate the data points, actually we only perturbated the $y$ values, not the $x$ values.\n",
    "\n",
    "To answer these questions, keep reading the Jupyter Notebook."
   ]
  },
  {
   "cell_type": "code",
   "execution_count": 5,
   "metadata": {},
   "outputs": [
    {
     "name": "stdout",
     "output_type": "stream",
     "text": [
      "Quadratic error of LS solution:  23.097326701044185\n",
      "\u001b[1m\u001b[43m\u001b[37mThis is the actual minimum of the least-square error since this is what does the solution of the Normal Equations.\n",
      "\u001b[0m\n",
      "Quadratic error of original parameters:  23.306792448000188\n",
      "\u001b[1m\u001b[43m\u001b[37mOn the other hand, it may look counterintuitive that the ORIGINAL, i.e. exact, solution get a higher value for the error.\u001b[0m\n",
      "\u001b[1m\u001b[43m\u001b[37mThis is actually correct since the solution that minimizes the LS error is the solution to the Normal Equations and not the EXACT solution.\n",
      "\u001b[0m\n",
      "Inner product of rLS and each column of A:  [-1.09245946e-13  4.44089210e-16]\n",
      "\u001b[1m\u001b[43m\u001b[37mThe previous output shows that the residual vector r=b-A @ x_bar is actually orthogonal to the column space of A, i.e. the range of A.\n",
      "\u001b[0m\n",
      "Inner product of rOR and each column of A:  [4.05483467 2.64628043]\n",
      "\u001b[1m\u001b[43m\u001b[37mOn the other hand, the residual vector with the exact solution is NOT orthogonal, which is OK since this is not required.\u001b[0m\n"
     ]
    }
   ],
   "source": [
    "# Computing the quadratic error ||r||_2^2 of the least-square solution\n",
    "print('Quadratic error of LS solution: ',np.power(np.linalg.norm(b-A @ x_bar),2))\n",
    "print(textAnswer('This is the actual minimum of the least-square error since this is what does the solution of the Normal Equations.\\n'))\n",
    "\n",
    "# Computing the quadratic error ||r||_2^2 of the \"original\" parameters\n",
    "x_original = np.array([a0_exact,a1_exact])\n",
    "print('Quadratic error of original parameters: ',np.power(np.linalg.norm(b-A @ x_original),2))\n",
    "print(textAnswer('On the other hand, it may look counterintuitive that the ORIGINAL, i.e. exact, solution get a higher value for the error.'))\n",
    "print(textAnswer('This is actually correct since the solution that minimizes the LS error is the solution to the Normal Equations and not the EXACT solution.\\n'))\n",
    "\n",
    "# Verifying if the columns of A are orthogonal to the \"residual\" vector rLS=b-A*x_bar.\n",
    "print('Inner product of rLS and each column of A: ',A.T @ (b-A @ x_bar))\n",
    "print(textAnswer('The previous output shows that the residual vector r=b-A @ x_bar is actually orthogonal to the column space of A, i.e. the range of A.\\n'))\n",
    "\n",
    "# Computing the ortogonality condition against the \"original\" a0_exact y a1_exact, i.e. rOR=b-A*x_no_bar\n",
    "print('Inner product of rOR and each column of A: ',A.T @ (b-A @ x_original))\n",
    "print(textAnswer('On the other hand, the residual vector with the exact solution is NOT orthogonal, which is OK since this is not required.'))\n"
   ]
  },
  {
   "cell_type": "markdown",
   "metadata": {},
   "source": [
    "Now, just execute the following cell and play with the widget below."
   ]
  },
  {
   "cell_type": "code",
   "execution_count": 6,
   "metadata": {},
   "outputs": [],
   "source": [
    "# a0        : Input approximation from widget for a_0 in a_0+a_1*x\n",
    "# a1        : Input approximation from widget for a_0 in a_0+a_1*x\n",
    "# m         : Number of data points to be used\n",
    "# n_samples : Number of \"samples\" of approximations to be used for plotting on \"left\" plot\n",
    "# sigma     : Standard deviation for the error added \n",
    "def plot_linear_approximation(a0=1.1,a1=3.5,m=100,n_samples=50, sigma=5e-1):\n",
    "    \n",
    "    a0_min = -3\n",
    "    a0_max = 4\n",
    "    a1_min = 0\n",
    "    a1_max = 8\n",
    "    \n",
    "    # Fixing the 'seed' of the random number generator to obtain reproducible outcomes.\n",
    "    rng = np.random.Generator(np.random.PCG64(seed=0))\n",
    "    \n",
    "    ############################################################\n",
    "    # Generating data and solving the least square problem\n",
    "    ############################################################\n",
    "    # Relationship considered\n",
    "    fv = np.vectorize(lambda x, a0, a1: a0+a1*x)\n",
    "    # \"Exact\" coefficients considered\n",
    "    a0_exact, a1_exact = 1, 4\n",
    "\n",
    "    # Error:\n",
    "    # Standard deviation for the error\n",
    "    # sigma = 5e-1\n",
    "    # Error to be added\n",
    "    e = rng.normal(0, sigma, m)\n",
    "\n",
    "    # Generating data points\n",
    "    x = np.linspace(0,1,m)\n",
    "    y = fv(x,a0_exact,a1_exact)+e\n",
    "    \n",
    "    # Build the data matrix\n",
    "    A = np.ones((m,2))\n",
    "    A[:,1] = x\n",
    "    # Setting up the right hand side\n",
    "    b = y\n",
    "\n",
    "    # Building and solving the normal equations\n",
    "    # A^T A x_bar = A^T b\n",
    "    x_bar = np.linalg.solve(A.T @ A, A.T @ b)\n",
    "    \n",
    "    ############################################################\n",
    "    # Plotting the data\n",
    "    ############################################################\n",
    "    residual = lambda a,b: np.power(np.linalg.norm(y-a*np.ones_like(y)-b*x),2)\n",
    "    residual_v = np.vectorize(residual)\n",
    "    random_perturbations = rng.standard_normal((n_samples,2))\n",
    "\n",
    "    # Showing the comparison between the \"original function\" and the \"least-squared reconstructed approximation\".\n",
    "    # We added in red a \"sample\" of possible functions.\n",
    "    # Notice that the colors used follow the description included in the classnotes.\n",
    "    # This means to consider the following analogy:\n",
    "    # blue: data points, this correspond to the right-hand-side vector \"b\".\n",
    "    # red: this correspond to the sub-space generated by Ax, i.e. the span of the columns of A.\n",
    "    # violet: This correspond to the least-square solution found.\n",
    "    plt.figure(figsize=(10,5))\n",
    "    plt.subplot(121)\n",
    "    # Data points\n",
    "    plt.plot(x,y,'b.',markersize=8, label='Data points',alpha=0.8)\n",
    "    # Non-optimal solutions \n",
    "    for i in range(n_samples-1):\n",
    "        plt.plot(x,fv(x,x_bar[0]+random_perturbations[i,0],x_bar[1]+random_perturbations[i,1]),'-',linewidth=1, alpha=0.2, color='red')\n",
    "    plt.plot(x,fv(x,x_bar[0]+random_perturbations[-1,0],x_bar[1]+random_perturbations[-1,1]),'r-',linewidth=1,alpha=0.2, label='Non-optimal solutions')\n",
    "\n",
    "    # Least-Square approximation\n",
    "    plt.plot(x,fv(x,x_bar[0],x_bar[1]),'-',color='darkviolet',linewidth=4, label=f'Least Square approximation, error: {residual_v(x_bar[0],x_bar[1]):.2f}')\n",
    "    # Input approximation -> provided by widgets\n",
    "    plt.plot(x,fv(x,a0,a1),'-',color='red',linewidth=4, label='Input approximation', alpha=0.5)\n",
    "    # Original functions\n",
    "    plt.plot(x,fv(x,a0_exact,a1_exact),'k-',linewidth=2,alpha=1, label='Original function')\n",
    "    \n",
    "    plt.grid(True)\n",
    "    plt.xlabel(r'$x$')\n",
    "    plt.ylabel(r'$y$')\n",
    "    plt.xlim([0,1])\n",
    "    plt.ylim([-1,9])\n",
    "    plt.legend(loc='best', ncol=1, fancybox=True, shadow=True, numpoints=1, fontsize=8)\n",
    "\n",
    "    plt.subplot(122)\n",
    "    # This variable define the \"grid\" resolution on each dimension, i.e. the number\n",
    "    # of pixels per dimension.\n",
    "    grid_resolution = 100\n",
    "    a0_range = np.linspace(a0_min, a0_max, grid_resolution)\n",
    "    a1_range = np.linspace(a1_min, a1_max, grid_resolution)\n",
    "    [a_mat,b_mat] = np.meshgrid(a0_range,a1_range)\n",
    "\n",
    "    E = residual_v(a_mat,b_mat)\n",
    "\n",
    "    plt.contourf(a0_range, a1_range, E, levels=20, cmap='Blues')\n",
    "    \n",
    "    # Non-optimal solutions \n",
    "    for i in range(n_samples-1):\n",
    "        plt.plot(x_bar[0]+random_perturbations[i,0],x_bar[1]+random_perturbations[i,1],'r.',linewidth=1, alpha=0.5,markersize=2)\n",
    "    plt.plot(x_bar[0]+random_perturbations[-1,0],x_bar[1]+random_perturbations[-1,1],'r.',linewidth=1,alpha=0.5,markersize=2)\n",
    "   \n",
    "    plt.xlim([a0_min,a0_max])\n",
    "    plt.ylim([a1_min,a1_max])\n",
    "     \n",
    "    plt.xlabel(r'$a_0$')\n",
    "    plt.ylabel(r'$a_1$')\n",
    "    plt.axis('scaled')\n",
    "    plt.plot(a0,a1,'r*',markersize=8)\n",
    "    plt.title(f'Error: {residual_v(a0,a1):.5f}')\n",
    "    plt.colorbar()\n",
    "\n",
    "    plt.show()"
   ]
  },
  {
   "cell_type": "markdown",
   "metadata": {},
   "source": [
    "## Understanding what happends with the **Least-Square** error\n",
    "\n",
    "The next example shows on the **figure on the left** the following:\n",
    "1. <span style=\"color:blue\">Data points in blue</span>.\n",
    "2. <span style=\"color:red\">Non-optimal (sample) approximations in light-red</span>.\n",
    "3. <span style=\"color:darkmagenta\">The **least-square approximation** in dark magenta</span>.\n",
    "4. <span style=\"color:red\">Input approximation defined by the widget in red with wide line</span>.\n",
    "5. Original function in black.\n",
    "\n",
    "and on the **figure on the right**:\n",
    "1. In the background shows the plot for the least-square error $E(a_0,a_1)=\\sum_{i=1}^m (y_i-a_0-a_1\\,x_i)^2=\\|\\mathbf{y}-a_0\\,\\mathbf{1}-a_1\\,\\mathbf{x}\\|_2$, where $\\mathbf{1}$ is the vector of dimension $m$ of $1$, i.e. $\\mathbf{1}=[1,1,\\dots,1]^\\top$.\n",
    "2. <span style=\"color:red\">Non-optimal (sample) approximations in light-red</span>.\n",
    "3. <span style=\"color:red\">Input approximation defined by the widget in red a red star</span>."
   ]
  },
  {
   "cell_type": "code",
   "execution_count": 7,
   "metadata": {},
   "outputs": [
    {
     "data": {
      "application/vnd.jupyter.widget-view+json": {
       "model_id": "bf5508e3462f46f9a27a48056b533c2a",
       "version_major": 2,
       "version_minor": 0
      },
      "text/plain": [
       "interactive(children=(FloatSlider(value=1.1, description='a0', max=3.0, min=-1.0), FloatSlider(value=3.5, desc…"
      ]
     },
     "metadata": {},
     "output_type": "display_data"
    },
    {
     "data": {
      "text/plain": [
       "<function __main__.plot_linear_approximation(a0=1.1, a1=3.5, m=100, n_samples=50, sigma=0.5)>"
      ]
     },
     "execution_count": 7,
     "metadata": {},
     "output_type": "execute_result"
    }
   ],
   "source": [
    "interact(plot_linear_approximation,a0=(-1,3,0.1),a1=(2,6,0.1),m=(2,200,1),n_samples=(10,200,10),sigma=(0.0,10.,0.01))"
   ]
  },
  {
   "attachments": {},
   "cell_type": "markdown",
   "metadata": {},
   "source": [
    "<div id='qr' />\n",
    "\n",
    "# QR Factorization\n",
    "\n",
    "We studied before about the Normal Equations for solving **linear least-square problems**.\n",
    "This is of high theoretical importance, unfortunately, the Normal Equations may show some numerical issues when dealing with large and ill-conditioned matrices.\n",
    "To handle this, we will learn about the QR factorization.\n",
    "The QR factorization will allow us to still find the **least-square** approximation but avoiding computing explicitly the Normal Equations.\n",
    "But before we can connect the QR factorization with the computation of the **least-square** approximation, we need to learn about the computation of the QR factorization of the matrix $A$ used for the **linear least-square problem**.\n",
    "\n",
    "## Gram-Schmidt Orthogonalization\n",
    "[Back to TOC](#toc)"
   ]
  },
  {
   "attachments": {},
   "cell_type": "markdown",
   "metadata": {},
   "source": [
    "The main purpose for the Gram-Schmidt Orthogonalization is to build an **orthonormal set of vectors** from a **arbitrary** set of vectors such that they **span** the same vector space.\n",
    "For simplicity, we will consider that the **arbitrary** set of vector are **linearly independent** vectors.\n",
    "_If they are not linearly independent vectors, the algorithm will **break-down** at some point. \n",
    "The good news when it **breaks-down** is that it will give us which are linearly independent vectors!_\n",
    "\n",
    "For clarity, we will store in a matrix $A$ the set of **linearly independent** vectors, say $A=[\\mathbf{a}_1\\, ...., \\mathbf{a}_n]$, notice that each vectors $\\mathbf{a}_i\\in\\mathbb{R}^m$ and $n \\le m$.\n",
    "\n",
    "We also know the following for the **orthogonal set** we want to build:\n",
    "$$\\begin{align*}\n",
    "    \\mathbf{q}_i^T\\,\\mathbf{q}_i & = \\|\\mathbf{q}_i\\|_2^2= 1\\\\\n",
    "    \\mathbf{q}_i^T\\,\\mathbf{q}_j & = 0, \\, \\text{ for } i\\neq j\n",
    "\\end{align*}$$\n",
    "\n",
    "Moreover, we have the following relation between the two sets of vectors described:\n",
    "$$\n",
    "\\underbrace{\\begin{bmatrix} \n",
    "\t\\mathbf{a}_{1}, & \\mathbf{a}_{2}, & \\dots, & \\mathbf{a}_{n}\n",
    "\\end{bmatrix}}_{\\displaystyle A}\n",
    "=\n",
    "\\underbrace{\\begin{bmatrix} \n",
    "\t\\mathbf{q}_{1}, & \\mathbf{q}_{2}, & \\dots, & \\mathbf{q}_{n}\n",
    "\\end{bmatrix}}_{\\displaystyle \\widehat{Q}}\n",
    "\\underbrace{\\begin{bmatrix}\n",
    "\tr_{1,1} & r_{1,2} & r_{1,3} & \\dots  &  r_{1,n} \\\\\n",
    "\t0      & r_{2,2} & r_{2,3} & \\dots  &  r_{2,n} \\\\\n",
    "\t0      & 0      & r_{3,3} & \\dots  &  r_{3,n} \\\\\n",
    "\t\\vdots & \\vdots & \\ddots & \\ddots &  \\vdots \\\\\n",
    "\t0      & \\dots  & \\dots  &  0     &  r_{nn}\n",
    "\\end{bmatrix}}_{\\displaystyle \\widehat{R}}.$$\n",
    "This identity, by means of comparing each column on the **left hand side** with its corresponding column on the **right hand side**, give us:\n",
    "$$\n",
    "\\begin{align*}\n",
    "    \\mathbf{a}_{1} &= r_{1,1}\\,\\mathbf{q}_{1},\\\\\n",
    "    \\mathbf{a}_{2} &= r_{1,2}\\,\\mathbf{q}_{1}+r_{2,2}\\,\\mathbf{q}_{2},\\\\\n",
    "    \\mathbf{a}_{3} &= r_{1,3}\\,\\mathbf{q}_{1}+r_{2,3}\\,\\mathbf{q}_{2}+r_{3,3}\\,\\mathbf{q}_{3},\\\\\n",
    "    \\vdots          & \\vdots\\\\\n",
    "    \\mathbf{a}_k   &= r_{1,k}\\,\\mathbf{q}_{1}+r_{2,k}\\,\\mathbf{q}_{2}+\\dots+r_{k,k}\\,\\mathbf{q}_{k} &= \\displaystyle\\sum_{i=1}^{k} r_{i,k}\\,\\mathbf{q}_{i},\\\\\n",
    "    \\vdots          & \\vdots\\\\\n",
    "    \\mathbf{a}_{n} &= r_{1,n}\\,\\mathbf{q}_{1} + r_{2,n}\\,\\mathbf{q}_{2}+\\dots+r_{n,n}\\,\\mathbf{q}_{n} &= \\displaystyle\\sum_{i=1}^{n} r_{i,n}\\,\\mathbf{q}_{i}.\\\\\n",
    "\\end{align*}\n",
    "$$\n",
    "\n",
    "Then the **classic** Gram-Schmidt orthonormalization finds $\\mathbf{q}_i$ and $r_{i,j}$ as follows.\n",
    "\n",
    "- First equation: $\\mathbf{a}_1 = r_{1,1}\\,\\mathbf{q}_1$, we obtain,\n",
    "    - $r_{1,1} = \\|\\mathbf{a}_1\\|_2$\n",
    "    - $\\mathbf{q}_1 = \\dfrac{\\mathbf{a}_1}{r_{11}}$\n",
    "- Second equation: $\\mathbf{a}_2 = r_{1,2}\\,\\mathbf{q}_1+r_{2,2}\\,\\mathbf{q}_2$, we obtain,\n",
    "    - $r_{1,2} = \\mathbf{q}_1^\\top\\,\\mathbf{a}_2$\n",
    "    - $r_{2,2} = \\|\\mathbf{a}_2-r_{1,2}\\,\\mathbf{q}_1\\|_2$\n",
    "    - $\\mathbf{q}_2 = \\dfrac{\\mathbf{a}_2-r_{1,2}\\,\\mathbf{q}_1}{r_{2,2}}$\n",
    "- **Third equation** (we highlight this equation to explain below the **modified** Gram-Schmidt orthonormalization): $\\mathbf{a}_3 = r_{1,3}\\,\\mathbf{q}_{1}+r_{2,3}\\,\\mathbf{q}_{2}+r_{3,3}\\,\\mathbf{q}_{3}$, we obtain,\n",
    "    - $r_{1,3} = \\mathbf{q}_1^\\top\\,\\mathbf{a}_3$\n",
    "    - $r_{2,3} = \\mathbf{q}_2^\\top\\,\\mathbf{a}_3$\n",
    "    - $r_{3,3} = \\|\\mathbf{a}_3-r_{1,3}\\,\\mathbf{q}_1-r_{2,3}\\,\\mathbf{q}_2\\|_2$\n",
    "    - $\\mathbf{q}_3 = \\dfrac{\\mathbf{a}_3-r_{1,3}\\,\\mathbf{q}_1-r_{2,3}\\,\\mathbf{q}_2}{r_{3,3}}$\n",
    "- Now, following the same idea, we move to the $k$-th equation, $\\mathbf{a}_k = \\sum_{i=1}^k r_{i,k}\\,\\mathbf{q}_i$, for which we obtain,\n",
    "    - $r_{i,k} = \\mathbf{q}_i^\\top\\,\\mathbf{a}_k, \\, \\textrm{ for } i<k$\n",
    "    - $r_{k,k} = \\left\\|\\mathbf{a}_k-\\sum_{i=1}^{k-1} r_{i,k}\\,\\mathbf{q}_i\\right\\|_2\\\\$\n",
    "    - $\\mathbf{q}_k = \\dfrac{\\mathbf{a}_k-\\sum_{i=1}^{k-1} r_{i,k}\\,\\mathbf{q}_i}{r_{k,k}}$\n",
    "- And, for the $n$-th (final) term, $\\mathbf{a}_n = \\sum_{i=1}^n r_{i,n}\\,\\mathbf{q}_i$, we obtain,\n",
    "    - $r_{i,n} = \\mathbf{q}_i^T\\,\\mathbf{a}_n, \\, \\textrm{ for } i<n$\n",
    "    - $r_{n,n} = \\left\\|\\mathbf{a}_n-\\sum_{i=1}^{n-1} r_{in}\\,\\mathbf{q}_i\\right\\|_2$\n",
    "    - $\\mathbf{q}_n = \\dfrac{\\mathbf{a}_n-\\sum_{i=1}^{n-1} r_{i,n}\\,\\mathbf{q}_i}{r_{n,n}}$\n",
    "\n",
    "Thus, we obtain the reduced QR factorization as follows:\n",
    "$$\n",
    "\\begin{equation}\n",
    "                 \\mathbf{A}_{m\\times n} = \\widehat{Q}_{m\\times n}\\widehat{R}_{n\\times n},\n",
    "\\end{equation}$$\n",
    "where $\\widehat{Q}$ is a matrix of vectors $\\mathbf{q}_{k}$, and $\\widehat{R}$ is an upper-triangular matrix, with the coefficients $r_{i,k}$:\n",
    "\n",
    "### **[IMPORTANT]** \n",
    "- What is then a **full** QR factorization?\n",
    "    - The **full QR** factorization is the following $A=Q\\,R$, where $Q$ is an $m\\times m$ matrix and $R$ is an $m\\times n$ matrix. \n",
    "    The first $n$ columns of $Q$ are the columns of $\\widehat{Q}$ and the other $m-n$ columns are the complement vectors such that the range of $Q$ is $\\mathcal{R}^m$.\n",
    "    On the other hand, the matrix $R$ is compose by the matrix $\\widehat{R}$ on the first $n$ rows and then a matrix of zeros of size $(m-n)\\times n$.\n",
    "    This ensures that $A=Q\\,R=\\widehat{Q}\\,\\widehat{R}$.\n",
    "- What is then a **modified** Gram-Schmidt orthonormalization?\n",
    "    To explain better the effect of the **modified** Gram-Schmidt orthonormalization, we point out the \"**Third equation**\".\n",
    "    Notice that the equation is the same, <span style=\"color:blue\">__**but the difference relies on how we compute the $r_{i,k}$ coefficients**__</span>, thus,\n",
    "    - Third equation: $\\mathbf{a}_3 = r_{1,3}\\,\\mathbf{q}_{1}+r_{2,3}\\,\\mathbf{q}_{2}+r_{3,3}\\,\\mathbf{q}_{3}$, we obtain,\n",
    "        - $r_{1,3} = \\mathbf{q}_1^\\top\\,\\mathbf{a}_3$ $\\color{blue}\\leftarrow\\color{blue}$ <span style=\"color:blue\"> Same procedure as before</span>\n",
    "        - $r_{2,3} = \\mathbf{q}_2^\\top\\,\\left(\\mathbf{a}_3-r_{1,3}\\,\\mathbf{q}_{1}\\right)$ $\\color{red}\\leftarrow\\color{red}$ <span style=\"color:red\"> **Modified** procedure. This is Mathematically equivalent but numerically much better</span>\n",
    "        - $r_{3,3} = \\|\\mathbf{a}_3-r_{1,3}\\,\\mathbf{q}_1-r_{2,3}\\,\\mathbf{q}_2\\|_2$ $\\color{blue}\\leftarrow\\color{blue}$ <span style=\"color:blue\"> Same procedure as before</span>\n",
    "        - $\\mathbf{q}_3 = \\dfrac{\\mathbf{a}_3-r_{1,3}\\,\\mathbf{q}_1-r_{2,3}\\,\\mathbf{q}_2}{r_{3,3}}$ $\\color{blue}\\leftarrow\\color{blue}$ <span style=\"color:blue\"> Same procedure as before</span>\n",
    "    - For the general $k$-th step we get, $\\mathbf{a}_k = \\sum_{i=1}^k r_{i,k}\\,\\mathbf{q}_i$, for which we obtain,\n",
    "        - $r_{1,k} = \\mathbf{q}_1^\\top\\,\\mathbf{a}_k$ $\\color{blue}\\leftarrow\\color{blue}$ <span style=\"color:blue\"> Same procedure as before</span> \n",
    "        - $r_{i,k} = \\mathbf{q}_i^\\top\\,\\left(\\mathbf{a}_k - \\sum_{j=1}^{i-1} r_{j,k}\\,\\mathbf{q}_j\\right), \\, \\textrm{ for } 2\\leq i<k$, $\\color{red}\\leftarrow\\color{red}$ <span style=\"color:red\"> **Modified** procedure</span>\n",
    "        - $r_{k,k} = \\left\\|\\mathbf{a}_k-\\sum_{i=1}^{k-1} r_{i,k}\\,\\mathbf{q}_i\\right\\|_2\\\\$ $\\color{blue}\\leftarrow\\color{blue}$ <span style=\"color:blue\"> Same procedure as before</span>\n",
    "        - $\\mathbf{q}_k = \\dfrac{\\mathbf{a}_k-\\sum_{i=1}^{k-1} r_{i,k}\\,\\mathbf{q}_i}{r_{k,k}}$ $\\color{blue}\\leftarrow\\color{blue}$ <span style=\"color:blue\"> Same procedure as before</span>\n",
    "\n"
   ]
  },
  {
   "cell_type": "markdown",
   "metadata": {},
   "source": [
    "The following code implements the 'classic' and 'modified' Gram-Schmidt procedures for the 'reduced' factorization."
   ]
  },
  {
   "cell_type": "code",
   "execution_count": 8,
   "metadata": {},
   "outputs": [],
   "source": [
    "def QR(A, type_factorization = 'reduced', type_gram_schmidt='classic'):\n",
    "    A.astype('float')\n",
    "    m,n = A.shape # m: number of rows, n: number of columns.\n",
    "    if type_factorization == 'reduced':\n",
    "        Q = np.zeros((m,n))\n",
    "        R = np.zeros((n,n))\n",
    "    elif type_factorization == 'full':\n",
    "        Q = np.zeros((m,m))\n",
    "        R = np.zeros((m,n))\n",
    "    for k in range(n):\n",
    "        y = A[:,k]\n",
    "        for i in range(k):\n",
    "            if type_gram_schmidt == 'classic':\n",
    "                R[i,k] = np.dot(Q[:,i],A[:,k])\n",
    "            elif type_gram_schmidt == 'modified':\n",
    "                R[i,k] = np.dot(Q[:,i],y)\n",
    "            y=y-R[i,k]*Q[:,i]\n",
    "        R[k,k] = np.linalg.norm(y)\n",
    "        Q[:,k] = y/R[k,k]\n",
    "    # The following lines must be completed by you!\n",
    "    #if type_factorization == 'full': \n",
    "        # (1) We need to add 0's to the R matrix so it is of the same shape as the matrix A, \n",
    "        # fortunately this was already done!\n",
    "        # (2) We need to add orthogonal vectors to Q so it is square,\n",
    "        # how do we do this?\n",
    "    return Q,R"
   ]
  },
  {
   "attachments": {},
   "cell_type": "markdown",
   "metadata": {},
   "source": [
    " ### First example:"
   ]
  },
  {
   "cell_type": "code",
   "execution_count": 9,
   "metadata": {},
   "outputs": [
    {
     "name": "stdout",
     "output_type": "stream",
     "text": [
      "\u001b[1m\u001b[43mA:\n",
      "\u001b[0m [[ 1 -4]\n",
      " [ 2  3]\n",
      " [ 2  2]]\n",
      "\u001b[1m\u001b[43mQ_hat @ R_hat:\n",
      "\u001b[0m [[ 1. -4.]\n",
      " [ 2.  3.]\n",
      " [ 2.  2.]]\n",
      "\u001b[1m\u001b[43mQ_hat:\n",
      "\u001b[0m [[ 0.33333333 -0.93333333]\n",
      " [ 0.66666667  0.33333333]\n",
      " [ 0.66666667  0.13333333]]\n",
      "\u001b[1m\u001b[43mR_hat:\n",
      "\u001b[0m [[3. 2.]\n",
      " [0. 5.]]\n",
      "\u001b[1m\u001b[43mQ_hat.T @ Q_hat:\n",
      "\u001b[0m [[1.00000000e+00 2.28212511e-17]\n",
      " [2.28212511e-17 1.00000000e+00]]\n"
     ]
    }
   ],
   "source": [
    "A = np.array([[1,-4],[2,3],[2,2]])\n",
    "Q_hat, R_hat = QR(A, type_factorization ='reduced', type_gram_schmidt='classic')\n",
    "print(textBoldH('A:\\n'),A)\n",
    "print(textBoldH('Q_hat @ R_hat:\\n'), Q_hat @ R_hat)\n",
    "print(textBoldH('Q_hat:\\n'), Q_hat)\n",
    "print(textBoldH('R_hat:\\n'), R_hat)\n",
    "print(textBoldH('Q_hat.T @ Q_hat:\\n'), Q_hat.T @ Q_hat)"
   ]
  },
  {
   "attachments": {},
   "cell_type": "markdown",
   "metadata": {},
   "source": [
    "<div id='DoWeReallyHaveUnitaryVectors' />\n",
    "\n",
    "## Do we really have _truly_ unitary vectors?\n",
    "\n",
    "[Back to TOC](#toc)\n",
    "\n",
    "This is an example that shows that unitary vectors are not truly unitary in _double precision_!\n",
    "For instance, in this case we define the vector $\\mathbf{v}=[1,\\delta]$, and we then make it unitary, which should result in $\\mathbf{w}=\\dfrac{\\mathbf{v}}{\\|\\mathbf{v}\\|}=\\left[\\dfrac{1}{\\sqrt{1+\\delta^2}},\\dfrac{\\delta}{\\sqrt{1+\\delta^2}}\\right]$.\n",
    "This is indeed true for _not too small_ values of $\\delta$, however if $\\delta^2<\\epsilon_{\\text{mach}}$, then the resulting vector $\\mathbf{w}$ will be equal to $\\mathbf{v}$."
   ]
  },
  {
   "cell_type": "code",
   "execution_count": 10,
   "metadata": {},
   "outputs": [
    {
     "data": {
      "application/vnd.jupyter.widget-view+json": {
       "model_id": "c096063a1c594e3c92df485dd02345e4",
       "version_major": 2,
       "version_minor": 0
      },
      "text/plain": [
       "interactive(children=(IntSlider(value=0, description='n', max=20, min=-20), Output()), _dom_classes=('widget-i…"
      ]
     },
     "metadata": {},
     "output_type": "display_data"
    },
    {
     "data": {
      "text/plain": [
       "<function __main__.show_unitary_vector(n=0)>"
      ]
     },
     "execution_count": 10,
     "metadata": {},
     "output_type": "execute_result"
    }
   ],
   "source": [
    "def show_unitary_vector(n=0):\n",
    "    # Small value 'delta'.\n",
    "    delta = np.power(10.,n)\n",
    "    \n",
    "    print(textBold(f'delta=10^n= \\t\\t:'),delta)\n",
    "    \n",
    "    v=np.array([1,delta])\n",
    "    print(textBold(f'Vector v\\t\\t:'),v)\n",
    "\n",
    "    w=v/np.linalg.norm(v)\n",
    "    \n",
    "    print(textBold(f'Vector w=v/||v||\\t:'),w)\n",
    "    \n",
    "    print(textBold(f'Vector v-w=\\t\\t:'),v-w)\n",
    "\n",
    "    #print('Thus, they are the same for small values of d!!\\nThis means that w is not truly unitary!')\n",
    "    print(textBoldH(r'Are they different for all values of $\\delta=10^{n}$?'))\n",
    "\n",
    "interact(show_unitary_vector,n=(-20,20,1))"
   ]
  },
  {
   "attachments": {},
   "cell_type": "markdown",
   "metadata": {},
   "source": [
    "<div id='ex' />\n",
    "\n",
    "## Examples of QR: Classic vs Modified Gram-Schmidt\n",
    "\n",
    "[Back to TOC](#toc)"
   ]
  },
  {
   "cell_type": "code",
   "execution_count": 11,
   "metadata": {},
   "outputs": [
    {
     "name": "stdout",
     "output_type": "stream",
     "text": [
      "\u001b[1mA: \n",
      "\u001b[0m [[1.e+00 1.e+00 1.e+00]\n",
      " [1.e-10 0.e+00 0.e+00]\n",
      " [0.e+00 1.e-10 0.e+00]\n",
      " [0.e+00 0.e+00 1.e-10]]\n",
      "\u001b[1m\u001b[43m\n",
      " What are the Q's?\u001b[0m\n",
      "\u001b[1m\u001b[31mQc: \n",
      "\u001b[0m [[ 1.00000000e+00  0.00000000e+00  0.00000000e+00]\n",
      " [ 1.00000000e-10 -7.07106781e-01 -7.07106781e-01]\n",
      " [ 0.00000000e+00  7.07106781e-01  0.00000000e+00]\n",
      " [ 0.00000000e+00  0.00000000e+00  7.07106781e-01]]\n",
      "\u001b[1m\u001b[34mQm: \n",
      "\u001b[0m [[ 1.00000000e+00  0.00000000e+00  0.00000000e+00]\n",
      " [ 1.00000000e-10 -7.07106781e-01 -4.08248290e-01]\n",
      " [ 0.00000000e+00  7.07106781e-01 -4.08248290e-01]\n",
      " [ 0.00000000e+00  0.00000000e+00  8.16496581e-01]]\n",
      "\u001b[1m\u001b[43m\n",
      " Are truly orthogonal the q_i's?\u001b[0m\n",
      "\u001b[1m\u001b[31mQc.T*Qc: \n",
      "\u001b[0m [[ 1.00000000e+00 -7.07106781e-11 -7.07106781e-11]\n",
      " [-7.07106781e-11  1.00000000e+00  5.00000000e-01]\n",
      " [-7.07106781e-11  5.00000000e-01  1.00000000e+00]]\n",
      "\u001b[1m\u001b[31m||Qc.T*Qc-I_3||: \u001b[0m 0.7071067811865477\n",
      "\u001b[1m\u001b[43m\u001b[37mNot really, since q2^T*q3 \\neq 0.\u001b[0m\n",
      "\u001b[1m\u001b[34m\n",
      " Qm.T*Qm: \n",
      "\u001b[0m [[ 1.00000000e+00 -7.07106781e-11 -4.08248290e-11]\n",
      " [-7.07106781e-11  1.00000000e+00 -1.54826171e-16]\n",
      " [-4.08248290e-11 -1.54826171e-16  1.00000000e+00]]\n",
      "1.1547005383855976e-10\n",
      "\u001b[1m\u001b[34m||Qm.T*Qm-I_3||: \u001b[0m 1.1547005383855976e-10\n",
      "\u001b[1m\u001b[43m\u001b[37mThis looks much better!\u001b[0m\n",
      "\u001b[1m\u001b[43m\n",
      " Do we recover A with each algorithm?\u001b[0m\n",
      "\u001b[1m\u001b[31mA-Qc*Rc: \n",
      "\u001b[0m [[0.00000000e+00 0.00000000e+00 0.00000000e+00]\n",
      " [0.00000000e+00 3.62324963e-27 3.62324963e-27]\n",
      " [0.00000000e+00 0.00000000e+00 0.00000000e+00]\n",
      " [0.00000000e+00 0.00000000e+00 0.00000000e+00]]\n",
      "\u001b[1m\u001b[31m||A-Qc*Rc||: \u001b[0m 5.124048771544536e-27\n",
      "\u001b[1m\u001b[43m\u001b[37mYes!\u001b[0m\n",
      "\u001b[1m\u001b[34m\n",
      " A-Qm*Rm: \n",
      "\u001b[0m [[0.00000000e+00 0.00000000e+00 0.00000000e+00]\n",
      " [0.00000000e+00 3.62324963e-27 1.77879510e-27]\n",
      " [0.00000000e+00 0.00000000e+00 3.12420006e-27]\n",
      " [0.00000000e+00 0.00000000e+00 0.00000000e+00]]\n",
      "\u001b[1m\u001b[34m||A-Qm*Rm||: \u001b[0m 5.104182200807197e-27\n",
      "\u001b[1m\u001b[43m\u001b[37mYes!\u001b[0m\n"
     ]
    }
   ],
   "source": [
    "# Example 4.16 from textbook.\n",
    "d = 1e-10\n",
    "A = np.array([[1,1,1],[d,0,0],[0,d,0],[0,0,d]])\n",
    "print(textBold('A: \\n'), A)\n",
    "\n",
    "Qc,Rc = QR(A, type_gram_schmidt = 'classic')\n",
    "Qm,Rm = QR(A, type_gram_schmidt = 'modified')\n",
    "\n",
    "################################\n",
    "print(textBoldH('\\n What are the Q\\'s?'))\n",
    "print(textQRClassic('Qc: \\n'), Qc)\n",
    "print(textQRModified('Qm: \\n'), Qm)\n",
    "\n",
    "################################\n",
    "print(textBoldH('\\n Are truly orthogonal the q_i\\'s?'))\n",
    "print(textQRClassic('Qc.T*Qc: \\n'),np.dot(Qc.T,Qc))\n",
    "print(textQRClassic('||Qc.T*Qc-I_3||: '),np.linalg.norm(np.dot(Qc.T,Qc)-np.eye(3))) # Warning: We are just using the transpose since the matrices are real!\n",
    "print(textAnswer('Not really, since q2^T*q3 \\\\neq 0.'))\n",
    "\n",
    "print(textQRModified('\\n Qm.T*Qm: \\n'),np.dot(Qm.T,Qm))\n",
    "print(np.linalg.norm(np.dot(Qm.T,Qm)-np.eye(3)))\n",
    "print(textQRModified('||Qm.T*Qm-I_3||: '),np.linalg.norm(np.dot(Qm.T,Qm)-np.eye(3)))\n",
    "print(textAnswer('This looks much better!'))\n",
    "\n",
    "################################\n",
    "print(textBoldH('\\n Do we recover A with each algorithm?'))\n",
    "print(textQRClassic('A-Qc*Rc: \\n'),A-np.dot(Qc,Rc))\n",
    "print(textQRClassic('||A-Qc*Rc||: '),np.linalg.norm(A-np.dot(Qc,Rc)))\n",
    "print(textAnswer('Yes!'))\n",
    "\n",
    "print(textQRModified('\\n A-Qm*Rm: \\n'),A-np.dot(Qm,Rm))\n",
    "print(textQRModified('||A-Qm*Rm||: '),np.linalg.norm(A-np.dot(Qm,Rm)))\n",
    "print(textAnswer('Yes!'))\n"
   ]
  },
  {
   "cell_type": "markdown",
   "metadata": {},
   "source": [
    "<div id='qrls' />\n",
    "\n",
    "## Using the QR factorization to solve least-square problems\n",
    "[Back to TOC](#toc)\n",
    "\n",
    "We really encourage to take a look to the classnotes to understand the theory behind the use of the QR factorization.\n",
    "Here, we will focus on the direct application of it for linear least-square problems."
   ]
  },
  {
   "cell_type": "markdown",
   "metadata": {},
   "source": [
    "### Building the linear least-square problem"
   ]
  },
  {
   "cell_type": "code",
   "execution_count": 12,
   "metadata": {},
   "outputs": [],
   "source": [
    "# Number of points to be used\n",
    "m = 100\n",
    "# Relationship considered\n",
    "fv = np.vectorize(lambda x, a0, a1: a0+a1*x)\n",
    "# \"Exact\" coefficients considered\n",
    "a0_exact, a1_exact = 1, 4\n",
    "\n",
    "# Fixing the 'seed' of the random number generator to obtain reproducible outcomes.\n",
    "rng = np.random.Generator(np.random.PCG64(seed=0))\n",
    "\n",
    "# Error:\n",
    "# Standard deviation for the error\n",
    "sigma = 5e-1\n",
    "# Error to be added\n",
    "e = rng.normal(0, sigma, m)\n",
    "\n",
    "# Generating data points\n",
    "x = np.linspace(0,1,m)\n",
    "y = fv(x,a0_exact,a1_exact)+e\n",
    "\n",
    "# Build the data matrix\n",
    "A = np.ones((m,2))\n",
    "A[:,1] = x\n",
    "# Setting up the right hand side\n",
    "b = y"
   ]
  },
  {
   "cell_type": "markdown",
   "metadata": {},
   "source": [
    "### Solving the least-square problem with the Normal Equations\n",
    "\n",
    "This is what we already did"
   ]
  },
  {
   "cell_type": "code",
   "execution_count": 13,
   "metadata": {},
   "outputs": [
    {
     "name": "stdout",
     "output_type": "stream",
     "text": [
      "[1.00415184 4.07279301]\n"
     ]
    }
   ],
   "source": [
    "# Building and solving the normal equations\n",
    "# A^T A x_bar = A^T b\n",
    "x_bar = np.linalg.solve(A.T @ A, A.T @ b)\n",
    "print(x_bar)"
   ]
  },
  {
   "cell_type": "markdown",
   "metadata": {},
   "source": [
    "### Solving the least-square problem with the **Reduced QR factorization**\n",
    "1. Using our implementation\n",
    "2. Using the Numpy's implementation"
   ]
  },
  {
   "cell_type": "code",
   "execution_count": 14,
   "metadata": {},
   "outputs": [
    {
     "name": "stdout",
     "output_type": "stream",
     "text": [
      "[1.00415184 4.07279301]\n"
     ]
    }
   ],
   "source": [
    "# 1.\n",
    "Q,R = QR(A, type_factorization = 'reduced', type_gram_schmidt='modified')\n",
    "x_bar_our = spla.solve_triangular(R,np.dot(Q.T,b))\n",
    "print(x_bar_our)"
   ]
  },
  {
   "cell_type": "code",
   "execution_count": 15,
   "metadata": {},
   "outputs": [
    {
     "name": "stdout",
     "output_type": "stream",
     "text": [
      "[1.00415184 4.07279301]\n"
     ]
    }
   ],
   "source": [
    "# 2.\n",
    "Qnp, Rnp = np.linalg.qr(A)\n",
    "x_bar_numpy = spla.solve_triangular(Rnp,np.dot(Qnp.T,b))\n",
    "print(x_bar_numpy)"
   ]
  },
  {
   "cell_type": "markdown",
   "metadata": {},
   "source": [
    "As a conclusion, we get the same result in all cases!\n",
    "\n",
    "**Therefore, we strongly suggest you to use the QR factorization for solving linear least-square problems**."
   ]
  },
  {
   "attachments": {},
   "cell_type": "markdown",
   "metadata": {},
   "source": [
    "<div id='sm' />\n",
    "\n",
    "# Additional examples\n",
    "[Back to TOC](#toc)"
   ]
  },
  {
   "cell_type": "code",
   "execution_count": 16,
   "metadata": {},
   "outputs": [],
   "source": [
    "def least_squares(A,b):\n",
    "    Q,R = QR(A,type_gram_schmidt='modified')\n",
    "    return spla.solve_triangular(R,np.dot(Q.T,b))\n",
    "\n",
    "def solve_model(M):\n",
    "    A=M['A']\n",
    "    b=M['b']\n",
    "    M['x_bar']=least_squares(A,b)\n",
    "    return M\n",
    "\n",
    "def create_model(data, type_model='linear'):\n",
    "    if type_model == 'linear': # f(x)=a0+a1*x\n",
    "        A = np.ones((data.shape[0],2))\n",
    "        A[:,1] = data[:,0]\n",
    "        b = data[:,1]\n",
    "    if type_model == 'parabollic': # f(x)=a0+a1*x+a_2*x^2\n",
    "        A = np.ones((data.shape[0],3))\n",
    "        A[:,1] = data[:,0]\n",
    "        A[:,2] = data[:,0]**2\n",
    "        b = data[:,1]\n",
    "    if type_model == 'exponential': #f(x)=a0 \\exp(a1*x) = \\exp(\\log(a0)+a1*x) -> log(f(x))=log(a0)+a1*x = A0+a1+x (it is linear now!)\n",
    "        A = np.ones((data.shape[0],2))\n",
    "        A[:,1] = data[:,0]\n",
    "        b = np.log(data[:,1])\n",
    "    M = {'A':A,\n",
    "         'b':b,\n",
    "         'type_model':type_model}\n",
    "    M=solve_model(M)\n",
    "    return M\n",
    "\n",
    "def evaluate_model(M,x):\n",
    "    x_bar=M['x_bar']\n",
    "    if M['type_model'] == 'linear':\n",
    "        return x_bar[0] + x_bar[1]*x\n",
    "    if M['type_model'] == 'parabollic':\n",
    "        return x_bar[0] + x_bar[1]*x + x_bar[2]*x**2\n",
    "    if M['type_model'] == 'exponential':\n",
    "        return np.exp(x_bar[0]+x_bar[1]*x)"
   ]
  },
  {
   "cell_type": "code",
   "execution_count": 17,
   "metadata": {},
   "outputs": [],
   "source": [
    "def generate_data(type_of_data='linear'):\n",
    "    n=40\n",
    "    np.random.seed(0)\n",
    "    x = np.linspace(0,10,n)\n",
    "    y = np.random.rand(n)\n",
    "    x = np.concatenate((x,x,y),axis=0)\n",
    "    n = 3*n\n",
    "    if type_of_data=='linear':\n",
    "        y = x+0.1*np.random.normal(0,1,n)+1.5\n",
    "    elif type_of_data=='parabollic':\n",
    "        y = 4*x**2+0.1*x*np.random.normal(0,1,n)+1.5\n",
    "    elif type_of_data=='exponential':\n",
    "        y = np.exp(x+0.1*np.random.normal(0,1,n)+1.5)\n",
    "    elif type_of_data=='sinusoidal':\n",
    "        y = np.sin(2*np.pi*x/10)+0.1*np.random.normal(0,1,n)+1.5\n",
    "    elif type_of_data=='random':\n",
    "        y = 0.1*np.random.normal(0,1,n)+1.5\n",
    "    elif type_of_data=='diabetes':\n",
    "        x,y=datasets.load_diabetes(return_X_y=True)\n",
    "        x=x[:,2]\n",
    "    data = np.stack((x, y)).T\n",
    "    return data"
   ]
  },
  {
   "cell_type": "code",
   "execution_count": 18,
   "metadata": {},
   "outputs": [
    {
     "data": {
      "application/vnd.jupyter.widget-view+json": {
       "model_id": "47ac4e333e204a8eb04c66cf9d0a31ac",
       "version_major": 2,
       "version_minor": 0
      },
      "text/plain": [
       "interactive(children=(Dropdown(description='type_of_data', index=5, options=('linear', 'parabollic', 'exponent…"
      ]
     },
     "metadata": {},
     "output_type": "display_data"
    },
    {
     "data": {
      "text/plain": [
       "<function __main__.looking_at_data(type_of_data='diabetes')>"
      ]
     },
     "execution_count": 18,
     "metadata": {},
     "output_type": "execute_result"
    }
   ],
   "source": [
    "def looking_at_data(type_of_data='diabetes'):\n",
    "    data=generate_data(type_of_data)\n",
    "    Ml = create_model(data, type_model='linear')\n",
    "    Mp = create_model(data, type_model='parabollic')\n",
    "    Me = create_model(data, type_model='exponential')\n",
    "    xx=np.linspace(np.min(data[:,0])-0.1,np.max(data[:,0])+0.1,1000)\n",
    "    yyl=evaluate_model(Ml,xx)\n",
    "    yyp=evaluate_model(Mp,xx)\n",
    "    yye=evaluate_model(Me,xx)\n",
    "    \n",
    "    error_l=data[:,1]-evaluate_model(Ml,data[:,0])\n",
    "    error_p=data[:,1]-evaluate_model(Mp,data[:,0])\n",
    "    error_e=data[:,1]-evaluate_model(Me,data[:,0])\n",
    "    \n",
    "    plt.figure(figsize=(2*M,M))\n",
    "    \n",
    "    plt.subplot(1, 2, 1)\n",
    "    plt.plot(xx,yyl,'k-',linewidth=5,label='linear model')\n",
    "    plt.plot(xx,yyp,'y-',linewidth=20,label='parabollic model',alpha=0.4)\n",
    "    plt.plot(xx,yye,'g-',linewidth=5,label='exponential model')\n",
    "    plt.plot(data[:,0],data[:,1],'.b',markersize=20,label='original data',alpha=0.3)\n",
    "    plt.grid(True)\n",
    "    plt.xlabel(r'$x$')\n",
    "    plt.ylabel(r'$y$')\n",
    "    plt.legend(loc='best')\n",
    "    #plt.ylim(0,10)\n",
    "    \n",
    "    plt.subplot(1, 2, 2)\n",
    "    plt.title('What does this histogram tell us?')\n",
    "    three_errors=np.vstack((error_l, error_p, error_e)).T\n",
    "    plt.hist(three_errors, bins=20,\n",
    "             label=['linear','parabollic','exponential'],\n",
    "             color=['k','y','g'], alpha=0.5)\n",
    "    plt.legend(loc='best')\n",
    "    plt.grid(True)\n",
    "    \n",
    "    plt.show()\n",
    "widgets.interact(looking_at_data,type_of_data=['linear','parabollic','exponential','sinusoidal','random','diabetes'])"
   ]
  },
  {
   "attachments": {},
   "cell_type": "markdown",
   "metadata": {},
   "source": [
    "## References\n",
    "[Back to TOC](#toc)\n",
    "\n",
    "### Numpy Least Squares\n",
    "http://docs.scipy.org/doc/numpy/reference/generated/numpy.linalg.lstsq.html\n",
    "\n",
    "### Numpy QR Factorization\n",
    "http://docs.scipy.org/doc/numpy/reference/generated/numpy.linalg.qr.html\n",
    "\n",
    "### Scikit Learn Datasets\n",
    "https://scikit-learn.org/stable/modules/classes.html#module-sklearn.datasets\n",
    "\n",
    "### Colorama\n",
    "https://pypi.org/project/colorama/"
   ]
  },
  {
   "attachments": {},
   "cell_type": "markdown",
   "metadata": {},
   "source": [
    "<div id='acknowledgements' />\n",
    "\n",
    "# Acknowledgements\n",
    "[Back to TOC](#toc)\n",
    "* _Material created by professor Claudio Torres_ (`ctorres@inf.utfsm.cl`) _and assistans: Laura Bermeo, Alvaro Salinas, Axel Símonsen and Martín Villanueva. DI UTFSM. April 2016._\n",
    "* _Material updated by professor Claudio Torres_ (`ctorres@inf.utfsm.cl`) DI UTFSM. June 2017.\n",
    "* _Material updated by professor Claudio Torres_ (`ctorres@inf.utfsm.cl`) DI UTFSM. July 2019.\n",
    "* _Material updated by professor Claudio Torres_ (`ctorres@inf.utfsm.cl`) DI UTFSM. August 2019.\n",
    "* _Update July 2020 - v1.27 - C.Torres_ : Fixing formatting issues.\n",
    "* _Update June 2021 - v1.28 - C.Torres_ : Re-ordering notebook and adding TOC link.\n",
    "* _Update June 2021 - v1.29 - C.Torres_ : Adding \"initial example\" in the section \"Overdetermined Linear Systems of Equations\".\n",
    "* _Update June 2021 - v1.30 - C.Torres_ : Adding colors to the numerical example of QR factorization.\n",
    "* _Update June 2021 - v1.31 - C.Torres_ : Adding more colors and an example to show that unitary vectors in double precision may not be truly unitary! And answers in the QR example.\n",
    "* _Update June 2021 - v1.32 - C.Torres_ : Update of QR implementation, using 'm' and 'n', and including sub-index 'k' to match the 'LaTex' explanation and classnotes.\n",
    "* _Update November 2021 - v1.33 - C.Torres_ : Updating text, adding a widget for unitary vectors.\n",
    "* _Update November 2021 - v1.34 - C.Torres_ : Updating TOC.\n",
    "* _Update May 2022 - v1.35 - C.Torres_ : Adding legend to the plots.\n",
    "* _Update October 2023 - v1.36 - C.Torres_ : Removing `np.linalg.norm` that was not needed in the implementation of the QR factorization.\n",
    "* _Update May 2024 - v1.37 - C.Torres_ : Updating the use of strings for Python 3.12.*.\n",
    "* _Update May 2024 - v1.38 - C.Torres_ : Large re-organization, major update and adding new plots."
   ]
  },
  {
   "cell_type": "code",
   "execution_count": null,
   "metadata": {},
   "outputs": [],
   "source": []
  }
 ],
 "metadata": {
  "anaconda-cloud": {},
  "kernelspec": {
   "display_name": "Python 3.9.12 ('base')",
   "language": "python",
   "name": "python3"
  },
  "language_info": {
   "codemirror_mode": {
    "name": "ipython",
    "version": 3
   },
   "file_extension": ".py",
   "mimetype": "text/x-python",
   "name": "python",
   "nbconvert_exporter": "python",
   "pygments_lexer": "ipython3",
   "version": "3.12.2"
  },
  "vscode": {
   "interpreter": {
    "hash": "3d597f4c481aa0f25dceb95d2a0067e73c0966dcbd003d741d821a7208527ecf"
   }
  },
  "widgets": {
   "state": {
    "7fd91d6f0d2545e7af10aae93cfe07e9": {
     "views": [
      {
       "cell_index": 15
      }
     ]
    }
   },
   "version": "1.2.0"
  }
 },
 "nbformat": 4,
 "nbformat_minor": 4
}
