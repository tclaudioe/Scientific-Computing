{
 "cells": [
  {
   "cell_type": "markdown",
   "metadata": {},
   "source": [
    "<center>\n",
    "    <img src=\"http://sct.inf.utfsm.cl/wp-content/uploads/2020/04/logo_di.png\" style=\"width:60%\">\n",
    "    <h1> INF285 - Computación Científica </h1>\n",
    "    <h2> Newton's divided differences, Sinc interpolation and piecewise-linear interpolations. </h2>\n",
    "    <h2> <a href=\"#acknowledgements\"> [S]cientific [C]omputing [T]eam </a> </h2>\n",
    "    <h2> Version: 1.01</h2>\n",
    "</center>"
   ]
  },
  {
   "cell_type": "markdown",
   "metadata": {},
   "source": [
    "<div id='toc' />\n",
    "\n",
    "## Table of Contents\n",
    "* [Introduction](#intro)\n",
    "* [Newton's divided differences](#NewtonDD)\n",
    "* [Sinc interpolator](#SincInterpolator)\n",
    "* [Piecewise linear interpolator](#PiecewiseLinearInterpolator)\n",
    "* [Convergence analysis](#convergence)\n",
    "* [Analysis of time vs error for interpolation algorithms](#AnalysisTimeVsError)\n",
    "* [Acknowledgements](#acknowledgements)"
   ]
  },
  {
   "cell_type": "code",
   "execution_count": 1,
   "metadata": {},
   "outputs": [],
   "source": [
    "import numpy as np\n",
    "import matplotlib.pyplot as plt\n",
    "import sympy as sym\n",
    "from functools import reduce\n",
    "import matplotlib as mpl\n",
    "mpl.rcParams['font.size'] = 14\n",
    "mpl.rcParams['axes.labelsize'] = 20\n",
    "mpl.rcParams['xtick.labelsize'] = 14\n",
    "mpl.rcParams['ytick.labelsize'] = 14\n",
    "%matplotlib inline\n",
    "from ipywidgets import interact, fixed, IntSlider, interact_manual, Checkbox, RadioButtons\n",
    "sym.init_printing()\n",
    "import time"
   ]
  },
  {
   "cell_type": "markdown",
   "metadata": {},
   "source": [
    "<div id='intro' />\n",
    "\n",
    "##  Introduction\n",
    "[Back to TOC](#toc)\n",
    "\n",
    "In this Bonus jupyter notebook we add the Newton divided differences algorithm, Sinc interpolation and piecewise linear interpolation for comparison purposes."
   ]
  },
  {
   "cell_type": "code",
   "execution_count": 2,
   "metadata": {},
   "outputs": [],
   "source": [
    "# Function that evaluates the xi's points in the polynomial\n",
    "def EvaluateInterpolant(D, xx):\n",
    "    if D['Method']=='Vandermonde':\n",
    "        p = lambda x: np.dot(D['PrecomputedData'],np.power(x,np.arange(D['n'])))\n",
    "    elif D['Method']=='Lagrange':\n",
    "        p = lambda x: np.dot(D['PrecomputedData'],[np.prod(x - np.delete(D['x'],j)) for j in range(D['n'])])\n",
    "    elif D['Method']=='Barycentric':\n",
    "        wi = D['PrecomputedData']\n",
    "        xi = D['x']\n",
    "        yi = D['y']\n",
    "        p = lambda x: np.sum(yi*wi/(x-xi))/np.sum(wi/(x-xi)) if len(xi[xi == x])==0 else np.ndarray.item(yi[xi == x])\n",
    "    elif D['Method']=='Newton':\n",
    "        p = lambda x: np.dot(D['PrecomputedData'],np.append([1],[np.prod(x-D['x'][:j]) for j in range(1,D['n'])]))\n",
    "    elif D['Method']=='SincInterpolator':\n",
    "        p = lambda x: np.dot([np.sinc((x-xi)/D['h']) for xi in D['x']],D['y'])\n",
    "    elif D['Method']=='PiecewiseLinear':\n",
    "        m = D['m']\n",
    "        n = D['n']\n",
    "        xi = D['x']\n",
    "        yi = D['y']\n",
    "        def p(x):\n",
    "            for i in range(n-1):\n",
    "                if xi[i]<= x and x<xi[i+1]:\n",
    "                    return yi[i]+m[i]*(x-xi[i])\n",
    "            # This is the last case, if x==x[-1]\n",
    "            return yi[-1]\n",
    "    return np.array([p(x) for x in xx])\n",
    "    \n",
    "# Function that shows the data points and the function that interpolates them.\n",
    "def PlotInterpolant(D,ylim=None):\n",
    "    xi = np.linspace(min(D['x']),max(D['x']),1000)\n",
    "    yi = EvaluateInterpolant(D,xi)\n",
    "    fig = plt.figure(figsize=(8,8))\n",
    "    plt.plot(D['x'],D['y'],'ro',label='Interpolation points')\n",
    "    plt.plot(xi,yi,'b-',label='$p(x)$')\n",
    "    plt.xlim(min(xi)-0.5, max(xi)+0.5)\n",
    "    if ylim:\n",
    "        plt.ylim(ylim[0], ylim[1])\n",
    "    else:\n",
    "        plt.ylim(min(yi)-0.5, max(yi)+0.5)\n",
    "    plt.grid(True)\n",
    "    plt.legend(loc='best')\n",
    "    plt.xlabel('$x$')\n",
    "    plt.show()"
   ]
  },
  {
   "cell_type": "markdown",
   "metadata": {},
   "source": [
    "## We repeat the already presented algorithms.\n",
    "[Back to TOC](#toc)"
   ]
  },
  {
   "cell_type": "code",
   "execution_count": 3,
   "metadata": {},
   "outputs": [],
   "source": [
    "def Vandermonde(x, y, show=False):\n",
    "    # We construct the matrix and solve the system of linear equations\n",
    "    # A = np.array([xi**np.arange(len(x)) for xi in x]) # OLDER VERSION\n",
    "    A = np.vander(x, increasing=True)\n",
    "    b = y\n",
    "    coefficients = np.linalg.solve(A,b)\n",
    "    n = len(x)\n",
    "    \n",
    "    # The function shows the data if the flag is true\n",
    "    if show:\n",
    "        print('Data Points: '); print([(x[i],y[i]) for i in range(n)])\n",
    "        print('A = '); print(np.array_str(A, precision=2, suppress_small=True))\n",
    "        print(\"cond(A) = \"+str(np.linalg.cond(A)))\n",
    "        print('b = '); print(np.array_str(b, precision=2, suppress_small=True))\n",
    "        print('x = '); print(np.array_str(coefficients, precision=2, suppress_small=True))\n",
    "        xS = sym.Symbol('x')\n",
    "        F = np.dot(xS**np.arange(len(x)),coefficients)\n",
    "        print('Interpolation Function: ') \n",
    "        print('F(x) = ')\n",
    "        print(F)\n",
    "        \n",
    "    # Finally, we return a data structure with our interpolating polynomial\n",
    "    D = {'Method': 'Vandermonde',\n",
    "         'PrecomputedData': coefficients,\n",
    "         'x': x,\n",
    "         'y': y,\n",
    "         'n': n}\n",
    "    return D"
   ]
  },
  {
   "cell_type": "code",
   "execution_count": 4,
   "metadata": {
    "scrolled": true
   },
   "outputs": [],
   "source": [
    "def Lagrange(x, y, show=False):\n",
    "    # We calculate the li's\n",
    "    n = len(x)\n",
    "    p = np.array([y[i]/np.prod(x[i] - np.delete(x,i)) for i in range(n)])\n",
    "    \n",
    "    # The function shows the data if the flag is true\n",
    "    if show:\n",
    "        print('Data Points: '); print([(x[i],y[i]) for i in range(n)])\n",
    "        xS = sym.Symbol('x')\n",
    "        L = np.dot(np.array([np.prod(xS - np.delete(x,i))/np.prod(x[i] - np.delete(x,i)) for i in range(n)]),y)\n",
    "        print('Interpolation Function: '); \n",
    "        print(L)\n",
    "        \n",
    "    # Finally, we return a data structure with our interpolating polynomial        \n",
    "    D = {'Method': 'Lagrange',\n",
    "         'PrecomputedData': p,\n",
    "         'x': x,\n",
    "         'y': y,\n",
    "         'n': n}\n",
    "    return D"
   ]
  },
  {
   "cell_type": "code",
   "execution_count": 5,
   "metadata": {},
   "outputs": [],
   "source": [
    "def Barycentric(x, y, show=False):\n",
    "    W  = np.subtract.outer(x, x)\n",
    "    wi  = 1/np.prod(W, axis=1, where = W!=0)\n",
    "    n = len(x)\n",
    "\n",
    "    # The function shows the data if the flag is true\n",
    "    if show:\n",
    "        print('Data Points: '); print([(x[i],y[i]) for i in range(n)])\n",
    "        xS = sym.Symbol('x')\n",
    "        N = np.sum(y*wi/(xS-x))/np.sum(wi/(xS-x))\n",
    "        print('Interpolation Function: ');\n",
    "        print(N)\n",
    "    \n",
    "    # Finally, we return a data structure with our interpolating polynomial\n",
    "    D = {'Method':'Barycentric',\n",
    "         'PrecomputedData': wi,\n",
    "         'x': x,\n",
    "         'y': y,\n",
    "         'n': n}\n",
    "    return D"
   ]
  },
  {
   "cell_type": "markdown",
   "metadata": {},
   "source": [
    "<div id='NewtonDD' />\n",
    "\n",
    "## Newton's Divided Difference\n",
    "[Back to TOC](#toc)"
   ]
  },
  {
   "cell_type": "markdown",
   "metadata": {},
   "source": [
    "In this interpolation method we will use divided differences to calculate the coefficients of our interpolation polynomial. Given a set of $n$ data points $(x_1,y_1),...,(x_n,y_n)$, the Newton polynomial is:\n",
    "$$ p(x) = \\sum^n_{i=1} (f[x_1 ... x_i] \\cdot \\prod^{i-1}_{j=1} (x-x_j)) ,$$\n",
    "where $ \\prod^{0}_{j=1} (x-x_j) = 0 $, and:\n",
    "$$ f[x_i] = y_i $$ \n",
    "$$ f[x_j...x_i] = \\frac{f[x_{j+1}...x_i]-f[x_j...x_{i-1}]}{x_i-x_j}$$"
   ]
  },
  {
   "cell_type": "code",
   "execution_count": 6,
   "metadata": {
    "scrolled": true
   },
   "outputs": [],
   "source": [
    "def Divided_Differences(x, y):\n",
    "    dd = np.array([y])\n",
    "    n = len(x)\n",
    "    for i in range(n-1):\n",
    "        ddi = []\n",
    "        for a in range(n-i-1):\n",
    "            ddi.append((dd[i][a+1]-dd[i][a])/(x[a+i+1]-x[a]))\n",
    "        ddi = np.append(ddi,np.full((n-len(ddi),),0.0))\n",
    "        dd = np.append(dd,[ddi],axis=0)\n",
    "    return np.array(dd)\n",
    "    \n",
    "def NewtonDD(x, y, show=False):\n",
    "    # We calculate the divided differences and store them in a data structure\n",
    "    dd = Divided_Differences(x,y)\n",
    "    n = len(x)\n",
    "    \n",
    "    # The function shows the data if the flag is true\n",
    "    if show:\n",
    "        print('Data Points: '); print([(x[i],y[i]) for i in range(n)])\n",
    "        xS = sym.Symbol('x')\n",
    "        N = np.dot(dd[:,0],np.append([1],[np.prod(xS-x[:i]) for i in range(1,n)]))\n",
    "        print('Interpolation Function: ');\n",
    "        print(N)\n",
    "        \n",
    "    # Finally, we return a data structure with our interpolating polynomial\n",
    "    D = {'Method':'Newton',\n",
    "         'PrecomputedData': dd[:,0],\n",
    "         'x': x,\n",
    "         'y': y,\n",
    "         'n': n}\n",
    "    return D"
   ]
  },
  {
   "cell_type": "code",
   "execution_count": 7,
   "metadata": {
    "scrolled": false
   },
   "outputs": [
    {
     "name": "stdout",
     "output_type": "stream",
     "text": [
      "Data Points: \n",
      "[(0.0, 0.0), (0.16666666666666666, 0.919444979253755), (0.3333333333333333, 0.7230858817383248), (0.5, -0.35078322768961984), (0.6666666666666666, -0.9989549170979283), (0.8333333333333333, -0.43483223962507717), (1.0, 0.6569865987187892)]\n",
      "Interpolation Function: \n",
      "40.6256591455599*x*(x - 0.833333333333333)*(x - 0.666666666666667)*(x - 0.5)*(x - 0.333333333333333)*(x - 0.166666666666667) - 102.482745619068*x*(x - 0.666666666666667)*(x - 0.5)*(x - 0.333333333333333)*(x - 0.166666666666667) + 57.5053218220759*x*(x - 0.5)*(x - 0.333333333333333)*(x - 0.166666666666667) + 8.57858633484017*x*(x - 0.333333333333333)*(x - 0.166666666666667) - 20.0844733818453*x*(x - 0.166666666666667) + 5.51666987552253*x\n"
     ]
    },
    {
     "data": {
      "image/png": "[encoded data removed]",
      "text/plain": [
       "<Figure size 800x800 with 1 Axes>"
      ]
     },
     "metadata": {},
     "output_type": "display_data"
    }
   ],
   "source": [
    "x = np.linspace(0,1,7)\n",
    "y = np.sin(7*x)\n",
    "D = NewtonDD(x, y, show=True)\n",
    "PlotInterpolant(D,ylim=None)"
   ]
  },
  {
   "cell_type": "markdown",
   "metadata": {},
   "source": [
    "Questions about Newton's DD:\n",
    "- What is the main problem using this method (and Lagrange)? How can you fix it? **A: A problem with polynomial interpolation with equispaced date is the Runge phenomenon and can be handle with Chebyshev points**\n",
    "- What to do when a new point is added? **A: Pro, is not necessary re-calculate the whole polynomial only a small piece**"
   ]
  },
  {
   "cell_type": "markdown",
   "metadata": {},
   "source": [
    "<div id='SincInterpolator' />\n",
    "\n",
    "## Sinc interpolator\n",
    "[Back to TOC](#toc)\n",
    "\n",
    "The Sinc interpolator is not a polynomial interpolator but it is an interesting one to know.\n",
    "It is useful for equalspaced data $x_i$ and if has the following form:\n",
    "$$\n",
    "g(x)=\\sum_{i=1}^n y_i\\,\\text{sinc}\\left(\\frac{x-x_i}{h}\\right),\n",
    "$$\n",
    "where $h=x_{i+1}-x_{i}$ and $\\text{sinc}(x)=\\dfrac{\\sin(\\pi\\,x)}{\\pi\\,x}$."
   ]
  },
  {
   "cell_type": "code",
   "execution_count": 8,
   "metadata": {},
   "outputs": [],
   "source": [
    "def SincInterpolator(x, y, show=False):\n",
    "    # We first check the data in equalspaced\n",
    "    dx = np.diff(x)\n",
    "    if np.abs(np.max(dx)-np.min(dx))>1e-10:\n",
    "        raise ValueError(\"SincInterpolator: Data not equalspaced\")\n",
    "    \n",
    "    # Computing h = x[i+1]-x[i]\n",
    "    h = dx[0]\n",
    "    n = len(x)\n",
    "        \n",
    "    # The function shows the data if the flag is true\n",
    "    if show:\n",
    "        print('Data Points: '); \n",
    "        print([(x[i],y[i]) for i in range(n)])\n",
    "        xS = sym.Symbol('x')\n",
    "        SI = np.dot([sym.sinc((xS-xi)/h) for xi in x],y)\n",
    "        print('Interpolation Function: '); \n",
    "        print(SI)\n",
    "        \n",
    "    # Finally, we return a data structure with our interpolating polynomial        \n",
    "    D = {'Method': 'SincInterpolator',\n",
    "         'h': h,\n",
    "         'x': x,\n",
    "         'y': y}\n",
    "    return D"
   ]
  },
  {
   "cell_type": "code",
   "execution_count": 9,
   "metadata": {},
   "outputs": [
    {
     "name": "stdout",
     "output_type": "stream",
     "text": [
      "Data Points: \n",
      "[(0.0, 0.0), (0.16666666666666666, 0.919444979253755), (0.3333333333333333, 0.7230858817383248), (0.5, -0.35078322768961984), (0.6666666666666666, -0.9989549170979283), (0.8333333333333333, -0.43483223962507717), (1.0, 0.6569865987187892)]\n",
      "Interpolation Function: \n",
      "0.656986598718789*sinc(6.0*x - 6.0) - 0.434832239625077*sinc(6.0*x - 5.0) - 0.998954917097928*sinc(6.0*x - 4.0) - 0.35078322768962*sinc(6.0*x - 3.0) + 0.723085881738325*sinc(6.0*x - 2.0) + 0.919444979253755*sinc(6.0*x - 1.0)\n"
     ]
    },
    {
     "data": {
      "image/png": "[encoded data removed]",
      "text/plain": [
       "<Figure size 800x800 with 1 Axes>"
      ]
     },
     "metadata": {},
     "output_type": "display_data"
    }
   ],
   "source": [
    "D = SincInterpolator(x, y, show=True)\n",
    "PlotInterpolant(D,ylim=None)"
   ]
  },
  {
   "cell_type": "markdown",
   "metadata": {},
   "source": [
    "<div id='PiecewiseLinearInterpolator' />\n",
    "\n",
    "## Piecewise linear interpolator\n",
    "[Back to TOC](#toc)\n",
    "\n",
    "This interpolator interpolates the data between datapoints $(x_i,y_i)$ and $(x_{i+1},y_{i+1})$ with a linear function of the form $y_i+\\frac{y_{i+1}-y_i}{x_{i+1}-x_i}(x-x_i)$.\n",
    "The general form is the following:\n",
    "$$\n",
    "    g(x)=\n",
    "        \\begin{cases}\n",
    "            y_1+\\frac{y_2-y_1}{x_2-x_1}(x-x_1), \\quad x \\in [x_1,x_2]\\\\\n",
    "            y_2+\\frac{y_3-y_2}{x_3-x_2}(x-x_2), \\quad x \\in ]x_2,x_3]\\\\\n",
    "            \\quad \\vdots\\\\\n",
    "            y_i+\\frac{y_{i+1}-y_i}{x_{i+1}-x_i}(x-x_i), \\quad x \\in ]x_i,x_{i+1}]\\\\\n",
    "            \\quad \\vdots\\\\\n",
    "            y_{n-1}+\\frac{y_n-y_{n-1}}{x_n-x_{n-1}}(x-x_{n-1}), \\quad x \\in ]x_{n-1}, x_n]\n",
    "        \\end{cases}.\n",
    "$$\n",
    "In this case we don't requiere that the date is equalspaced."
   ]
  },
  {
   "cell_type": "code",
   "execution_count": 10,
   "metadata": {},
   "outputs": [],
   "source": [
    "def PiecewiseLinear(x, y, show=False):\n",
    "    # Precomputing slopes for linear interpolation\n",
    "    ii = np.argsort(x)\n",
    "    x = x[ii]\n",
    "    y = y[ii]\n",
    "    n = len(x)\n",
    "    m = np.diff(y)/np.diff(x)\n",
    "        \n",
    "    # The function shows the data if the flag is true\n",
    "    if show:\n",
    "        print('Data Points: '); \n",
    "        print([(x[i],y[i]) for i in range(n)])\n",
    "        xS = sym.Symbol('x')\n",
    "        PL = []\n",
    "        for i in np.arange(len(m)):\n",
    "            PL.append([[x[i],x[i+1]], y[i]+ m[i]*(xS-x[i])])\n",
    "        print('Interpolation Functions: '); \n",
    "        print(PL)\n",
    "        \n",
    "    # Finally, we return a data structure with our interpolating polynomial        \n",
    "    D = {'Method': 'PiecewiseLinear',\n",
    "         'm': m,\n",
    "         'n': n,\n",
    "         'x': x,\n",
    "         'y': y}\n",
    "    return D"
   ]
  },
  {
   "cell_type": "code",
   "execution_count": 11,
   "metadata": {},
   "outputs": [
    {
     "name": "stdout",
     "output_type": "stream",
     "text": [
      "Data Points: \n",
      "[(0.0, 0.0), (0.16666666666666666, 0.919444979253755), (0.3333333333333333, 0.7230858817383248), (0.5, -0.35078322768961984), (0.6666666666666666, -0.9989549170979283), (0.8333333333333333, -0.43483223962507717), (1.0, 0.6569865987187892)]\n",
      "Interpolation Functions: \n",
      "[[[0.0, 0.16666666666666666], 5.51666987552253*x], [[0.16666666666666666, 0.3333333333333333], 1.11580407676919 - 1.17815458509258*x], [[0.3333333333333333, 0.5], 2.87082410059421 - 6.44321465656767*x], [[0.5, 0.6666666666666666], 1.59373184053531 - 3.88903013644985*x], [[0.6666666666666666, 0.8333333333333333], 3.38473606483711*x - 3.25544562698933], [[0.8333333333333333, 1.0], 6.5509130300632*x - 5.89392643134441]]\n"
     ]
    },
    {
     "data": {
      "image/png": "[encoded data removed]",
      "text/plain": [
       "<Figure size 800x800 with 1 Axes>"
      ]
     },
     "metadata": {},
     "output_type": "display_data"
    }
   ],
   "source": [
    "D = PiecewiseLinear(x, y, show=True)\n",
    "PlotInterpolant(D,ylim=None)"
   ]
  },
  {
   "cell_type": "code",
   "execution_count": 12,
   "metadata": {},
   "outputs": [
    {
     "data": {
      "application/vnd.jupyter.widget-view+json": {
       "model_id": "8f3e85564f304d81881df2257f66fc72",
       "version_major": 2,
       "version_minor": 0
      },
      "text/plain": [
       "interactive(children=(IntSlider(value=0, description='i', max=7), IntSlider(value=7, description='N', max=20, …"
      ]
     },
     "metadata": {},
     "output_type": "display_data"
    },
    {
     "data": {
      "text/plain": [
       "<function __main__.show_time_new_algorithms(i=0, N=7, method='NewtonDD')>"
      ]
     },
     "execution_count": 12,
     "metadata": {},
     "output_type": "execute_result"
    }
   ],
   "source": [
    "def show_time_new_algorithms(i=0, N=7, method='NewtonDD'):\n",
    "    x = np.arange(N+1)\n",
    "    y = np.zeros(N+1)\n",
    "    y[i]=1\n",
    "    D = method(x,y,True)\n",
    "    PlotInterpolant(D,[-1,2])\n",
    "\n",
    "i_widget = IntSlider(min=0, max=7, step=1, value=0)\n",
    "N_widget = IntSlider(min=1, max=20, step=1, value=7)\n",
    "def update_i_range(*args):\n",
    "    i_widget.max = N_widget.value\n",
    "N_widget.observe(update_i_range, 'value')\n",
    "\n",
    "radio_button_interpolation_algorithm=RadioButtons(\n",
    "    options=[('NewtonDD',NewtonDD),('SincInterpolator',SincInterpolator),('PiecewiseLinear',PiecewiseLinear)],\n",
    "    value=SincInterpolator,\n",
    "    description='New Alg.:',\n",
    "    disabled=False\n",
    ")\n",
    "\n",
    "interact(show_time_new_algorithms,i=i_widget,N=N_widget,method=radio_button_interpolation_algorithm)"
   ]
  },
  {
   "cell_type": "markdown",
   "metadata": {},
   "source": [
    "## Another set of previous definitions\n",
    "[Back to TOC](#toc)"
   ]
  },
  {
   "cell_type": "code",
   "execution_count": 13,
   "metadata": {
    "scrolled": true
   },
   "outputs": [],
   "source": [
    "def Chebyshev(xmin,xmax,n=5):\n",
    "    # This function calculates the n Chebyshev points and plots or returns them depending on ax\n",
    "    ns = np.arange(1,n+1)\n",
    "    x = np.cos((2*ns-1)*np.pi/(2*n))\n",
    "    y = np.sin((2*ns-1)*np.pi/(2*n))\n",
    "    plt.figure(figsize=(10,5))\n",
    "    plt.ylim(-0.1,1.1)\n",
    "    plt.xlim(-1.1,1.1)\n",
    "    plt.plot(np.cos(np.linspace(0,np.pi)),np.sin(np.linspace(0,np.pi)),'k-')\n",
    "    plt.plot([-2,2],[0,0],'k-')\n",
    "    plt.plot([0,0],[-1,2],'k-')\n",
    "    for i in range(len(y)):\n",
    "        plt.plot([x[i],x[i]],[0,y[i]],'r-')\n",
    "        plt.plot([0,x[i]],[0,y[i]],'r-')\n",
    "    plt.plot(x,[0]*len(x),'bo',label='Chebyshev points')\n",
    "    plt.plot(x,y,'ro')\n",
    "    plt.xlabel('$x$')\n",
    "    plt.title('n = '+str(n))\n",
    "    plt.grid(True)\n",
    "    plt.legend(loc='best')\n",
    "    plt.show()\n",
    "def Chebyshev_points(xmin,xmax,n):\n",
    "    ns = np.arange(1,n+1)\n",
    "    x = np.cos((2*ns-1)*np.pi/(2*n))\n",
    "    #y = np.sin((2*ns-1)*np.pi/(2*n))\n",
    "    return (xmin+xmax)/2 + (xmax-xmin)*x/2"
   ]
  },
  {
   "cell_type": "code",
   "execution_count": 14,
   "metadata": {
    "scrolled": true
   },
   "outputs": [],
   "source": [
    "def Error(f, n, xmin, xmax, method=Lagrange, points=np.linspace, plot_flag=True):\n",
    "    # This function plots f(x), the interpolating polynomial, and the associated error\n",
    "    # points can be np.linspace to equidistant points or Chebyshev to get Chebyshev points\n",
    "    \n",
    "    # These two lines generate the data that will be used in the interpolation\n",
    "    x = points(xmin,xmax,n)\n",
    "    y = f(x)\n",
    "    \n",
    "    # These two lines compute the exact value of the function being interpolated on a finer grid\n",
    "    xe = np.linspace(xmin,xmax,200)\n",
    "    ye = f(xe)\n",
    "    \n",
    "    # This two lines build the interpolant chosen, where the name of the method is \n",
    "    # passed as parameter usign the variable 'method'.\n",
    "    D = method(x,y)\n",
    "    yi = EvaluateInterpolant(D, xe)\n",
    "    \n",
    "    if plot_flag:\n",
    "        plt.figure(figsize=(5,10))\n",
    "        f, (ax1, ax2) = plt.subplots(1, 2, figsize=(15,5), sharey = False)\n",
    "\n",
    "        ax1.plot(xe, ye,'k-', label='f(x)')\n",
    "        ax1.plot(x, y,'ro', label='Interpolation points',markersize=10)\n",
    "        ax1.plot(xe, yi,'b-', label='Interpolation')\n",
    "        ax1.set_xlim(xmin-0.5,xmax+0.5)\n",
    "        ax1.set_ylim(min(yi)-0.5,max(yi)+0.5)       \n",
    "        ax1.set_title('Interpolation')\n",
    "        ax1.grid(True)\n",
    "        ax1.set_xlabel('$x$')\n",
    "        ax1.legend(loc='best') \n",
    "\n",
    "        ax2.semilogy(xe, abs(ye-yi),'c-', label='Absolute Error')\n",
    "        ax2.set_xlim(xmin-0.5,xmax+0.5)\n",
    "        ax2.set_title('Absolute Error')\n",
    "        ax2.set_xlabel('$x$')\n",
    "        ax2.grid(True) \n",
    "        plt.show()\n",
    "        \n",
    "    return max(abs(ye-yi))"
   ]
  },
  {
   "cell_type": "markdown",
   "metadata": {},
   "source": [
    "<div id='convergence' />\n",
    "\n",
    "## Convergence analysis\n",
    "[Back to TOC](#toc)"
   ]
  },
  {
   "cell_type": "markdown",
   "metadata": {},
   "source": [
    "The next set of experiments show a convergence analysis comparing equalspaced points to Chebychev points.\n",
    "The $x$-axis is the number of points used and the $y$-axis is the maxmimum error obtain on the interval in logarithmic scale.\n",
    "The experiment are the followings:\n",
    "1. $f(x)=x^{10}$. In this case both sets of points perform similarly, however there is a significant drop in the error when $n$ is equal to $11$. This means, the error reach a minimum of $10^{-14}$ app at that number points. Why?\n",
    "2. $f(x)=|x^3|$. This looks like a naive function but it is not. The equalspace points start to decrease from an error of $10^{0}$ until an error app $10^{-3}$ with approximately 10 points, it then start to increase the error. On the other hand, the Chebychev points show a decresing behavior upto $n=50$ but it only reaches an error of app $10^{-5}$, which is too high. What is the issue with this funcion?\n",
    "3. $f(x)=\\exp(-(x^{-2}))$. This is also a tricky function bevcause involves a division by $0$ when we evaluate it at $x=0$, but it is well defined at that points. Similarly to the first example, the equalspaced points reduce the error upto $n=10$, and then start to increase. For the Chebychev points, they decrease upto 40 points and the also show a slight increment in the error. What is the value of $f(x)$ at $x=0$?\n",
    "4. $f(x)=\\dfrac{1}{1+x^2}$. In this case both cases decrease the error but faster for the Chebyshev points. The main difference is that the minimum error reached for equalspaced points is about $10^{-8}$ and $10^{-13}$ for the Chebyshev points, in both cases about $n=37$.\n",
    "5. $f(x)=\\sin^3(x)$. In this case both cases reached an error $10^{-14}$ with $n=20$, then for equalspaced points start to increase the error right away but for Chebyshev points it starts to increase at $n=40$.\n",
    "\n",
    "Answers to the previous questions:\n",
    "1. The reason is that when $n=11$ we will be interpolation an polynomial of degree $10$ with a polynomial of degree $10$, so we can reproduce it exactly! This is why the error is $0$. When $n$ was lower, we only had an approximation. It is interesting that the error increases as we increase the number of points after $n=10$. Would it be useful to change the algorihtm used?\n",
    "2. The issue is that the function is not analytic, this is because it involves the absolute value. Recall that expression for the error requires the computation of the $n$-th derivative of $f(x)$ at a $c$ point, so if the function is not differentiable, in this case the issues is at $x=0$, we could expect a bad behavior. The probles can be easily solve if we interpolate the function with a polynomial defined on $[-1,0]$ and another on $[0,1]$, ensurring the are equal at $x=0$. In this case we only need two polynomials of degree $3$ and we will be able to reproduce the function exactly! The issue is to notice this when we only have access to the computational implementation of $f(x)$ and not to the function itself.\n",
    "3. 0\n",
    "4. -\n",
    "5. -\n",
    "\n",
    "**We strongly suggest you to try different functions and play around!**"
   ]
  },
  {
   "cell_type": "code",
   "execution_count": 15,
   "metadata": {
    "scrolled": false
   },
   "outputs": [
    {
     "name": "stderr",
     "output_type": "stream",
     "text": [
      "<>:8: SyntaxWarning: invalid escape sequence '\\e'\n",
      "<>:10: SyntaxWarning: invalid escape sequence '\\s'\n",
      "<>:8: SyntaxWarning: invalid escape sequence '\\e'\n",
      "<>:10: SyntaxWarning: invalid escape sequence '\\s'\n",
      "/var/folders/9y/fwh0nfx16wd6199vf_40_xkr0000gn/T/ipykernel_44962/392168661.py:8: SyntaxWarning: invalid escape sequence '\\e'\n",
      "  \"\\exp(-x^{-2})\",\n",
      "/var/folders/9y/fwh0nfx16wd6199vf_40_xkr0000gn/T/ipykernel_44962/392168661.py:10: SyntaxWarning: invalid escape sequence '\\s'\n",
      "  \"\\sin^3(x)\"]\n"
     ]
    },
    {
     "data": {
      "application/vnd.jupyter.widget-view+json": {
       "model_id": "923ada2ce26941f38882986d7f39588f",
       "version_major": 2,
       "version_minor": 0
      },
      "text/plain": [
       "interactive(children=(RadioButtons(description='Function:', options=(('x^{10}', <function <lambda> at 0x1114ce…"
      ]
     },
     "metadata": {},
     "output_type": "display_data"
    },
    {
     "data": {
      "text/plain": [
       "<function __main__.convergence_study(my_function, method)>"
      ]
     },
     "execution_count": 15,
     "metadata": {},
     "output_type": "execute_result"
    }
   ],
   "source": [
    "my_functions=[lambda x: x**10,\n",
    "              lambda x: np.abs(x**3),\n",
    "              lambda x: np.exp(-(x**-2)),\n",
    "              lambda x: 1/(1+x**2),\n",
    "              lambda x: np.sin(x)**3]\n",
    "labels = [\"x^{10}\",\n",
    "          \"|x^3|\",\n",
    "          \"\\exp(-x^{-2})\",\n",
    "          \"1/(1+x^2)\",\n",
    "          \"\\sin^3(x)\"]\n",
    "data=zip(labels,my_functions)\n",
    "\n",
    "radio_button_function=RadioButtons(\n",
    "    options=list(data),\n",
    "    description='Function:',\n",
    "    disabled=False\n",
    ")\n",
    "\n",
    "radio_button_interpolation_algorithm=RadioButtons(\n",
    "    options=[('Vandermonde',Vandermonde),('Lagrange',Lagrange),('Barycentric',Barycentric),('NewtonDD',NewtonDD),('SincInterpolator',SincInterpolator),('PiecewiseLinear',PiecewiseLinear)],\n",
    "    value=Barycentric,\n",
    "    description='Algorithm:',\n",
    "    disabled=False\n",
    ")\n",
    "\n",
    "def convergence_study(my_function, method):\n",
    "    n=100\n",
    "    shift=2\n",
    "    n_points=np.arange(shift,n)\n",
    "    max_error=np.zeros(n-shift)\n",
    "    max_error_es=np.zeros(n-shift)\n",
    "    for i in n_points:\n",
    "        if method!=SincInterpolator:\n",
    "            max_error[i-shift] = Error(my_function, i, -1, 1, method, Chebyshev_points, plot_flag=False)\n",
    "        else:\n",
    "            max_error[i-shift] = 1\n",
    "        max_error_es[i-shift] = Error(my_function, i, -1, 1, method, points=np.linspace, plot_flag=False)\n",
    "    axis=plt.figure(figsize=(8,8))\n",
    "    if method!=SincInterpolator:\n",
    "        plt.semilogy(n_points,max_error,'bd',label='Chebyshev points',markersize=10)\n",
    "    plt.semilogy(n_points,max_error_es,'r.',label='Equalspaced poins',markersize=16)\n",
    "    plt.ylim(10**-16,10**4)\n",
    "    plt.grid(True)\n",
    "    plt.title('Interpolation Error')\n",
    "    plt.xlabel('Number of points used in the interpolation')\n",
    "    plt.ylabel('Max error on domain')\n",
    "    plt.legend(loc='best')\n",
    "    plt.show()\n",
    "interact(convergence_study,my_function=radio_button_function, method=radio_button_interpolation_algorithm)"
   ]
  },
  {
   "cell_type": "markdown",
   "metadata": {},
   "source": [
    "<div id='AnalysisTimeVsError' />\n",
    "\n",
    "## Analysis of time vs error for interpolation algorithms\n",
    "[Back to TOC](#toc)\n",
    "\n",
    "The idea here is to understand the relationship between the error we get for each algorithm and the computation time associated.\n",
    "This analysis highlights the advantage of Barycentric interpolation with Chebyshev points when the function being interpolated is analytic.\n",
    "Notice that the first plot shows the computation time required for the construction of the interpolant, the second the cost of evaluation of the interpolant in a finer grid and the third one shows the sum of both times."
   ]
  },
  {
   "cell_type": "code",
   "execution_count": 16,
   "metadata": {},
   "outputs": [
    {
     "data": {
      "application/vnd.jupyter.widget-view+json": {
       "model_id": "fcc5203632874b1db4db96c0502652d3",
       "version_major": 2,
       "version_minor": 0
      },
      "text/plain": [
       "interactive(children=(RadioButtons(description='Function:', options=(('x^{10}', <function <lambda> at 0x1114ce…"
      ]
     },
     "metadata": {},
     "output_type": "display_data"
    },
    {
     "data": {
      "text/plain": [
       "<function __main__.analysis_error_vs_time_interpolation_algorihtms(f)>"
      ]
     },
     "execution_count": 16,
     "metadata": {},
     "output_type": "execute_result"
    }
   ],
   "source": [
    "def get_error_and_time(f, xmin=-1, xmax=1, method=Lagrange, points=np.linspace):\n",
    "    \n",
    "    construction_times   = []\n",
    "    evaluation_times     = []\n",
    "    interpolation_errors = []\n",
    "    \n",
    "    #n_range = np.logspace(1, 2, num=5, endpoint=True, base=10, dtype=int)\n",
    "    n_range = np.array([2,4,8,16,30,50])\n",
    "    \n",
    "    for n in n_range:\n",
    "        \n",
    "        # This function plots f(x), the interpolating polynomial, and the associated error\n",
    "        # points can be np.linspace to equidistant points or Chebyshev to get Chebyshev points\n",
    "\n",
    "        # These two lines generate the data that will be used in the interpolation\n",
    "        x = points(xmin,xmax,n)\n",
    "        y = f(x)\n",
    "\n",
    "        # These two lines compute the exact value of the function being interpolated on a finer grid\n",
    "        xe = np.linspace(xmin,xmax,100)\n",
    "        ye = f(xe)\n",
    "\n",
    "        # This two lines build the interpolant chosen, where the name of the method is \n",
    "        # passed as parameter usign the variable 'method'.\n",
    "        time_construction = %timeit -o -q -n 10 -r 5 method(x,y)\n",
    "        construction_times.append(time_construction.average)\n",
    "        D = method(x,y)\n",
    "        \n",
    "        time_evaluation = %timeit -o -q -n 10 -r 5 EvaluateInterpolant(D, xe)\n",
    "        evaluation_times.append(time_evaluation.average)\n",
    "        yi = EvaluateInterpolant(D, xe)\n",
    "        \n",
    "        if max(abs(ye-yi))<1e-16:\n",
    "            interpolation_errors.append(1e-16)\n",
    "        else:\n",
    "            interpolation_errors.append(max(abs(ye-yi)))\n",
    "        \n",
    "    return construction_times, evaluation_times, interpolation_errors\n",
    "\n",
    "\n",
    "def analysis_error_vs_time_interpolation_algorihtms(f):\n",
    "    # List of methods\n",
    "    list_of_methods = [('Vandermonde',Vandermonde),('Lagrange',Lagrange),('Barycentric',Barycentric),('NewtonDD',NewtonDD),('SincInterpolator',SincInterpolator),('PiecewiseLinear',PiecewiseLinear)]\n",
    "    # List of type of points\n",
    "    list_of_points = [('equalspaced',np.linspace), ('Chebyshev',Chebyshev_points)]\n",
    "    list_output_data = []\n",
    "    k = 1\n",
    "    for name_method, method in list_of_methods:\n",
    "        for points_name, points in list_of_points:\n",
    "            # We exclude SincInterpolator for Chebyshev points because it need equalspaced data\n",
    "            if (name_method=='SincInterpolator' and points_name=='Chebyshev'):\n",
    "                continue\n",
    "            tic = time.time()\n",
    "            c_time, e_time, errors = get_error_and_time(f, xmin=-1, xmax=1, method=method, points=points)\n",
    "            print(k,'/ 11: ',name_method, ',' , points_name, ', time:',time.time()-tic,'[s]')\n",
    "            k=k+1\n",
    "            list_output_data.append([name_method, points_name, c_time, e_time, errors])\n",
    "    \n",
    "    markers = ['8','>','<','^','v','o','d','D','H','h','*','p','s']\n",
    "    \n",
    "    fig = plt.figure(figsize=(16,16))\n",
    "    plt.rcParams.update({'font.size': 12})\n",
    "    \n",
    "    k = 0\n",
    "    for data in list_output_data:\n",
    "        name_method, points_name, c_time, e_time, errors = data\n",
    "            \n",
    "        ax = plt.subplot(2,2,1)\n",
    "        plt.title('Construction time')\n",
    "        plt.loglog(errors, c_time, markers[k], lw=2.0, ms=10, label=name_method+', '+points_name)\n",
    "        ax = plt.subplot(2,2,2)\n",
    "        plt.title('Evaluation time')\n",
    "        plt.loglog(errors, e_time, markers[k], lw=2.0, ms=10, label=name_method+', '+points_name)\n",
    "        ax = plt.subplot(2,2,3)\n",
    "        plt.title('Construction + evaluation times')\n",
    "        plt.loglog(errors, np.array(c_time)+np.array(e_time), markers[k], lw=2.0, ms=10, label=name_method+', '+points_name)\n",
    "        k=k+1\n",
    "    \n",
    "    plt.legend(loc='lower left', ncol=1, fancybox=True, shadow=True, numpoints=1, bbox_to_anchor=(1,0))\n",
    "    \n",
    "    for i in range(3):\n",
    "        ax = plt.subplot(2,2,i+1)\n",
    "        plt.xlabel(\"Absolute Error\")\n",
    "        plt.ylabel(\"Time in seconds\")\n",
    "        plt.grid('on')\n",
    "    plt.show()\n",
    "\n",
    "interact(analysis_error_vs_time_interpolation_algorihtms,f=radio_button_function)"
   ]
  },
  {
   "cell_type": "markdown",
   "metadata": {},
   "source": [
    "**Warning**: Notice that this experiment shows a _competitive_ behavior of the Vandermonde matrix but don't forget that the Vandermonde matrix is very ill-conditioned!"
   ]
  },
  {
   "cell_type": "markdown",
   "metadata": {},
   "source": [
    "<div id='py' />\n",
    "\n",
    "## Python Modules and Functions\n",
    "[Back to TOC](#toc)"
   ]
  },
  {
   "cell_type": "markdown",
   "metadata": {},
   "source": [
    "Interpolation: \n",
    "\n",
    "https://numpy.org/doc/stable/reference/generated/numpy.polyfit.html\n",
    "\n",
    "Vandermonde Matrix: \n",
    "\n",
    "https://numpy.org/doc/stable/reference/generated/numpy.vander.html\n",
    "\n",
    "Lagrange Interpolator: \n",
    "\n",
    "https://docs.scipy.org/doc/scipy/reference/generated/scipy.interpolate.lagrange.html\n",
    "\n",
    "Barycentric Interpolator:\n",
    "\n",
    "https://people.maths.ox.ac.uk/trefethen/barycentric.pdf\n",
    "\n",
    "https://docs.scipy.org/doc/scipy/reference/generated/scipy.interpolate.BarycentricInterpolator.html\n",
    "\n",
    "Chebyshev Points for the First Kind:\n",
    "\n",
    "https://numpy.org/doc/stable/reference/generated/numpy.polynomial.chebyshev.chebroots.html"
   ]
  },
  {
   "cell_type": "markdown",
   "metadata": {},
   "source": [
    "<div id='acknowledgements' />\n",
    "\n",
    "# Acknowledgements\n",
    "[Back to TOC](#toc)\n",
    "\n",
    "* _Material created by professor Claudio Torres_ (`ctorres@inf.utfsm.cl`) _. DI UTFSM. October 2021._\n",
    "* _Update October 2021 - v1.01 - C.Torres_ : Re-organizing jupyter notebook. "
   ]
  },
  {
   "cell_type": "code",
   "execution_count": null,
   "metadata": {},
   "outputs": [],
   "source": []
  }
 ],
 "metadata": {
  "anaconda-cloud": {},
  "kernelspec": {
   "display_name": "Python 3.9.12 ('base')",
   "language": "python",
   "name": "python3"
  },
  "language_info": {
   "codemirror_mode": {
    "name": "ipython",
    "version": 3
   },
   "file_extension": ".py",
   "mimetype": "text/x-python",
   "name": "python",
   "nbconvert_exporter": "python",
   "pygments_lexer": "ipython3",
   "version": "3.12.2"
  },
  "vscode": {
   "interpreter": {
    "hash": "3d597f4c481aa0f25dceb95d2a0067e73c0966dcbd003d741d821a7208527ecf"
   }
  },
  "widgets": {
   "state": {
    "5efcd611b7dc44c6a97625817dd3fbe6": {
     "views": [
      {
       "cell_index": 36
      }
     ]
    },
    "8db4944843b24bfdbbc01a2701a91f4e": {
     "views": [
      {
       "cell_index": 26
      }
     ]
    },
    "8dd643c0494a4f818cdbe0a372bd4a8d": {
     "views": [
      {
       "cell_index": 33
      }
     ]
    },
    "9543e2873c43447fb872737490344ffd": {
     "views": [
      {
       "cell_index": 30
      }
     ]
    },
    "e0f720c37e4b4516b7a72955bb108af4": {
     "views": [
      {
       "cell_index": 23
      }
     ]
    }
   },
   "version": "1.2.0"
  }
 },
 "nbformat": 4,
 "nbformat_minor": 4
}
