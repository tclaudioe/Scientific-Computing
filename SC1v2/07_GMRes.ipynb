{
 "cells": [
  {
   "attachments": {},
   "cell_type": "markdown",
   "metadata": {},
   "source": [
    "<center>\n",
    "    <img src=\"http://sct.inf.utfsm.cl/wp-content/uploads/2020/04/logo_di.png\" style=\"width:60%\">\n",
    "    <h1> INF285 - Computación Científica </h1>\n",
    "    <h2> Generalized Minimal Residual Method </h2>\n",
    "    <h2> <a href=\"#acknowledgements\"> [S]cientific [C]omputing [T]eam </a> </h2>\n",
    "    <h2> Version: 1.24</h2>\n",
    "</center>"
   ]
  },
  {
   "attachments": {},
   "cell_type": "markdown",
   "metadata": {},
   "source": [
    "<div id='toc' />\n",
    "\n",
    "## Table of Contents\n",
    "* [Introduction](#intro)\n",
    "* [A quick review on Least Squares](#LS)\n",
    "* [GMRes](#GMRes)\n",
    "    * [A very simple example](#AVSE)\n",
    "    * [Another example, how may iteration does it need to converge?](#AEx)\n",
    "    * [Plotting the residual over the iterations](#Proi)\n",
    "* [Theoretical Problems](#TP)\n",
    "* [Practical Problems](#PP)\n",
    "* [Acknowledgements](#acknowledgements)"
   ]
  },
  {
   "cell_type": "code",
   "execution_count": 23,
   "metadata": {},
   "outputs": [],
   "source": [
    "import numpy as np\n",
    "import scipy as sp\n",
    "from scipy import linalg as la\n",
    "import matplotlib.pyplot as plt\n",
    "import scipy.sparse.linalg\n",
    "%matplotlib inline\n",
    "#%load_ext memory_profiler\n",
    "import matplotlib as mpl\n",
    "mpl.rcParams['font.size'] = 14\n",
    "mpl.rcParams['axes.labelsize'] = 20\n",
    "mpl.rcParams['xtick.labelsize'] = 14\n",
    "mpl.rcParams['ytick.labelsize'] = 14\n",
    "M=8\n",
    "\n",
    "# Fixing the 'seed' of the random number generator to obtain reproducible outcomes.\n",
    "rng = np.random.Generator(np.random.PCG64(seed=0))"
   ]
  },
  {
   "attachments": {},
   "cell_type": "markdown",
   "metadata": {},
   "source": [
    "<div id='intro' />\n",
    "\n",
    "## Introduction\n",
    "[Back to TOC](#toc)\n",
    "\n",
    "In this Jupyter Notebook we will learn about the Generalized Minimum Residual Method (GMRes).\n",
    "This algorithm solves **square** linear system of equations.\n",
    "We already learned several algorithms to solve linear system of equations, such as the Gaussian Elimination, the LU factorization, the PALU factorization, which are complete algorithms, and iterative methods, such as the Jacobi and the Gauss-Seidel methods.\n",
    "So, you may ask, _why do we need to learn another algorithm since I already know enough methods?_\n",
    "The answer is simple, GMRes is a complete algorithm (which means it finishes after a finite number of FLOPS) that also behaves as an iterative algorithm.\n",
    "Moreover, it can handle square linear system of equations that are not written in the standard form $A\\,\\mathbf{x}=\\mathbf{b}$.\n",
    "\n",
    "In general, GMRes works really well for finding the solution of large, sparse (and dense as well), nonsymmetric linear systems of equations. \n",
    "Of course, it will also have trouble for ill-conditioned linear system of equations. \n",
    "But it is really easy to add a left or right or both preconditioners!"
   ]
  },
  {
   "attachments": {},
   "cell_type": "markdown",
   "metadata": {},
   "source": [
    "<div id='LS' />\n",
    "\n",
    "## A quick review on Least Squares\n",
    "[Back to TOC](#toc)"
   ]
  },
  {
   "attachments": {},
   "cell_type": "markdown",
   "metadata": {},
   "source": [
    "Least Squares is used to solve overdetemined linear systems of equations $A\\,\\mathbf{x} \\approx \\mathbf{b}$. \n",
    "That is, a linear system of equations where there are more equations than unknowns. \n",
    "The least-square approximation finds the $\\overline{\\mathbf{x}}$ such that it minimizes the 2-norm of $\\mathbf{r} = \\mathbf{b} - A\\,\\mathbf{x}$.\n",
    "\n",
    "Now, you might be wondering, \n",
    "- _How are linear least squares problems connected with GMRes?_\n",
    "\n",
    "They are connected since GMRes is an iterative algorithm that minimizes the least-square error on each iteration where the approximation to the solution is restricted to live in a lower dimensional vector space."
   ]
  },
  {
   "attachments": {},
   "cell_type": "markdown",
   "metadata": {},
   "source": [
    "<div id='GMRes' />\n",
    "\n",
    "## GMRes\n",
    "[Back to TOC](#toc)\n",
    "\n",
    "GMRes is a member of the family of Krylov methods.\n",
    "It solve a square linear system of equations $A\\,\\mathbf{x}=\\mathbf{b}$, for $A\\in\\mathbb{R}^{n \\times n}$ nonsingular, $\\mathbf{x}\\in\\mathbb{R}^n$ and $\\mathbf{b}\\in\\mathbb{R}^n$.\n",
    "It finds an approximation of $\\mathbf{x}$ restricted to _live_ on the Krylov sub-space $\\mathcal{K}_k$,  where $\\mathcal{K}_k=\\textrm{span}\\left(\\mathbf{r}_0, A\\,\\mathbf{r}_0, A^2\\,\\mathbf{r}_0, \\cdots, A^{k-1}\\,\\mathbf{r}_0\\right)$ and $\\mathbf{r}_0 = \\mathbf{b} - A\\,\\mathbf{x}_0$ is the residual vector of the initial guess.\n",
    "\n",
    "The idea behind this method is to look for improvements to the initial guess $\\mathbf{x}_0$ in the Krylov sub-space. \n",
    "At the $(k+1)$-th iteration, we enlarge the Krylov space by adding $A^k\\,\\mathbf{r}_0$, re-orthogonalize it against  the basis, and then use least squares to find the best improvement to add to $\\mathbf{x}_0$.\n",
    "\n",
    "The algorithm is as follows:"
   ]
  },
  {
   "attachments": {},
   "cell_type": "markdown",
   "metadata": {},
   "source": [
    "`Generalized Minimum Residual Method`\n",
    "\n",
    "$\\mathbf{x}_0$ `= initial guess`<br>\n",
    "$\\mathbf{r}$ `=` $\\mathbf{b} - A\\,\\mathbf{x}_0$<br>\n",
    "$\\mathbf{q}_1$ `=` $\\mathbf{r} / \\|\\mathbf{r}\\|_2$<br>\n",
    "`for` $k = 1, ..., n$<br>\n",
    "$\\qquad \\ \\ \\mathbf{y} = A\\,\\mathbf{q}_k$<br>\n",
    "$\\qquad$ `for` $j = 1,2,...,k$ <br>\n",
    "$\\qquad \\qquad$ $h_{jk} = \\mathbf{q}_j^*\\,\\mathbf{y}$<br>\n",
    "$\\qquad \\qquad$ $\\mathbf{y} = \\mathbf{y} - h_{jk}\\, \\mathbf{q}_j$<br>\n",
    "$\\qquad$ `end`<br>\n",
    "$\\qquad h_{k+1,k} = \\|\\mathbf{y}\\|_2$ <br>\n",
    "$\\qquad$ `if` $h_{k+1,k}>0:$ <br>\n",
    "$\\qquad \\qquad\\ \\mathbf{q}_{k+1} = \\mathbf{y}/h_{k+1,k}$ <br>\n",
    "$\\qquad \\overline{\\mathbf{c}}_k=\\text{argmin}_{\\mathbf{c}_k}\\left\\|[\\|\\mathbf{r}\\|_2, 0, 0, \\dots, 0]^T-\\widehat{H}_k\\,\\mathbf{c}_k\\right\\|_2$ <br>\n",
    "$\\qquad$ $\\mathbf{x}_k = Q_k \\, \\overline{\\mathbf{c}}_k + \\mathbf{x}_0$ <br>\n",
    "`end`"
   ]
  },
  {
   "attachments": {},
   "cell_type": "markdown",
   "metadata": {},
   "source": [
    "Now we have to implement it."
   ]
  },
  {
   "cell_type": "code",
   "execution_count": 14,
   "metadata": {},
   "outputs": [],
   "source": [
    "# This is a very instructive implementation of GMRes.\n",
    "def GMRes(A, b, x0=np.array([0.0]), m=10, flag_display=True, threshold=1e-12):\n",
    "    n = len(b)\n",
    "    if len(x0)==1:\n",
    "        x0=np.zeros(n)\n",
    "    r0 = b - np.dot(A, x0)\n",
    "    nr0=np.linalg.norm(r0)\n",
    "    out_res=np.array(nr0)\n",
    "    Q = np.zeros((n,min(n,m+1)))\n",
    "    H = np.zeros((min(n,m+1),min(n,m)))\n",
    "    Q[:,0] = r0 / nr0\n",
    "    flag_break=False\n",
    "    for k in np.arange(min(m,n)):\n",
    "        y = np.dot(A, Q[:,k])\n",
    "        if flag_display:\n",
    "            print('||y||=',np.linalg.norm(y))\n",
    "        for j in np.arange(k+1):\n",
    "            H[j][k] = np.dot(Q[:,j], y)\n",
    "            if flag_display:\n",
    "                print('H[',j,'][',k,']=',H[j][k])\n",
    "            y = y - np.dot(H[j][k],Q[:,j])\n",
    "            if flag_display:\n",
    "                print('||y||=',np.linalg.norm(y))\n",
    "        # All but the last equation are treated equally. Why?\n",
    "        if k+1<n:\n",
    "            H[k+1][k] = np.linalg.norm(y)\n",
    "            if flag_display:\n",
    "                print('H[',k+1,'][',k,']=',H[k+1][k])\n",
    "            if (np.abs(H[k+1][k]) > 1e-16):\n",
    "                Q[:,k+1] = y/H[k+1][k]\n",
    "            else:\n",
    "                print('flag_break has been activated')\n",
    "                flag_break=True\n",
    "            # Do you remember e_1? The canonical vector.\n",
    "            e1 = np.zeros((k+1)+1)        \n",
    "            e1[0]=1\n",
    "            H_tilde=H[0:(k+1)+1,0:k+1]\n",
    "        else:\n",
    "            H_tilde=H[0:k+1,0:k+1]\n",
    "        # Solving the 'SMALL' least square problem. \n",
    "        # This could be improved with Givens rotations!\n",
    "        ck = np.linalg.lstsq(H_tilde, nr0*e1,rcond=None)[0] \n",
    "        if k+1<n:\n",
    "            x = x0 + np.dot(Q[:,0:(k+1)], ck)\n",
    "        else:\n",
    "            x = x0 + np.dot(Q, ck)\n",
    "        # Why is 'norm_small' equal to 'norm_full'?\n",
    "        norm_small=np.linalg.norm(np.dot(H_tilde,ck)-nr0*e1)\n",
    "        out_res = np.append(out_res,norm_small)\n",
    "        if flag_display:\n",
    "            norm_full=np.linalg.norm(b-np.dot(A,x))\n",
    "            print(r'..........||b-A\\,x_k||=',norm_full)\n",
    "            print(r'..........||H_k\\,c_k-nr0*e1||',norm_small);\n",
    "        if flag_break:\n",
    "            if flag_display: \n",
    "                print('EXIT: flag_break=True')\n",
    "            break\n",
    "        if norm_small<threshold:\n",
    "            if flag_display:\n",
    "                print('EXIT: norm_small<threshold')\n",
    "            break\n",
    "    return x, out_res"
   ]
  },
  {
   "attachments": {},
   "cell_type": "markdown",
   "metadata": {},
   "source": [
    "<div id='AVSE' />\n",
    "\n",
    "## A very simple example\n",
    "[Back to TOC](#toc)"
   ]
  },
  {
   "cell_type": "code",
   "execution_count": 15,
   "metadata": {},
   "outputs": [],
   "source": [
    "A = np.array([[1,1,0],[0,1,0],[0,1,1]])\n",
    "b = np.array([1,2,3])\n",
    "x0 = np.zeros(3)"
   ]
  },
  {
   "cell_type": "code",
   "execution_count": 16,
   "metadata": {},
   "outputs": [
    {
     "name": "stdout",
     "output_type": "stream",
     "text": [
      "||y||= 1.647508942095828\n",
      "H[ 0 ][ 0 ]= 1.5714285714285714\n",
      "||y||= 0.4948716593053935\n",
      "H[ 1 ][ 0 ]= 0.4948716593053935\n",
      "..........||b-A\\,x_k||= 1.1239029738980326\n",
      "..........||H_k\\,c_k-nr0*e1|| 1.1239029738980326\n",
      "||y||= 0.7867957924694432\n",
      "H[ 0 ][ 1 ]= -0.6598288790738581\n",
      "||y||= 0.4285714285714286\n",
      "H[ 1 ][ 1 ]= 0.4285714285714286\n",
      "||y||= 1.1443916996305594e-16\n",
      "H[ 2 ][ 1 ]= 1.1443916996305594e-16\n",
      "..........||b-A\\,x_k||= 1.0175362097255202e-15\n",
      "..........||H_k\\,c_k-nr0*e1|| 4.920762688787672e-16\n",
      "EXIT: norm_small<threshold\n",
      "--------------------------------\n",
      "x_scipy [-1.  2.  1.]\n",
      "x_our [-1.  2.  1.]\n",
      "x_np [-1.  2.  1.]\n"
     ]
    }
   ],
   "source": [
    "# scipy gmres\n",
    "x_scipy = scipy.sparse.linalg.gmres(A,b,x0)[0]\n",
    "# our gmres\n",
    "x_our, _ = GMRes(A,b)\n",
    "# numpy solve\n",
    "x_np= np.linalg.solve(A,b)\n",
    "\n",
    "# Showing the solutions\n",
    "print('--------------------------------')\n",
    "print('x_scipy',x_scipy)\n",
    "print('x_our',x_our)\n",
    "print('x_np',x_np)"
   ]
  },
  {
   "attachments": {},
   "cell_type": "markdown",
   "metadata": {},
   "source": [
    "<div id='AEx' />\n",
    "\n",
    "## Another example, how may iteration does it need to converge?\n",
    "[Back to TOC](#toc)"
   ]
  },
  {
   "cell_type": "code",
   "execution_count": 22,
   "metadata": {},
   "outputs": [
    {
     "name": "stdout",
     "output_type": "stream",
     "text": [
      "||y||= 0.9999999999999999\n",
      "H[ 0 ][ 0 ]= 0.0\n",
      "||y||= 0.9999999999999999\n",
      "H[ 1 ][ 0 ]= 0.9999999999999999\n",
      "..........||b-A\\,x_k||= 1.4142135623730951\n",
      "..........||H_k\\,c_k-nr0*e1|| 1.4142135623730951\n",
      "||y||= 1.0\n",
      "H[ 0 ][ 1 ]= 1.0\n",
      "||y||= 1.5700924586837752e-16\n",
      "H[ 1 ][ 1 ]= 0.0\n",
      "||y||= 1.5700924586837752e-16\n",
      "H[ 2 ][ 1 ]= 1.5700924586837752e-16\n",
      "..........||b-A\\,x_k||= 3.1401849173675503e-16\n",
      "..........||H_k\\,c_k-nr0*e1|| 2.2204460492503136e-16\n",
      "EXIT: norm_small<threshold\n",
      "3.1401849173675503e-16\n"
     ]
    }
   ],
   "source": [
    "A = np.array([[0,0,0,1],[1,0,0,0],[0,1,0,0],[0,0,1,0]])\n",
    "b = np.array([1,0,1,0])\n",
    "x_our, _ = GMRes(A, b, m=10)\n",
    "norm_full=np.linalg.norm(b-np.dot(A,x_our))\n",
    "print(norm_full)"
   ]
  },
  {
   "cell_type": "code",
   "execution_count": 27,
   "metadata": {
    "scrolled": false
   },
   "outputs": [
    {
     "name": "stdout",
     "output_type": "stream",
     "text": [
      "||y||= 14.326247849393615\n",
      "H[ 0 ][ 0 ]= 14.112362610621403\n",
      "||y||= 2.4662925594077993\n",
      "H[ 1 ][ 0 ]= 2.4662925594077993\n",
      "..........||b-A\\,x_k||= 0.3378048017107215\n",
      "..........||H_k\\,c_k-nr0*e1|| 0.33780480171072147\n",
      "||y||= 11.010955573253227\n",
      "H[ 0 ][ 1 ]= 2.0261392660054005\n",
      "||y||= 10.822934089742365\n",
      "H[ 1 ][ 1 ]= 10.784138845064424\n",
      "||y||= 0.9155608561313437\n",
      "H[ 2 ][ 1 ]= 0.9155608561313437\n",
      "..........||b-A\\,x_k||= 0.02998347181229307\n",
      "..........||H_k\\,c_k-nr0*e1|| 0.029983471812293157\n",
      "||y||= 9.89990800025942\n",
      "H[ 0 ][ 2 ]= 0.5138712745117403\n",
      "||y||= 9.886562331105397\n",
      "H[ 1 ][ 2 ]= 0.020966500722070822\n",
      "||y||= 9.886540099179271\n",
      "H[ 2 ][ 2 ]= 9.863156053207966\n",
      "||y||= 0.6795791364857606\n",
      "H[ 3 ][ 2 ]= 0.6795791364857606\n",
      "..........||b-A\\,x_k||= 0.002067865447974864\n",
      "..........||H_k\\,c_k-nr0*e1|| 0.0020678654479748763\n",
      "||y||= 9.918186928067948\n",
      "H[ 0 ][ 3 ]= -0.12576453796306522\n",
      "||y||= 9.91738953662146\n",
      "H[ 1 ][ 3 ]= 0.310844790227114\n",
      "||y||= 9.91251687198955\n",
      "H[ 2 ][ 3 ]= 0.060536811563384696\n",
      "||y||= 9.912332017841374\n",
      "H[ 3 ][ 3 ]= 9.902847902356488\n",
      "||y||= 0.43350830985910693\n",
      "H[ 4 ][ 3 ]= 0.43350830985910693\n",
      "..........||b-A\\,x_k||= 9.067166694001535e-05\n",
      "..........||H_k\\,c_k-nr0*e1|| 9.067166694003528e-05\n",
      "||y||= 9.85016844211877\n",
      "H[ 0 ][ 4 ]= 0.1219920506672129\n",
      "||y||= 9.849412991528304\n",
      "H[ 1 ][ 4 ]= 0.5514549612270981\n",
      "||y||= 9.833963275476707\n",
      "H[ 2 ][ 4 ]= 0.23018656391106887\n",
      "||y||= 9.831268882968228\n",
      "H[ 3 ][ 4 ]= 0.30132245472475594\n",
      "||y||= 9.826650122371204\n",
      "H[ 4 ][ 4 ]= 9.80349611401578\n",
      "||y||= 0.6741784407525391\n",
      "H[ 5 ][ 4 ]= 0.6741784407525391\n",
      "..........||b-A\\,x_k||= 6.2346856126417025e-06\n",
      "..........||H_k\\,c_k-nr0*e1|| 6.234685612808192e-06\n",
      "||y||= 9.751151271946739\n",
      "H[ 0 ][ 5 ]= -0.011590878586891225\n",
      "||y||= 9.751144383092791\n",
      "H[ 1 ][ 5 ]= 0.31092142634673525\n",
      "||y||= 9.746186159034755\n",
      "H[ 2 ][ 5 ]= 0.09475174413343983\n",
      "||y||= 9.745725563217151\n",
      "H[ 3 ][ 5 ]= -0.2606421779511413\n",
      "||y||= 9.742239599220353\n",
      "H[ 4 ][ 5 ]= -0.2257434821916282\n",
      "||y||= 9.739623826866474\n",
      "H[ 5 ][ 5 ]= 9.706979466092877\n",
      "||y||= 0.7967571359682871\n",
      "H[ 6 ][ 5 ]= 0.7967571359682871\n",
      "..........||b-A\\,x_k||= 5.10464817156401e-07\n",
      "..........||H_k\\,c_k-nr0*e1|| 5.104648169425921e-07\n",
      "||y||= 9.901045300771765\n",
      "H[ 0 ][ 6 ]= 0.3550441136803775\n",
      "||y||= 9.89467744422604\n",
      "H[ 1 ][ 6 ]= 0.6176174069919166\n",
      "||y||= 9.875383054031683\n",
      "H[ 2 ][ 6 ]= -0.034662831983497656\n",
      "||y||= 9.875322220157427\n",
      "H[ 3 ][ 6 ]= -0.2765517252286806\n",
      "||y||= 9.871449138561577\n",
      "H[ 4 ][ 6 ]= -0.3031468276906813\n",
      "||y||= 9.866793303605236\n",
      "H[ 5 ][ 6 ]= -0.1205513160668959\n",
      "||y||= 9.86605683524394\n",
      "H[ 6 ][ 6 ]= 9.845202573122767\n",
      "||y||= 0.6411425507954442\n",
      "H[ 7 ][ 6 ]= 0.6411425507954442\n",
      "..........||b-A\\,x_k||= 3.32559640729039e-08\n",
      "..........||H_k\\,c_k-nr0*e1|| 3.325596429037979e-08\n",
      "||y||= 10.220898054285257\n",
      "H[ 0 ][ 7 ]= -0.062397002730853725\n",
      "||y||= 10.220707590482293\n",
      "H[ 1 ][ 7 ]= -0.7260687124145387\n",
      "||y||= 10.194885378217602\n",
      "H[ 2 ][ 7 ]= -0.012837225509882462\n",
      "||y||= 10.194877296006867\n",
      "H[ 3 ][ 7 ]= -0.6180206135845815\n",
      "||y||= 10.176127632936844\n",
      "H[ 4 ][ 7 ]= 0.05057949835196802\n",
      "||y||= 10.17600193180835\n",
      "H[ 5 ][ 7 ]= -0.28775545639710526\n",
      "||y||= 10.17193256532312\n",
      "H[ 6 ][ 7 ]= 0.4604419777843051\n",
      "||y||= 10.161506054644413\n",
      "H[ 7 ][ 7 ]= 10.158004415051781\n",
      "||y||= 0.26674257696058923\n",
      "H[ 8 ][ 7 ]= 0.26674257696058923\n",
      "..........||b-A\\,x_k||= 8.775575819253655e-10\n",
      "..........||H_k\\,c_k-nr0*e1|| 8.775576684949269e-10\n",
      "||y||= 10.185033137661906\n",
      "H[ 0 ][ 8 ]= -0.20522660109913507\n",
      "||y||= 10.182965288042203\n",
      "H[ 1 ][ 8 ]= 0.14735534544279968\n",
      "||y||= 10.181899059588138\n",
      "H[ 2 ][ 8 ]= -0.11148455554330457\n",
      "||y||= 10.18128870298437\n",
      "H[ 3 ][ 8 ]= 0.2272696223418513\n",
      "||y||= 10.178751798343338\n",
      "H[ 4 ][ 8 ]= -0.4892347292292212\n",
      "||y||= 10.16698763410253\n",
      "H[ 5 ][ 8 ]= -0.04479186411182062\n",
      "||y||= 10.166888965701512\n",
      "H[ 6 ][ 8 ]= 0.06036633566901182\n",
      "||y||= 10.166709750279146\n",
      "H[ 7 ][ 8 ]= -0.5637822872842536\n",
      "||y||= 10.151065790298356\n",
      "H[ 8 ][ 8 ]= 10.142606972704987\n",
      "||y||= 0.41431929257728534\n",
      "H[ 9 ][ 8 ]= 0.41431929257728534\n",
      "..........||b-A\\,x_k||= 3.577742145906748e-11\n",
      "..........||H_k\\,c_k-nr0*e1|| 3.5777611477933425e-11\n",
      "||y||= 10.358612352975994\n",
      "H[ 0 ][ 9 ]= -0.9384470323556637\n",
      "||y||= 10.316015075923925\n",
      "H[ 1 ][ 9 ]= -0.21955790406474018\n",
      "||y||= 10.313678362904886\n",
      "H[ 2 ][ 9 ]= -0.5149878501074026\n",
      "||y||= 10.30081302071318\n",
      "H[ 3 ][ 9 ]= 0.21414536533307663\n",
      "||y||= 10.298586827822568\n",
      "H[ 4 ][ 9 ]= 0.1142892173356748\n",
      "||y||= 10.29795264239457\n",
      "H[ 5 ][ 9 ]= 0.2414816553321263\n",
      "||y||= 10.295120943201171\n",
      "H[ 6 ][ 9 ]= -0.4635410369364766\n",
      "||y||= 10.284680108890855\n",
      "H[ 7 ][ 9 ]= 0.4937581802939267\n",
      "||y||= 10.272820829821187\n",
      "H[ 8 ][ 9 ]= 0.01546245520226597\n",
      "||y||= 10.272809192917347\n",
      "H[ 9 ][ 9 ]= 10.272809192778377\n",
      "||y||= 5.343481766996638e-05\n",
      "..........||b-A\\,x_k||= 1.4749679539501263e-15\n",
      "..........||H_k\\,c_k-nr0*e1|| 1.3779099613257399e-15\n",
      "1.4749679539501263e-15\n"
     ]
    }
   ],
   "source": [
    "A = rng.uniform(low=0.0, high=1.0, size=(10,10))+10*np.eye(10)\n",
    "b = rng.uniform(low=0.0, high=1.0, size=10)\n",
    "x_our, out_res = GMRes(A, b, m=10,flag_display=True, threshold=1e-15)\n",
    "norm_full=np.linalg.norm(b-np.dot(A,x_our))\n",
    "print(norm_full)"
   ]
  },
  {
   "attachments": {},
   "cell_type": "markdown",
   "metadata": {},
   "source": [
    "<div id='Proi' />\n",
    "\n",
    "## Plotting the residual over the iterations\n",
    "[Back to TOC](#toc)"
   ]
  },
  {
   "cell_type": "code",
   "execution_count": 29,
   "metadata": {},
   "outputs": [
    {
     "data": {
      "image/png": "[encoded data removed]",
      "text/plain": [
       "<Figure size 800x800 with 1 Axes>"
      ]
     },
     "metadata": {},
     "output_type": "display_data"
    }
   ],
   "source": [
    "plt.figure(figsize=(M,M))\n",
    "plt.semilogy(out_res,'.k',markersize=20,label='residual')\n",
    "plt.grid(True)\n",
    "plt.xlabel(r'$k$')\n",
    "plt.ylabel(r'$\\|\\mathbf{b}-A\\,\\mathbf{x}_k\\|_2$')\n",
    "plt.grid(True)\n",
    "plt.show()"
   ]
  },
  {
   "attachments": {},
   "cell_type": "markdown",
   "metadata": {},
   "source": [
    "<div id='TP' />\n",
    "\n",
    "## Theoretical Problems\n",
    "[Back to TOC](#toc)"
   ]
  },
  {
   "attachments": {},
   "cell_type": "markdown",
   "metadata": {},
   "source": [
    "1. Prove that in GMRES method, the backward error $||b- Ax_k||$ decreases monotonically with k.\n",
    "2. What would happen if we pass a singular matrix $A$ to the previous implementation of GMRes?\n",
    "3. Prove that for\n",
    "\\begin{equation}\n",
    "A=\n",
    "\\left[\n",
    "\\begin{array}{c|c}\n",
    "I & C \\\\\n",
    "\\hline\n",
    "0 & I\n",
    "\\end{array}\n",
    "\\right]\n",
    "\\end{equation}\n",
    "and any $x_0$ and $b$, GMRES converges to the exact solution after **two** steps. Here $C$ is a $m_1 \\times m_2$ submatrix, $0$ denotes the $m_2 \\times m_1$ matrix of zeros, and $I$ denotes the appropiate-sized identity matrix."
   ]
  },
  {
   "attachments": {},
   "cell_type": "markdown",
   "metadata": {},
   "source": [
    "<div id='PP' />\n",
    "\n",
    "## Practical Problems\n",
    "[Back to TOC](#toc)"
   ]
  },
  {
   "attachments": {},
   "cell_type": "markdown",
   "metadata": {},
   "source": [
    "1. A possible improvement to the present algorithm consists on taking out of the loop the least squares computations, since the _Krylov_ subspace spaned by $Q_k$ doesn't depend on previous least squares calculations.\n",
    "    * Verify the truth of the above statement.\n",
    "    * Verify if it is really an improvement.\n",
    "    * Implement it.\n",
    "    * Test both implementations using `%timeit`\n",
    "1. The GMRES method is meant for huge $n\\times n$ sparse matrices $A$. In most cases, the goal is to run the method for $k$ steps (with $k << n$), reducing the complexity of the subproblems (Least squares). Neverthless for $k$ values too small, the solution $x_k$ could be not as good as needed. So to keep the values $k$ small and avoid bad solutions, there exists a variation of the algorithm known as **Restarted GMRES**: If no enough progress is made toward the solution after $k$ iterations, discard $Q_k$ and start GMRES from the beginning, using the current best guess $x_k$ as the new $x_0$.\n",
    "    * Implement the Restarted GMRES method. Introduce a tolerance parameter to stop restarting.\n",
    "    * Compare the asymptotic operation count and storage requirements of GMRES and Restarted GMRES, for fixed $k$ and increasing $n$.\n",
    "    * Execute it on a _huge_ linear system $A x = b$, and compare the solution with the solution of standard GMRES. Keep a value of $k$ small, and count how many times Restarted GMRES has to restart. Perform benchmarks using `%timeit` and `%memit` and verify the results.\n",
    "    * Describe an example in which Restared GMRES can be expected to fail to converge, whereas GMRES succeds."
   ]
  },
  {
   "attachments": {},
   "cell_type": "markdown",
   "metadata": {},
   "source": [
    "<div id='acknowledgements' />\n",
    "\n",
    "# Acknowledgements\n",
    "[Back to TOC](#toc)\n",
    "\n",
    "* _Material created by professor Claudio Torres_ (`ctorres@inf.utfsm.cl`) _and assistants: Laura Bermeo, Alvaro Salinas, Axel Simonsen and Martín Villanueva. DI UTFSM. April 2016._\n",
    "* _Material updated by professor Claudio Torres_ (`ctorres@inf.utfsm.cl`). DI UTFSM. June 2017.\n",
    "* _Update July 2020 - v1.21 - C.Torres_ : Fixing formatting issues.\n",
    "* _Update June 2021 - v1.22 - C.Torres_ : Updating format and adding link to TOC. Improving GMRes description. Adding `rcond=None` to  np.linalg.lstsq.\n",
    "* _Update June 2022 - v1.23 - C.Torres_ : Fixing some LaTeX issues.\n",
    "* _Update May 2024 - v1.24 - C.Torres_ : Re-visiting the descriptions and redusing memory usage for the GMRes implementation."
   ]
  },
  {
   "cell_type": "code",
   "execution_count": null,
   "metadata": {},
   "outputs": [],
   "source": []
  }
 ],
 "metadata": {
  "anaconda-cloud": {},
  "kernelspec": {
   "display_name": "Python 3.9.12 ('base')",
   "language": "python",
   "name": "python3"
  },
  "language_info": {
   "codemirror_mode": {
    "name": "ipython",
    "version": 3
   },
   "file_extension": ".py",
   "mimetype": "text/x-python",
   "name": "python",
   "nbconvert_exporter": "python",
   "pygments_lexer": "ipython3",
   "version": "3.12.2"
  },
  "vscode": {
   "interpreter": {
    "hash": "3ac50632fb3bdf9f343ef51447c90235899ecf2fcb8080338e89f31f890e4206"
   }
  }
 },
 "nbformat": 4,
 "nbformat_minor": 4
}
