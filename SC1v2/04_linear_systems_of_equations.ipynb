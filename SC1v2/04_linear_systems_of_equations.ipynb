{
 "cells": [
  {
   "cell_type": "markdown",
   "metadata": {},
   "source": [
    "<center>\n",
    "    <img src=\"http://sct.inf.utfsm.cl/wp-content/uploads/2020/04/logo_di.png\" style=\"width:60%\">\n",
    "    <h1> INF-285 - Computación Científica </h1>\n",
    "    <h2> Linear Systems of Equations </h2>\n",
    "    <h2> <a href=\"#acknowledgements\"> [S]cientific [C]omputing [T]eam </a> </h2>\n",
    "    <h2> Version: 1.21</h2>\n",
    "</center>"
   ]
  },
  {
   "cell_type": "markdown",
   "metadata": {},
   "source": [
    "<div id='toc' />\n",
    "\n",
    "## Table of Contents\n",
    "* [Introduction](#intro)\n",
    "* [Direct Methods](#dm)\n",
    "    * [LU](#lu)\n",
    "    * [PALU](#palu)\n",
    "    * [Cholesky](#cholesky)\n",
    "* [Iterative Methods](#im)\n",
    "    * [Jacobi](#jacobi)\n",
    "    * [Gauss-Seidel](#gaussseidel)\n",
    "    * [SOR](#sor)\n",
    "* [Convergence Analysis](#ca)\n",
    "* [Examples](#examples)\n",
    "    * [Motivation for PALU in classnotes example](#classnotespaluexample)\n",
    "    * [Iterative Methods classnotes example](#iterativeeethodexample)\n",
    "* [Exercises](#ex)\n",
    "* [Acknowledgements](#acknowledgements)"
   ]
  },
  {
   "cell_type": "code",
   "execution_count": 58,
   "metadata": {},
   "outputs": [],
   "source": [
    "import numpy as np # type: ignore\n",
    "import matplotlib.pyplot as plt # type: ignore\n",
    "from scipy.linalg import lu # type: ignore\n",
    "import pandas as pd # type: ignore\n",
    "%matplotlib inline\n",
    "from scipy.linalg import hilbert # type: ignore"
   ]
  },
  {
   "cell_type": "markdown",
   "metadata": {},
   "source": [
    "<div id='intro' />\n",
    "\n",
    "## Introduction\n",
    "[Back to TOC](#toc)\n",
    "\n",
    "In our last Jupyter Notebook we learned how to solve 1D equations. Now, we'll go to the next level and will learn how to solve not just <i>one</i> equation, but a <i>system</i> of linear equations. This is a set of $n$ equations involving $n$ variables wherein all the equations must be satisfied at the same time. You probably know how to solve small 2D systems with methods such as substitution and reduction, but in practical real-life situations it's very likely that you'll find problems of bigger dimensions. As usual, we'll present some useful methods for solving systems of linear equations below."
   ]
  },
  {
   "cell_type": "markdown",
   "metadata": {},
   "source": [
    "<div id='dm' />\n",
    "\n",
    "## Direct Methods\n",
    "[Back to TOC](#toc)"
   ]
  },
  {
   "cell_type": "markdown",
   "metadata": {},
   "source": [
    "Firstly, we will study _direct methods_. They compute the analytic solution of the system (from here comes the name **direct**) limited only by the loss of numerical precision, because of the arithmetic operations performed by the computer. Their counterpart is the _iterative methods_, which calculate an approximate solution that evolves iteratively converging to the real solution."
   ]
  },
  {
   "cell_type": "markdown",
   "metadata": {},
   "source": [
    "<div id='lu' />\n",
    "\n",
    "### LU decomposition\n",
    "[Back to TOC](#toc)"
   ]
  },
  {
   "cell_type": "markdown",
   "metadata": {},
   "source": [
    "Given the matrix $A \\in \\mathbb{R}^{n \\times n}$ square and non singular, the main goal of this method involves finding a decomposition like $A = L\\,U$ where $L,U \\in  \\mathbb{R}^{n \\times n}$ are lower and upper triangular matrices respectively.\n",
    "\n",
    "The algorithm to perform this decomposition is basically a modified version of _Gaussian Elimination_. It basically iterates through the first $n-1$ columns, making $0$ all the entries below the main diagonal. This is accomplished by performing row operations. "
   ]
  },
  {
   "cell_type": "code",
   "execution_count": 2,
   "metadata": {},
   "outputs": [],
   "source": [
    "def lu_decomp(A, show=False, print_precision=2):\n",
    "    N,_ = A.shape\n",
    "    U = np.copy(A)\n",
    "    L = np.identity(N)\n",
    "    if show:\n",
    "        print('Initial matrices')\n",
    "        print('L = '); print(np.array_str(L, precision=print_precision, suppress_small=True))\n",
    "        print('U = '); print(np.array_str(U, precision=print_precision, suppress_small=True))\n",
    "        print('----------------------------------------')\n",
    "    #iterating through columns\n",
    "    for j in range(N-1):\n",
    "        #iterating through rows\n",
    "        for i in range(j+1,N):\n",
    "            L[i,j] = U[i,j]/U[j,j]\n",
    "            U[i] -= L[i,j]*U[j] \n",
    "            if show:\n",
    "                print('L = '); print(np.array_str(L, precision=print_precision, suppress_small=True))\n",
    "                print('U = '); print(np.array_str(U, precision=print_precision, suppress_small=True))\n",
    "                print('----------------------------------------')\n",
    "    return L,U"
   ]
  },
  {
   "cell_type": "markdown",
   "metadata": {},
   "source": [
    "Once the decomposition is done, solving a linear system like $A\\,\\mathbf{x} = \\mathbf{b}$ is straightforward:\n",
    "\n",
    "$$A\\,\\mathbf{x} = \\mathbf{b} \\rightarrow L\\, U\\, \\mathbf{x} = \\mathbf{b} \\ \\ \\text{ if we set } \\ \\  U\\, \\mathbf{x} = \\mathbf{c} \\rightarrow L\\, \\mathbf{c} = \\mathbf{b} \\ \\ \\text{ (solve for $\\mathbf{c}$) } \\ \\rightarrow U\\, \\mathbf{x} = \\mathbf{c}$$\n",
    "\n",
    "and as you might know, solving lower and upper triangular systems can be easily performed by forward-substitution and backward-subsitution, respectively."
   ]
  },
  {
   "cell_type": "code",
   "execution_count": 3,
   "metadata": {},
   "outputs": [],
   "source": [
    "\"\"\"\n",
    "Solves a linear system A x = b, where A is a\n",
    "triangular (upper or lower) matrix\n",
    "\"\"\"\n",
    "def solve_triangular(A, b, upper=True):\n",
    "    n = b.shape[0]\n",
    "    x = np.zeros_like(b)\n",
    "    if upper==True:\n",
    "        #perform backward-substitution\n",
    "        x[-1] = (1./A[-1,-1]) * b[-1]\n",
    "        for i in range(n-2, -1, -1):\n",
    "            x[i] = (1./A[i,i]) * (b[i] - np.sum(A[i,i+1:] * x[i+1:]))\n",
    "    else:\n",
    "        #perform forward-substitution\n",
    "        x[0] = (1./A[0,0]) * b[0]\n",
    "        for i in range(1,n):\n",
    "            x[i] = (1./A[i,i]) * (b[i] - np.sum(A[i,:i] * x[:i]))\n",
    "    return x\n",
    "\n",
    "def solve_lu(A, b, show=False, print_precision=2):\n",
    "    L,U = lu_decomp(A, show, print_precision=print_precision)\n",
    "    # L.c = b with c = U.x\n",
    "    c = solve_triangular(L, b, upper=False)\n",
    "    x = solve_triangular(U, c)\n",
    "    return x"
   ]
  },
  {
   "cell_type": "markdown",
   "metadata": {},
   "source": [
    "Let's now try our implementations. We begin by creating a random $3 \\times 3$ linear system:"
   ]
  },
  {
   "cell_type": "code",
   "execution_count": 4,
   "metadata": {},
   "outputs": [],
   "source": [
    "A = np.random.random((3,3))\n",
    "b = np.ones(3)"
   ]
  },
  {
   "cell_type": "markdown",
   "metadata": {},
   "source": [
    "and then we compute the solution with our LU solver, and aditionally with the NumPy solver which computes the solution using LAPACK routines."
   ]
  },
  {
   "cell_type": "code",
   "execution_count": 5,
   "metadata": {},
   "outputs": [
    {
     "name": "stdout",
     "output_type": "stream",
     "text": [
      "Initial matrices\n",
      "L = \n",
      "[[1. 0. 0.]\n",
      " [0. 1. 0.]\n",
      " [0. 0. 1.]]\n",
      "U = \n",
      "[[0.01 0.54 0.49]\n",
      " [0.51 0.5  0.68]\n",
      " [0.63 0.09 0.26]]\n",
      "----------------------------------------\n",
      "L = \n",
      "[[ 1.    0.    0.  ]\n",
      " [49.46  1.    0.  ]\n",
      " [ 0.    0.    1.  ]]\n",
      "U = \n",
      "[[  0.01   0.54   0.49]\n",
      " [  0.   -26.09 -23.53]\n",
      " [  0.63   0.09   0.26]]\n",
      "----------------------------------------\n",
      "L = \n",
      "[[ 1.    0.    0.  ]\n",
      " [49.46  1.    0.  ]\n",
      " [61.63  0.    1.  ]]\n",
      "U = \n",
      "[[  0.01   0.54   0.49]\n",
      " [  0.   -26.09 -23.53]\n",
      " [  0.   -33.04 -29.92]]\n",
      "----------------------------------------\n",
      "L = \n",
      "[[ 1.    0.    0.  ]\n",
      " [49.46  1.    0.  ]\n",
      " [61.63  1.27  1.  ]]\n",
      "U = \n",
      "[[  0.01   0.54   0.49]\n",
      " [  0.   -26.09 -23.53]\n",
      " [  0.     0.    -0.11]]\n",
      "----------------------------------------\n"
     ]
    }
   ],
   "source": [
    "lu_sol = solve_lu(A,b, show=True)\n",
    "np_sol = np.linalg.solve(A,b)"
   ]
  },
  {
   "cell_type": "markdown",
   "metadata": {},
   "source": [
    "In order to compare these vectors, we use the Euclidean norm as follows:"
   ]
  },
  {
   "cell_type": "code",
   "execution_count": 6,
   "metadata": {},
   "outputs": [
    {
     "data": {
      "text/plain": [
       "2.375839919106173e-13"
      ]
     },
     "execution_count": 6,
     "metadata": {},
     "output_type": "execute_result"
    }
   ],
   "source": [
    "np.linalg.norm(lu_sol - np_sol)"
   ]
  },
  {
   "cell_type": "markdown",
   "metadata": {},
   "source": [
    "which is a very good result!"
   ]
  },
  {
   "cell_type": "markdown",
   "metadata": {},
   "source": [
    "This method has two important facts to be noted:\n",
    "\n",
    "1. Computing the LU decomposition requires $\\sim 2\\,n^3/3$ floating point operations. Can you check that?\n",
    "2. When computing the LU decomposition you can see the instruction `L[i,j] = U[i,j]/U[j,j]`. Here we divide an entry below the main diagonal by the _pivot_ value. What happens if the pivot equals 0? How can we prevent that? **Answer:** PALU."
   ]
  },
  {
   "cell_type": "markdown",
   "metadata": {},
   "source": [
    "<div id='palu' />\n",
    "\n",
    "### PALU decomposition\n",
    "[Back to TOC](#toc)"
   ]
  },
  {
   "cell_type": "markdown",
   "metadata": {},
   "source": [
    "As you might've noted previously, LU has a problem when a _pivot_ has the value of $0$. To handle this problem, we add row permutations to the original LU algorithm. The procedure is as follows:\n",
    "\n",
    "1. When visiting the row $j$, search for $\\max(|a_{j,j}|,\\ |a_{j+1,j}|,\\ \\ldots,\\ |a_{N-1,j}|,\\ |a_{N,j}|)$ (the maximum between the pivot and the entries below it).\n",
    "2. If such maximum is $|a_{j,k}| \\neq |a_{j,j}|$, permutate rows $i$ and $k$ making $a_{j,k}$ the new pivot.\n",
    "\n",
    "To keep track of all the permutations performed, we use the permutation matrix $P$. It's inicially an identity matrix which permutes its rows in the same way the algorithm does on the resulting matrix. "
   ]
  },
  {
   "cell_type": "code",
   "execution_count": 7,
   "metadata": {},
   "outputs": [],
   "source": [
    "#permutation between rows i and j on matrix A\n",
    "def row_perm(A, i, j):\n",
    "    tmp = np.copy(A[i])\n",
    "    A[i] = A[j]\n",
    "    A[j] = tmp\n",
    "\n",
    "def palu_decomp(A, show=False, print_precision=2):\n",
    "    N,_ = A.shape\n",
    "    P = np.identity(N)\n",
    "    L = np.zeros((N,N))\n",
    "    U = np.copy(A)\n",
    "    if show:\n",
    "        print('Initial matrices')\n",
    "        print('P = '); print(np.array_str(P, precision=print_precision, suppress_small=True))\n",
    "        print('L = '); print(np.array_str(L+np.eye(N), precision=print_precision, suppress_small=True))\n",
    "        print('U = '); print(np.array_str(U, precision=print_precision, suppress_small=True))\n",
    "        print('----------------------------------------')\n",
    "    #iterating through columns\n",
    "    for j in range(N-1):\n",
    "        #determine the new pivot\n",
    "        p_index = np.argmax(np.abs(U[j:,j]))\n",
    "        if p_index != 0:\n",
    "            row_perm(P, j, j+p_index)\n",
    "            row_perm(U, j, j+p_index)\n",
    "            row_perm(L, j, j+p_index)\n",
    "            if show:\n",
    "                print('A permutation has been made')\n",
    "                print('P = '); print(np.array_str(P, precision=print_precision, suppress_small=True))\n",
    "                print('L = '); print(np.array_str(L+np.eye(N), precision=print_precision, suppress_small=True))\n",
    "                print('U = '); print(np.array_str(U, precision=print_precision, suppress_small=True))\n",
    "                print('----------------------------------------')\n",
    "        #iterating through rows\n",
    "        for i in range(j+1,N):\n",
    "            L[i,j] = U[i,j]/U[j,j]\n",
    "            U[i] -= L[i,j]*U[j]\n",
    "            if show:\n",
    "                print('P = '); print(np.array_str(P, precision=print_precision, suppress_small=True))\n",
    "                print('L = '); print(np.array_str(L+np.eye(N), precision=print_precision, suppress_small=True))\n",
    "                print('U = '); print(np.array_str(U, precision=print_precision, suppress_small=True))\n",
    "                print('----------------------------------------')\n",
    "    np.fill_diagonal(L,1)\n",
    "    return P,L,U"
   ]
  },
  {
   "cell_type": "markdown",
   "metadata": {},
   "source": [
    "The procedure to solve the system $A\\,\\mathbf{x}=\\mathbf{b}$ remains almost the same. We have to add the efect of the permutation matrix $P$:\n",
    "\n",
    "$$A\\, \\mathbf{x} = \\mathbf{b} \\rightarrow P\\, A\\, \\mathbf{x} = P\\, \\mathbf{b} = = \\widehat{\\mathbf{b}} \\rightarrow L\\, U\\, \\mathbf{x} = \\widehat{\\mathbf{b}} \\ \\ \\text{ if we set } \\ \\  U\\, \\mathbf{x} = \\mathbf{c} \\rightarrow L\\, \\mathbf{c} = \\widehat{\\mathbf{b}} \\ \\ \\text{ (solve for $\\mathbf{c}$) } \\ \\rightarrow U\\, \\mathbf{x} = \\mathbf{c}$$"
   ]
  },
  {
   "cell_type": "code",
   "execution_count": 8,
   "metadata": {},
   "outputs": [],
   "source": [
    "def solve_palu(A, b, show=False, print_precision=2):\n",
    "    P,L,U = palu_decomp(A, show, print_precision=print_precision)\n",
    "    # A.x = b -> P.A.x = P.b = b' -> L.U.x = b'\n",
    "    b = np.dot(P,b)\n",
    "    # L.c = b' with c = U.x\n",
    "    c = solve_triangular(L, b, upper=False)\n",
    "    x = solve_triangular(U, c)\n",
    "    return x"
   ]
  },
  {
   "cell_type": "markdown",
   "metadata": {},
   "source": [
    "Let's test this new method against the LU and NumPy solvers"
   ]
  },
  {
   "cell_type": "code",
   "execution_count": 9,
   "metadata": {},
   "outputs": [
    {
     "name": "stdout",
     "output_type": "stream",
     "text": [
      "Initial matrices\n",
      "P = \n",
      "[[1. 0. 0.]\n",
      " [0. 1. 0.]\n",
      " [0. 0. 1.]]\n",
      "L = \n",
      "[[1. 0. 0.]\n",
      " [0. 1. 0.]\n",
      " [0. 0. 1.]]\n",
      "U = \n",
      "[[0.0102 0.5375 0.4896]\n",
      " [0.5059 0.5015 0.6848]\n",
      " [0.6304 0.0933 0.2618]]\n",
      "----------------------------------------\n",
      "A permutation has been made\n",
      "P = \n",
      "[[0. 0. 1.]\n",
      " [0. 1. 0.]\n",
      " [1. 0. 0.]]\n",
      "L = \n",
      "[[1. 0. 0.]\n",
      " [0. 1. 0.]\n",
      " [0. 0. 1.]]\n",
      "U = \n",
      "[[0.6304 0.0933 0.2618]\n",
      " [0.5059 0.5015 0.6848]\n",
      " [0.0102 0.5375 0.4896]]\n",
      "----------------------------------------\n",
      "P = \n",
      "[[0. 0. 1.]\n",
      " [0. 1. 0.]\n",
      " [1. 0. 0.]]\n",
      "L = \n",
      "[[1.     0.     0.    ]\n",
      " [0.8025 1.     0.    ]\n",
      " [0.     0.     1.    ]]\n",
      "U = \n",
      "[[0.6304 0.0933 0.2618]\n",
      " [0.     0.4266 0.4747]\n",
      " [0.0102 0.5375 0.4896]]\n",
      "----------------------------------------\n",
      "P = \n",
      "[[0. 0. 1.]\n",
      " [0. 1. 0.]\n",
      " [1. 0. 0.]]\n",
      "L = \n",
      "[[1.     0.     0.    ]\n",
      " [0.8025 1.     0.    ]\n",
      " [0.0162 0.     1.    ]]\n",
      "U = \n",
      "[[0.6304 0.0933 0.2618]\n",
      " [0.     0.4266 0.4747]\n",
      " [0.     0.536  0.4854]]\n",
      "----------------------------------------\n",
      "A permutation has been made\n",
      "P = \n",
      "[[0. 0. 1.]\n",
      " [1. 0. 0.]\n",
      " [0. 1. 0.]]\n",
      "L = \n",
      "[[1.     0.     0.    ]\n",
      " [0.0162 1.     0.    ]\n",
      " [0.8025 0.     1.    ]]\n",
      "U = \n",
      "[[0.6304 0.0933 0.2618]\n",
      " [0.     0.536  0.4854]\n",
      " [0.     0.4266 0.4747]]\n",
      "----------------------------------------\n",
      "P = \n",
      "[[0. 0. 1.]\n",
      " [1. 0. 0.]\n",
      " [0. 1. 0.]]\n",
      "L = \n",
      "[[1.     0.     0.    ]\n",
      " [0.0162 1.     0.    ]\n",
      " [0.8025 0.7959 1.    ]]\n",
      "U = \n",
      "[[0.6304 0.0933 0.2618]\n",
      " [0.     0.536  0.4854]\n",
      " [0.     0.     0.0884]]\n",
      "----------------------------------------\n"
     ]
    }
   ],
   "source": [
    "palu_sol = solve_palu(A, b, show=True, print_precision=4)"
   ]
  },
  {
   "cell_type": "code",
   "execution_count": 10,
   "metadata": {},
   "outputs": [
    {
     "data": {
      "text/plain": [
       "2.387961461054304e-13"
      ]
     },
     "execution_count": 10,
     "metadata": {},
     "output_type": "execute_result"
    }
   ],
   "source": [
    "np.linalg.norm(palu_sol - lu_sol)"
   ]
  },
  {
   "cell_type": "code",
   "execution_count": 11,
   "metadata": {},
   "outputs": [
    {
     "data": {
      "text/plain": [
       "1.2560739669470201e-15"
      ]
     },
     "execution_count": 11,
     "metadata": {},
     "output_type": "execute_result"
    }
   ],
   "source": [
    "np.linalg.norm(palu_sol - np_sol)"
   ]
  },
  {
   "cell_type": "code",
   "execution_count": 12,
   "metadata": {},
   "outputs": [
    {
     "name": "stdout",
     "output_type": "stream",
     "text": [
      "P:  [[0. 0. 1.]\n",
      " [1. 0. 0.]\n",
      " [0. 1. 0.]]\n",
      "L:  [[1.         0.         0.        ]\n",
      " [0.01622493 1.         0.        ]\n",
      " [0.80253715 0.7959159  1.        ]]\n",
      "U:  [[0.63041489 0.09330378 0.26183775]\n",
      " [0.         0.53600901 0.48540064]\n",
      " [0.         0.         0.0883532 ]]\n"
     ]
    }
   ],
   "source": [
    "P,L,U = palu_decomp(A)\n",
    "print('P: ',P)\n",
    "print('L: ',L)\n",
    "print('U: ',U)"
   ]
  },
  {
   "cell_type": "markdown",
   "metadata": {},
   "source": [
    "Here are some questions about PALU:\n",
    "1. How much computational complexity has been added to the original $\\sim 2n^3/3$ of LU?\n",
    "2. Clearly PALU is more robust than LU, but given a non sigular matrix $A$ will it always be possible to perform the PALU decomposition?"
   ]
  },
  {
   "cell_type": "markdown",
   "metadata": {},
   "source": [
    "<div id='cholesky' />\n",
    "\n",
    "### Cholesky\n",
    "[Back to TOC](#toc)"
   ]
  },
  {
   "cell_type": "markdown",
   "metadata": {},
   "source": [
    "This is another direct method only applicable to _symmetric positive-definite_ matrices. In order to try this algorithm we have to create this kind of matrices. The next function generates random _symmetric positive-definite_ matrices.\n",
    "\n",
    "**The purpose of including the Cholesky factorization is because this algorithm computes the factorization in $\\sim \\dfrac{1}{3}n^3$ FLOP. This means it requieres 50\\% of the FLOPS required by PALU. The only constraint is that if the matrix is real it must be _symmetric_ and _positive-definite_, and if the matrix is complex it must be Hermitian and positive-definite**."
   ]
  },
  {
   "cell_type": "code",
   "execution_count": 13,
   "metadata": {},
   "outputs": [],
   "source": [
    "\"\"\"\n",
    "Randomly generates an nxn symmetric positive-\n",
    "definite matrix A.\n",
    "\"\"\"\n",
    "def generate_spd_matrix(n, flag=True):\n",
    "    if flag:\n",
    "        A = np.random.random((n,n))\n",
    "        # Constructing symmetry\n",
    "        A += A.T \n",
    "        # A = np.dot(A.T,A) # Another way\n",
    "        #symmetric+diagonally dominant -> symmetric positive-definite\n",
    "        deltas = 0.1*np.random.random(n)\n",
    "        row_sum = A.sum(axis=1)-np.diag(A)\n",
    "        np.fill_diagonal(A, row_sum+deltas)\n",
    "    else:\n",
    "        B = np.random.random((n,n))\n",
    "        # A way to make sure the quadratic form is greater or equal to zero:\n",
    "        # this means x^T*B^T\\B*x >= ||B*x||, but if B is singular, it could be zero.\n",
    "        A = np.dot(B.T,B)\n",
    "        # To avoid a being singular, we just add a positive diagonal matrix\n",
    "        A = A + np.eye(n)\n",
    "    return A"
   ]
  },
  {
   "cell_type": "markdown",
   "metadata": {},
   "source": [
    "Given a symmetric positive-definite matrix $A \\in \\mathbb{R}^{n \\times n}$, the Cholesky decomposition is of the form $A =R^T R$, with $R$ being an upper triangular matrix. This method takes advantage of the properties of symmetric matrices, reaching approximately twice the efficiency of LU."
   ]
  },
  {
   "cell_type": "code",
   "execution_count": 14,
   "metadata": {},
   "outputs": [],
   "source": [
    "def cholesky_decomp(A, show=False):\n",
    "    N,_ = A.shape\n",
    "    A = np.copy(A)\n",
    "    R = np.zeros((N,N))\n",
    "    if show:\n",
    "        print('Initial matrix')\n",
    "        print('A = '); print(np.array_str(A, precision=2, suppress_small=True))\n",
    "        print('R = '); print(np.array_str(R, precision=2, suppress_small=True))\n",
    "        print('----------------------------------------')\n",
    "    for i in range(N):\n",
    "        R[i,i] = np.sqrt(A[i,i])\n",
    "        u = (1./R[i,i])*A[i,i+1:]\n",
    "        R[i,i+1:] = u\n",
    "        A[i+1:,i+1:] -= np.outer(u,u)\n",
    "        if show:\n",
    "            print('A = '); print(np.array_str(A, precision=2, suppress_small=True))\n",
    "            print('R = '); print(np.array_str(R, precision=2, suppress_small=True))\n",
    "            print('----------------------------------------')\n",
    "    return R"
   ]
  },
  {
   "cell_type": "markdown",
   "metadata": {},
   "source": [
    "The solve stage remains the same as LU:  "
   ]
  },
  {
   "cell_type": "code",
   "execution_count": 15,
   "metadata": {},
   "outputs": [],
   "source": [
    "def solve_cholesky(A, b, show=False):\n",
    "    R = cholesky_decomp(A, show)\n",
    "    #R^T.R.x = b -> R^T.c = b with R.x = c\n",
    "    c = solve_triangular(R.T, b, upper=False)\n",
    "    x = solve_triangular(R, c)\n",
    "    return x"
   ]
  },
  {
   "cell_type": "markdown",
   "metadata": {},
   "source": [
    "Now we test our implementation, comparing time execution with LU and PALU on two different linear systems"
   ]
  },
  {
   "cell_type": "code",
   "execution_count": 16,
   "metadata": {},
   "outputs": [],
   "source": [
    "A = generate_spd_matrix(3)\n",
    "b = np.ones(3)"
   ]
  },
  {
   "cell_type": "code",
   "execution_count": 17,
   "metadata": {},
   "outputs": [
    {
     "name": "stdout",
     "output_type": "stream",
     "text": [
      "Initial matrix\n",
      "A = \n",
      "[[1.17 0.7  0.4 ]\n",
      " [0.7  2.09 1.36]\n",
      " [0.4  1.36 1.87]]\n",
      "R = \n",
      "[[0. 0. 0.]\n",
      " [0. 0. 0.]\n",
      " [0. 0. 0.]]\n",
      "----------------------------------------\n",
      "A = \n",
      "[[1.17 0.7  0.4 ]\n",
      " [0.7  1.67 1.12]\n",
      " [0.4  1.12 1.73]]\n",
      "R = \n",
      "[[1.08 0.65 0.37]\n",
      " [0.   0.   0.  ]\n",
      " [0.   0.   0.  ]]\n",
      "----------------------------------------\n",
      "A = \n",
      "[[1.17 0.7  0.4 ]\n",
      " [0.7  1.67 1.12]\n",
      " [0.4  1.12 0.97]]\n",
      "R = \n",
      "[[1.08 0.65 0.37]\n",
      " [0.   1.29 0.87]\n",
      " [0.   0.   0.  ]]\n",
      "----------------------------------------\n",
      "A = \n",
      "[[1.17 0.7  0.4 ]\n",
      " [0.7  1.67 1.12]\n",
      " [0.4  1.12 0.97]]\n",
      "R = \n",
      "[[1.08 0.65 0.37]\n",
      " [0.   1.29 0.87]\n",
      " [0.   0.   0.99]]\n",
      "----------------------------------------\n"
     ]
    },
    {
     "data": {
      "text/plain": [
       "array([ 3,  0, -1])"
      ]
     },
     "execution_count": 17,
     "metadata": {},
     "output_type": "execute_result"
    }
   ],
   "source": [
    "b=np.array([4,2,0])\n",
    "solve_cholesky(A, b, show=True)"
   ]
  },
  {
   "cell_type": "code",
   "execution_count": 18,
   "metadata": {},
   "outputs": [],
   "source": [
    "A = generate_spd_matrix(100)\n",
    "b = np.ones(100)"
   ]
  },
  {
   "cell_type": "code",
   "execution_count": 19,
   "metadata": {
    "scrolled": false
   },
   "outputs": [
    {
     "name": "stdout",
     "output_type": "stream",
     "text": [
      "1.33 ms ± 8.61 µs per loop (mean ± std. dev. of 7 runs, 1,000 loops each)\n",
      "7.15 ms ± 37.1 µs per loop (mean ± std. dev. of 7 runs, 100 loops each)\n",
      "18.1 ms ± 4.97 ms per loop (mean ± std. dev. of 7 runs, 100 loops each)\n"
     ]
    }
   ],
   "source": [
    "%timeit solve_cholesky(A, b)\n",
    "%timeit solve_lu(A, b)\n",
    "%timeit solve_palu(A, b)"
   ]
  },
  {
   "cell_type": "code",
   "execution_count": 20,
   "metadata": {},
   "outputs": [],
   "source": [
    "A = generate_spd_matrix(1000)\n",
    "b = np.ones(1000)"
   ]
  },
  {
   "cell_type": "code",
   "execution_count": 21,
   "metadata": {
    "scrolled": true
   },
   "outputs": [
    {
     "name": "stdout",
     "output_type": "stream",
     "text": [
      "599 ms ± 26.3 ms per loop (mean ± std. dev. of 7 runs, 1 loop each)\n",
      "893 ms ± 6.18 ms per loop (mean ± std. dev. of 7 runs, 1 loop each)\n",
      "1.02 s ± 34.9 ms per loop (mean ± std. dev. of 7 runs, 1 loop each)\n"
     ]
    }
   ],
   "source": [
    "%timeit solve_cholesky(A, b)\n",
    "%timeit solve_lu(A, b)\n",
    "%timeit solve_palu(A, b)"
   ]
  },
  {
   "cell_type": "markdown",
   "metadata": {},
   "source": [
    "<div id='im' />\n",
    "\n",
    "## Iterative Methods\n",
    "[Back to TOC](#toc)"
   ]
  },
  {
   "cell_type": "code",
   "execution_count": 22,
   "metadata": {},
   "outputs": [],
   "source": [
    "\"\"\"\n",
    "Randomly generates an nxn strictly diagonally \n",
    "dominant matrix A.\n",
    "\"\"\"\n",
    "def generate_dd_matrix(n):\n",
    "    A = np.random.random((n,n))\n",
    "    deltas = 0.1*np.random.random(n)\n",
    "    row_sum = A.sum(axis=1)-np.diag(A)\n",
    "    np.fill_diagonal(A, row_sum+deltas)\n",
    "    return A\n",
    "\n",
    "\"\"\"\n",
    "Computes relative error between each row on \n",
    "X matrix and y vector. \n",
    "\"\"\"\n",
    "def error(X, y):\n",
    "    D = X-y\n",
    "    err = np.linalg.norm(D, axis=1, ord=np.inf)\n",
    "    return err"
   ]
  },
  {
   "cell_type": "markdown",
   "metadata": {},
   "source": [
    "As before we will create a linear system $A x = b$, with $A$ as a diagonally dominant matrix, which is a **sufficient** condition for the methods we will study in this section converge "
   ]
  },
  {
   "cell_type": "code",
   "execution_count": 23,
   "metadata": {},
   "outputs": [
    {
     "name": "stdout",
     "output_type": "stream",
     "text": [
      "A=\n",
      "[[ 3.  -1.   0.   0.   0.   0.5]\n",
      " [-1.   3.  -1.   0.   0.5  0. ]\n",
      " [ 0.  -1.   3.  -1.   0.   0. ]\n",
      " [ 0.   0.  -1.   3.  -1.   0. ]\n",
      " [ 0.   0.5  0.  -1.   3.  -1. ]\n",
      " [ 0.5  0.   0.   0.  -1.   3. ]]\n",
      "b=\n",
      "[2.5 1.5 1.  1.  1.5 2.5]\n"
     ]
    }
   ],
   "source": [
    "A = np.array([[3, -1, 0, 0, 0, 0.5],[-1, 3, -1, 0, 0.5, 0],[0, -1, 3, -1, 0, 0],[0, 0, -1, 3, -1, 0],\n",
    "              [0, 0.5, 0, -1, 3, -1],[0.5, 0, 0, 0, -1, 3]])\n",
    "b = np.array([2.5, 1.5, 1., 1., 1.5, 2.5])\n",
    "print ('A='); print (A)\n",
    "print ('b='); print (b)"
   ]
  },
  {
   "cell_type": "markdown",
   "metadata": {},
   "source": [
    "and find the solution $x$ through `np.linalg.solve` to use it as the reference solution-"
   ]
  },
  {
   "cell_type": "code",
   "execution_count": 24,
   "metadata": {},
   "outputs": [],
   "source": [
    "np_sol = np.linalg.solve(A,b)"
   ]
  },
  {
   "cell_type": "markdown",
   "metadata": {
    "collapsed": true
   },
   "source": [
    "<div id='jacobi' />\n",
    "\n",
    "### Jacobi\n",
    "[Back to TOC](#toc)"
   ]
  },
  {
   "cell_type": "code",
   "execution_count": 25,
   "metadata": {},
   "outputs": [],
   "source": [
    "\"\"\"\n",
    "Iterative methods implementations returns an array X\n",
    "with the the solutions at each iteration\n",
    "\"\"\"\n",
    "def jacobi(A, b, n_iter=50):\n",
    "    n = A.shape[0]\n",
    "    #array with solutions\n",
    "    X = np.empty((n_iter, n))\n",
    "    #initial guess\n",
    "    X[0] = np.zeros(n)\n",
    "    #submatrices\n",
    "    D = np.diag(A)\n",
    "    Dinv = D**-1\n",
    "    R = A - np.diag(D) # R = (L+U)\n",
    "    for i in range(1, n_iter):\n",
    "        # X[i] = Dinv*(b - np.dot(R, X[i-1]))\n",
    "        # v1.12\n",
    "        ri = b - np.dot(A, X[i-1])\n",
    "        X[i] = X[i-1]+Dinv*ri # = np.dot(np.linalg.inv(D),ri)\n",
    "    return X\n",
    "def jacobi_M(A):\n",
    "    L = np.tril(A,-1)\n",
    "    U = np.triu(A,1)\n",
    "    D = np.diag(np.diag(A))\n",
    "    M = -np.dot(np.linalg.inv(D),L+U)\n",
    "    return M"
   ]
  },
  {
   "cell_type": "markdown",
   "metadata": {},
   "source": [
    "$\\mathbf{x}_{n+1}=M\\,\\mathbf{x}_{n}+\\widehat{\\mathbf{b}}$"
   ]
  },
  {
   "cell_type": "markdown",
   "metadata": {},
   "source": [
    "Now let's resolve the same linear system with Jacobi method!"
   ]
  },
  {
   "cell_type": "code",
   "execution_count": 26,
   "metadata": {},
   "outputs": [],
   "source": [
    "jac_sol = jacobi(A,b, n_iter=50)"
   ]
  },
  {
   "cell_type": "code",
   "execution_count": 27,
   "metadata": {},
   "outputs": [],
   "source": [
    "jac_err = error(jac_sol, np_sol)\n",
    "it = np.linspace(1, 50, 50)"
   ]
  },
  {
   "cell_type": "code",
   "execution_count": 28,
   "metadata": {},
   "outputs": [
    {
     "data": {
      "image/png": "[encoded data removed]",
      "text/plain": [
       "<Figure size 1200x600 with 1 Axes>"
      ]
     },
     "metadata": {},
     "output_type": "display_data"
    }
   ],
   "source": [
    "plt.figure(figsize=(12,6))\n",
    "plt.semilogy(it, jac_err, marker='o', linestyle='--', color='b')\n",
    "plt.grid(True)\n",
    "plt.xlabel('Iterations')\n",
    "plt.ylabel('Error')\n",
    "plt.title('Infinity norm error for Jacobi method')\n",
    "plt.show()"
   ]
  },
  {
   "cell_type": "code",
   "execution_count": 29,
   "metadata": {},
   "outputs": [
    {
     "name": "stdout",
     "output_type": "stream",
     "text": [
      "1.1055415967851334\n"
     ]
    }
   ],
   "source": [
    "Mj = jacobi_M(A)\n",
    "print(np.linalg.norm(Mj))"
   ]
  },
  {
   "cell_type": "code",
   "execution_count": 30,
   "metadata": {},
   "outputs": [
    {
     "data": {
      "text/plain": [
       "array([-0.56734117, -0.53694624, -0.03039493,  0.03039493,  0.56734117,\n",
       "        0.53694624])"
      ]
     },
     "execution_count": 30,
     "metadata": {},
     "output_type": "execute_result"
    }
   ],
   "source": [
    "np.linalg.eigvals(Mj)"
   ]
  },
  {
   "cell_type": "code",
   "execution_count": 31,
   "metadata": {},
   "outputs": [
    {
     "data": {
      "text/plain": [
       "array([0.56734117, 0.53694624, 0.03039493, 0.03039493, 0.56734117,\n",
       "       0.53694624])"
      ]
     },
     "execution_count": 31,
     "metadata": {},
     "output_type": "execute_result"
    }
   ],
   "source": [
    "np.abs(np.linalg.eigvals(Mj))"
   ]
  },
  {
   "cell_type": "code",
   "execution_count": 32,
   "metadata": {},
   "outputs": [
    {
     "data": {
      "text/plain": [
       "0.5673411660774048"
      ]
     },
     "execution_count": 32,
     "metadata": {},
     "output_type": "execute_result"
    }
   ],
   "source": [
    "np.max(np.abs(np.linalg.eigvals(Mj)))"
   ]
  },
  {
   "cell_type": "markdown",
   "metadata": {},
   "source": [
    "<div id='gaussseidel' />\n",
    "\n",
    "### Gauss Seidel\n",
    "[Back to TOC](#toc)"
   ]
  },
  {
   "cell_type": "code",
   "execution_count": 33,
   "metadata": {},
   "outputs": [],
   "source": [
    "def gauss_seidel(A, b, n_iter=50):\n",
    "    n = A.shape[0]\n",
    "    #array with solutions\n",
    "    X = np.empty((n_iter, n))\n",
    "    #initial guess\n",
    "    X[0] = np.zeros(n)\n",
    "    #submatrices\n",
    "    R = np.tril(A) # R=(L+D)\n",
    "    U = A-R\n",
    "    for i in range(1, n_iter):\n",
    "        #X[i] = solve_triangular(R, b-np.dot(U, X[i-1]), upper=False)\n",
    "        # v1.11\n",
    "        X[i] = X[i-1]+solve_triangular(R, b-np.dot(A, X[i-1]), upper=False)\n",
    "    return X\n",
    "def gauss_seidel_M(A):\n",
    "    L = np.tril(A,-1)\n",
    "    U = np.triu(A,1)\n",
    "    D = np.diag(np.diag(A))\n",
    "    M = -np.dot(np.linalg.inv(L+D),U)\n",
    "    return M"
   ]
  },
  {
   "cell_type": "markdown",
   "metadata": {},
   "source": [
    "Now let's resolve the same linear system with Gauss-Seidel method!"
   ]
  },
  {
   "cell_type": "code",
   "execution_count": 34,
   "metadata": {},
   "outputs": [],
   "source": [
    "gauss_seidel_sol = gauss_seidel(A,b)"
   ]
  },
  {
   "cell_type": "code",
   "execution_count": 35,
   "metadata": {},
   "outputs": [],
   "source": [
    "gauss_seidel_err = error(gauss_seidel_sol, np_sol)"
   ]
  },
  {
   "cell_type": "code",
   "execution_count": 36,
   "metadata": {},
   "outputs": [
    {
     "data": {
      "image/png": "[encoded data removed]",
      "text/plain": [
       "<Figure size 1200x600 with 1 Axes>"
      ]
     },
     "metadata": {},
     "output_type": "display_data"
    }
   ],
   "source": [
    "plt.figure(figsize=(12,6))\n",
    "plt.semilogy(it, gauss_seidel_err, marker='o', linestyle='--', color='r')\n",
    "plt.grid(True)\n",
    "plt.xlabel('Iterations')\n",
    "plt.ylabel('Error')\n",
    "plt.title('Infinity norm error for Gauss method')\n",
    "plt.show()"
   ]
  },
  {
   "cell_type": "markdown",
   "metadata": {},
   "source": [
    "Here are some questions about Gauss-Seidel:\n",
    "- Can you explain what the differences between this and Jacobi method are?\n",
    "- Why do we use `solve_triangular` instead of `np.linalg.solve` or something similar?"
   ]
  },
  {
   "cell_type": "code",
   "execution_count": 37,
   "metadata": {},
   "outputs": [
    {
     "name": "stdout",
     "output_type": "stream",
     "text": [
      "0.8351230731594124\n"
     ]
    }
   ],
   "source": [
    "Mgs = gauss_seidel_M(A)\n",
    "print(np.linalg.norm(Mgs))"
   ]
  },
  {
   "cell_type": "code",
   "execution_count": 38,
   "metadata": {},
   "outputs": [
    {
     "data": {
      "text/plain": [
       "0.37372799877238405"
      ]
     },
     "execution_count": 38,
     "metadata": {},
     "output_type": "execute_result"
    }
   ],
   "source": [
    "np.max(np.abs(np.linalg.eigvals(Mgs)))"
   ]
  },
  {
   "cell_type": "markdown",
   "metadata": {},
   "source": [
    "<div id='sor' />\n",
    "\n",
    "### SOR\n",
    "[Back to TOC](#toc)"
   ]
  },
  {
   "cell_type": "code",
   "execution_count": 39,
   "metadata": {},
   "outputs": [],
   "source": [
    "def sor(A, b, w=1.05, n_iter=50):\n",
    "    n = A.shape[0]\n",
    "    #array with solutions\n",
    "    X = np.empty((n_iter, n))\n",
    "    #initial guess\n",
    "    X[0] = np.zeros(n)\n",
    "    #submatrices\n",
    "    R = np.tril(A) #R=(L+D)\n",
    "    U = A-R\n",
    "    # v1.11\n",
    "    L = np.tril(A,-1)\n",
    "    D = np.diag(np.diag(A))\n",
    "    M = L+D/w\n",
    "    for i in range(1, n_iter):\n",
    "        #X_i = solve_triangular(R, b-np.dot(U, X[i-1]), upper=False)\n",
    "        #X[i] = w*X_i + (1-w)*X[i-1]\n",
    "        # v1.11\n",
    "        X[i] = X[i-1]+solve_triangular(M, b-np.dot(A, X[i-1]), upper=False)\n",
    "    return X\n",
    "def sor_M(A,w=1.05):\n",
    "    L = np.tril(A,-1)\n",
    "    U = np.triu(A,1)\n",
    "    D = np.diag(np.diag(A))\n",
    "    M = np.dot(np.linalg.inv(w*L + D),((1-w)*D -w*U))\n",
    "    return M"
   ]
  },
  {
   "cell_type": "markdown",
   "metadata": {},
   "source": [
    "Now let's resolve the same linear system with Jacobi method!"
   ]
  },
  {
   "cell_type": "code",
   "execution_count": 40,
   "metadata": {},
   "outputs": [],
   "source": [
    "sor_sol = sor(A, b, w=1.15)"
   ]
  },
  {
   "cell_type": "code",
   "execution_count": 41,
   "metadata": {},
   "outputs": [],
   "source": [
    "sor_err = error(sor_sol, np_sol)"
   ]
  },
  {
   "cell_type": "code",
   "execution_count": 42,
   "metadata": {},
   "outputs": [
    {
     "data": {
      "image/png": "[encoded data removed]",
      "text/plain": [
       "<Figure size 1200x600 with 1 Axes>"
      ]
     },
     "metadata": {},
     "output_type": "display_data"
    }
   ],
   "source": [
    "plt.figure(figsize=(12,6))\n",
    "plt.semilogy(it, sor_err, marker='o', linestyle='--', color='g')\n",
    "plt.grid(True)\n",
    "plt.xlabel('Iterations')\n",
    "plt.ylabel('Error')\n",
    "plt.title('Infinity norm error for SOR method')\n",
    "plt.show()"
   ]
  },
  {
   "cell_type": "code",
   "execution_count": 43,
   "metadata": {},
   "outputs": [
    {
     "name": "stdout",
     "output_type": "stream",
     "text": [
      "0.850053072081257\n"
     ]
    }
   ],
   "source": [
    "Msor = sor_M(A)\n",
    "print(np.linalg.norm(Msor))"
   ]
  },
  {
   "cell_type": "code",
   "execution_count": 44,
   "metadata": {},
   "outputs": [
    {
     "data": {
      "text/plain": [
       "0.33434770548114934"
      ]
     },
     "execution_count": 44,
     "metadata": {},
     "output_type": "execute_result"
    }
   ],
   "source": [
    "np.max(np.abs(np.linalg.eigvals(Msor)))"
   ]
  },
  {
   "cell_type": "markdown",
   "metadata": {},
   "source": [
    "How can we choose a good value of $\\omega$? Well there are  some methods you could search, but for now we will try a naive way, i.e, computing the solution for a range $\\omega \\in [1,1.3]$ as follows:"
   ]
  },
  {
   "cell_type": "code",
   "execution_count": 45,
   "metadata": {},
   "outputs": [],
   "source": [
    "n = 30 #width of subdivisions\n",
    "sor_solutions = list()\n",
    "for w in np.linspace(1., 1.3, n):\n",
    "    sor_solutions.append(sor(A, b, w, n_iter=5)[-1])\n",
    "np.asarray(sor_solutions)\n",
    "\n",
    "#now compute error solutions with each w\n",
    "sor_errors = error(sor_solutions, np_sol)\n",
    "w = np.linspace(1., 1.3, n)"
   ]
  },
  {
   "cell_type": "markdown",
   "metadata": {},
   "source": [
    "as you can see, we compute the SOR solution with 5 iterations for each $\\omega$ on the given range. "
   ]
  },
  {
   "cell_type": "code",
   "execution_count": 46,
   "metadata": {},
   "outputs": [
    {
     "data": {
      "image/png": "[encoded data removed]",
      "text/plain": [
       "<Figure size 1200x600 with 1 Axes>"
      ]
     },
     "metadata": {},
     "output_type": "display_data"
    }
   ],
   "source": [
    "plt.figure(figsize=(12,6))\n",
    "plt.semilogy(w, sor_errors, marker='o', linestyle='--', color='g')\n",
    "plt.grid(True)\n",
    "plt.xlabel('w')\n",
    "plt.ylabel('Error')\n",
    "plt.title('Infinity norm error after 5 steps of SOR as a function of w')\n",
    "plt.show()"
   ]
  },
  {
   "cell_type": "markdown",
   "metadata": {},
   "source": [
    "Here are some questions about SOR:\n",
    "- Why can averaging the current solution with the Gauss-Seidel solution improve convergence?\n",
    "- Why do we use $\\omega > 1$ and not $\\omega < 1$?\n",
    "- Could you describe a method to find the best value of $\\omega$ (the one which optimizes convergence)?\n",
    "- Would it be a better option to re-compute $\\omega$ at each iteration?"
   ]
  },
  {
   "cell_type": "markdown",
   "metadata": {},
   "source": [
    "<div id='ca' />\n",
    "\n",
    "## Convergence Analysis\n",
    "[Back to TOC](#toc)"
   ]
  },
  {
   "cell_type": "markdown",
   "metadata": {},
   "source": [
    "Let's see convergence plots all together"
   ]
  },
  {
   "cell_type": "code",
   "execution_count": 47,
   "metadata": {
    "scrolled": false
   },
   "outputs": [
    {
     "data": {
      "image/png": "[encoded data removed]",
      "text/plain": [
       "<Figure size 1200x600 with 1 Axes>"
      ]
     },
     "metadata": {},
     "output_type": "display_data"
    }
   ],
   "source": [
    "plt.figure(figsize=(12,6))\n",
    "plt.semilogy(it, jac_err, marker='o', linestyle='--', color='b', label='Jacobi')\n",
    "plt.semilogy(it, gauss_seidel_err, marker='o', linestyle='--', color='r', label='Gauss-Seidel')\n",
    "plt.semilogy(it, sor_err, marker='o', linestyle='--', color='g', label='SOR')\n",
    "plt.grid(True)\n",
    "plt.xlabel('Iterations')\n",
    "plt.ylabel('Error')\n",
    "plt.title('Infinity norm error for all methods')\n",
    "plt.legend(loc=0)\n",
    "plt.show()"
   ]
  },
  {
   "cell_type": "markdown",
   "metadata": {},
   "source": [
    "<div id='examples' />\n",
    "\n",
    "## Examples\n",
    "[Back to TOC](#toc)"
   ]
  },
  {
   "cell_type": "markdown",
   "metadata": {},
   "source": [
    "<div id='classnotespaluexample' />\n",
    "\n",
    "### Motivation for PALU in classnotes example\n",
    "[Back to TOC](#toc)"
   ]
  },
  {
   "cell_type": "code",
   "execution_count": 48,
   "metadata": {},
   "outputs": [],
   "source": [
    "A=np.array([[1e-20, 1],[1,2]])"
   ]
  },
  {
   "cell_type": "code",
   "execution_count": 49,
   "metadata": {},
   "outputs": [
    {
     "name": "stdout",
     "output_type": "stream",
     "text": [
      "Initial matrices\n",
      "L = \n",
      "[[1. 0.]\n",
      " [0. 1.]]\n",
      "U = \n",
      "[[0. 1.]\n",
      " [1. 2.]]\n",
      "----------------------------------------\n",
      "L = \n",
      "[[1.e+00 0.e+00]\n",
      " [1.e+20 1.e+00]]\n",
      "U = \n",
      "[[ 1.e-20  1.e+00]\n",
      " [ 0.e+00 -1.e+20]]\n",
      "----------------------------------------\n"
     ]
    }
   ],
   "source": [
    "l,u=lu_decomp(A, show=True)"
   ]
  },
  {
   "cell_type": "code",
   "execution_count": 50,
   "metadata": {},
   "outputs": [
    {
     "data": {
      "text/plain": [
       "array([[1.e-20, 1.e+00],\n",
       "       [1.e+00, 0.e+00]])"
      ]
     },
     "execution_count": 50,
     "metadata": {},
     "output_type": "execute_result"
    }
   ],
   "source": [
    "np.dot(l,u)"
   ]
  },
  {
   "cell_type": "code",
   "execution_count": 51,
   "metadata": {},
   "outputs": [
    {
     "name": "stdout",
     "output_type": "stream",
     "text": [
      "Initial matrices\n",
      "P = \n",
      "[[1. 0.]\n",
      " [0. 1.]]\n",
      "L = \n",
      "[[1. 0.]\n",
      " [0. 1.]]\n",
      "U = \n",
      "[[0. 1.]\n",
      " [1. 2.]]\n",
      "----------------------------------------\n",
      "A permutation has been made\n",
      "P = \n",
      "[[0. 1.]\n",
      " [1. 0.]]\n",
      "L = \n",
      "[[1. 0.]\n",
      " [0. 1.]]\n",
      "U = \n",
      "[[1. 2.]\n",
      " [0. 1.]]\n",
      "----------------------------------------\n",
      "P = \n",
      "[[0. 1.]\n",
      " [1. 0.]]\n",
      "L = \n",
      "[[1. 0.]\n",
      " [0. 1.]]\n",
      "U = \n",
      "[[1. 2.]\n",
      " [0. 1.]]\n",
      "----------------------------------------\n"
     ]
    }
   ],
   "source": [
    "p,l,u=palu_decomp(A, show=True)"
   ]
  },
  {
   "cell_type": "markdown",
   "metadata": {},
   "source": [
    "<div id='iterativemethodexample' />\n",
    "\n",
    "### Iterative Methods classnotes example\n",
    "[Back to TOC](#toc)"
   ]
  },
  {
   "cell_type": "code",
   "execution_count": 52,
   "metadata": {},
   "outputs": [],
   "source": [
    "A=np.array([[5.,4.],[1.,3.]])\n",
    "b=np.array([6.,-1.])\n",
    "np_sol = np.linalg.solve(A,b)"
   ]
  },
  {
   "cell_type": "code",
   "execution_count": 53,
   "metadata": {},
   "outputs": [],
   "source": [
    "jac_sol = jacobi(A, b, n_iter=50)\n",
    "jac_err = error(jac_sol, np_sol)"
   ]
  },
  {
   "cell_type": "code",
   "execution_count": 54,
   "metadata": {},
   "outputs": [],
   "source": [
    "gauss_seidel_sol = gauss_seidel(A, b, n_iter=50)\n",
    "gauss_seidel_err = error(gauss_seidel_sol, np_sol)"
   ]
  },
  {
   "cell_type": "code",
   "execution_count": 55,
   "metadata": {},
   "outputs": [],
   "source": [
    "sor_sol = sor(A, b, w=1.09310345, n_iter=50)\n",
    "sor_err = error(sor_sol, np_sol)"
   ]
  },
  {
   "cell_type": "code",
   "execution_count": 56,
   "metadata": {},
   "outputs": [
    {
     "data": {
      "image/png": "[encoded data removed]",
      "text/plain": [
       "<Figure size 1200x600 with 1 Axes>"
      ]
     },
     "metadata": {},
     "output_type": "display_data"
    }
   ],
   "source": [
    "plt.figure(figsize=(12,6))\n",
    "plt.semilogy(it, jac_err, marker='o', linestyle='--', color='b', label='Jacobi')\n",
    "plt.semilogy(it, gauss_seidel_err, marker='o', linestyle='--', color='r', label='Gauss-Seidel')\n",
    "plt.semilogy(it, sor_err, marker='o', linestyle='--', color='g', label='SOR')\n",
    "plt.grid(True)\n",
    "plt.xlabel('Iterations')\n",
    "plt.ylabel('Error')\n",
    "plt.title('Infinity norm error for all methods')\n",
    "plt.legend(loc=0)\n",
    "plt.show()"
   ]
  },
  {
   "cell_type": "code",
   "execution_count": 57,
   "metadata": {},
   "outputs": [
    {
     "name": "stderr",
     "output_type": "stream",
     "text": [
      "<>:7: SyntaxWarning: invalid escape sequence '\\o'\n",
      "<>:7: SyntaxWarning: invalid escape sequence '\\o'\n",
      "/var/folders/yv/jrm90ycn6nd7n0wnpd3qqx540000gn/T/ipykernel_97829/1993723023.py:7: SyntaxWarning: invalid escape sequence '\\o'\n",
      "  df=pd.DataFrame(log10_errors, columns=[\"Jacobi\", \"Gauss-Seidel\",\"SOR($\\omega$)\"])\n"
     ]
    },
    {
     "data": {
      "text/html": [
       "<style type=\"text/css\">\n",
       "</style>\n",
       "<table id=\"T_9f459\">\n",
       "  <caption>Log10 of error for each method indicated</caption>\n",
       "  <thead>\n",
       "    <tr>\n",
       "      <th class=\"blank level0\" >&nbsp;</th>\n",
       "      <th id=\"T_9f459_level0_col0\" class=\"col_heading level0 col0\" >Jacobi</th>\n",
       "      <th id=\"T_9f459_level0_col1\" class=\"col_heading level0 col1\" >Gauss-Seidel</th>\n",
       "      <th id=\"T_9f459_level0_col2\" class=\"col_heading level0 col2\" >SOR($\\omega$)</th>\n",
       "    </tr>\n",
       "  </thead>\n",
       "  <tbody>\n",
       "    <tr>\n",
       "      <th id=\"T_9f459_level0_row0\" class=\"row_heading level0 row0\" >0</th>\n",
       "      <td id=\"T_9f459_row0_col0\" class=\"data row0 col0\" >0.301030</td>\n",
       "      <td id=\"T_9f459_row0_col1\" class=\"data row0 col1\" >0.301030</td>\n",
       "      <td id=\"T_9f459_row0_col2\" class=\"data row0 col2\" >0.301030</td>\n",
       "    </tr>\n",
       "    <tr>\n",
       "      <th id=\"T_9f459_level0_row1\" class=\"row_heading level0 row1\" >1</th>\n",
       "      <td id=\"T_9f459_row1_col0\" class=\"data row1 col0\" >-0.096910</td>\n",
       "      <td id=\"T_9f459_row1_col1\" class=\"data row1 col1\" >-0.096910</td>\n",
       "      <td id=\"T_9f459_row1_col2\" class=\"data row1 col2\" >-0.162237</td>\n",
       "    </tr>\n",
       "    <tr>\n",
       "      <th id=\"T_9f459_level0_row2\" class=\"row_heading level0 row2\" >2</th>\n",
       "      <td id=\"T_9f459_row2_col0\" class=\"data row2 col0\" >-0.273001</td>\n",
       "      <td id=\"T_9f459_row2_col1\" class=\"data row2 col1\" >-0.670941</td>\n",
       "      <td id=\"T_9f459_row2_col2\" class=\"data row2 col2\" >-1.131888</td>\n",
       "    </tr>\n",
       "    <tr>\n",
       "      <th id=\"T_9f459_level0_row3\" class=\"row_heading level0 row3\" >3</th>\n",
       "      <td id=\"T_9f459_row3_col0\" class=\"data row3 col0\" >-0.670941</td>\n",
       "      <td id=\"T_9f459_row3_col1\" class=\"data row3 col1\" >-1.244973</td>\n",
       "      <td id=\"T_9f459_row3_col2\" class=\"data row3 col2\" >-2.419283</td>\n",
       "    </tr>\n",
       "    <tr>\n",
       "      <th id=\"T_9f459_level0_row4\" class=\"row_heading level0 row4\" >4</th>\n",
       "      <td id=\"T_9f459_row4_col0\" class=\"data row4 col0\" >-0.847033</td>\n",
       "      <td id=\"T_9f459_row4_col1\" class=\"data row4 col1\" >-1.819004</td>\n",
       "      <td id=\"T_9f459_row4_col2\" class=\"data row4 col2\" >-3.868075</td>\n",
       "    </tr>\n",
       "    <tr>\n",
       "      <th id=\"T_9f459_level0_row5\" class=\"row_heading level0 row5\" >5</th>\n",
       "      <td id=\"T_9f459_row5_col0\" class=\"data row5 col0\" >-1.244973</td>\n",
       "      <td id=\"T_9f459_row5_col1\" class=\"data row5 col1\" >-2.393035</td>\n",
       "      <td id=\"T_9f459_row5_col2\" class=\"data row5 col2\" >-4.292827</td>\n",
       "    </tr>\n",
       "    <tr>\n",
       "      <th id=\"T_9f459_level0_row6\" class=\"row_heading level0 row6\" >6</th>\n",
       "      <td id=\"T_9f459_row6_col0\" class=\"data row6 col0\" >-1.421064</td>\n",
       "      <td id=\"T_9f459_row6_col1\" class=\"data row6 col1\" >-2.967066</td>\n",
       "      <td id=\"T_9f459_row6_col2\" class=\"data row6 col2\" >-5.253905</td>\n",
       "    </tr>\n",
       "    <tr>\n",
       "      <th id=\"T_9f459_level0_row7\" class=\"row_heading level0 row7\" >7</th>\n",
       "      <td id=\"T_9f459_row7_col0\" class=\"data row7 col0\" >-1.819004</td>\n",
       "      <td id=\"T_9f459_row7_col1\" class=\"data row7 col1\" >-3.541098</td>\n",
       "      <td id=\"T_9f459_row7_col2\" class=\"data row7 col2\" >-6.528202</td>\n",
       "    </tr>\n",
       "    <tr>\n",
       "      <th id=\"T_9f459_level0_row8\" class=\"row_heading level0 row8\" >8</th>\n",
       "      <td id=\"T_9f459_row8_col0\" class=\"data row8 col0\" >-1.995095</td>\n",
       "      <td id=\"T_9f459_row8_col1\" class=\"data row8 col1\" >-4.115129</td>\n",
       "      <td id=\"T_9f459_row8_col2\" class=\"data row8 col2\" >-8.042639</td>\n",
       "    </tr>\n",
       "    <tr>\n",
       "      <th id=\"T_9f459_level0_row9\" class=\"row_heading level0 row9\" >9</th>\n",
       "      <td id=\"T_9f459_row9_col0\" class=\"data row9 col0\" >-2.393035</td>\n",
       "      <td id=\"T_9f459_row9_col1\" class=\"data row9 col1\" >-4.689160</td>\n",
       "      <td id=\"T_9f459_row9_col2\" class=\"data row9 col2\" >-8.423748</td>\n",
       "    </tr>\n",
       "  </tbody>\n",
       "</table>\n"
      ],
      "text/plain": [
       "<pandas.io.formats.style.Styler at 0x12cc30ce0>"
      ]
     },
     "execution_count": 57,
     "metadata": {},
     "output_type": "execute_result"
    }
   ],
   "source": [
    "log10_errors=np.zeros((50,3))\n",
    "log10_errors[:,0]=jac_err\n",
    "log10_errors[:,1]=gauss_seidel_err\n",
    "log10_errors[:,2]=sor_err\n",
    "log10_errors=np.log10(log10_errors[:10,:])\n",
    "#np.shape(log10_errors)\n",
    "df=pd.DataFrame(log10_errors, columns=[\"Jacobi\", \"Gauss-Seidel\",\"SOR($\\omega$)\"])\n",
    "df.style.set_caption(\"Log10 of error for each method indicated\")"
   ]
  },
  {
   "cell_type": "markdown",
   "metadata": {},
   "source": [
    "<div id='ex' />\n",
    "\n",
    "## Exercises\n",
    "[Back to TOC](#toc)"
   ]
  },
  {
   "cell_type": "markdown",
   "metadata": {},
   "source": [
    "Now that you know how to solve systems of linear equations problem with these methods, let's try to answer a few questions!\n",
    "\n",
    "$a)$ Find the values of $\\alpha$ that make possible to do a LU descomposition of the following matrix:\n",
    "\n",
    "$$ \\begin{bmatrix}\n",
    "   \\alpha & 2  \\\\[0.3em]\n",
    "   1 & \\alpha  \\end{bmatrix} $$\n",
    "\n",
    "$b)$- Let $A$ be the following matrix:\n",
    "\n",
    "$$ A = \\begin{bmatrix}\n",
    "        2 &  4 &  2  \\\\[0.3em]\n",
    "       -1 &  1 &  2  \\\\[0.3em]\n",
    "       -1 & -3 & -1  \\end{bmatrix} $$ \n",
    "       \n",
    "   - Find the PALU descomposition of the matrix $A$.\n",
    "   \n",
    "   - Solve the system of equations $Ax = \\left[1 , \\frac{1}{2}, \\frac{1}{3}\\right]^T$.\n",
    "\n",
    "$c)$ Considering this matrix:\n",
    "\n",
    "$$  \\begin{bmatrix}\n",
    "    1 & 1 & 0  \\\\[0.3em]\n",
    "    1 & 5 & 2  \\\\[0.3em]\n",
    "    0 & 2 & 3  \\end{bmatrix} $$\n",
    "       \n",
    "   - Find the LU descomposition.\n",
    "    \n",
    "   - Find the Cholesky descomposition.\n",
    "    \n",
    "   - Compare the efficiency of both methods.\n",
    "\n",
    "$d)$ Use Jacobi, Gauss Seidel, and SOR to solve the following system of equations (number of iterations = 2):\n",
    "\n",
    "$$2x + y = 3$$\n",
    "$$x + 2y = 2$$\n",
    "\n",
    "   - Which is the best method to solve this problem (with better results)?\n",
    "\n",
    "$e)$ Explain the pros and cons of using iterative methods instead of the direct ones.\n",
    "\n"
   ]
  },
  {
   "cell_type": "markdown",
   "metadata": {},
   "source": [
    "<div id='acknowledgements' />\n",
    "\n",
    "# Acknowledgements\n",
    "[Back to TOC](#toc)\n",
    "* _Material created by professor Claudio Torres_ (`ctorres@inf.utfsm.cl` or `claudio.torres@usm.cl`) _and assistants: Laura Bermeo, Alvaro Salinas, Axel Simonsen and Martín Villanueva. DI UTFSM. April 2016._\n",
    "* _Update May 2020 - v1.11 - C.Torres_ : Fixing formatting issues.\n",
    "* _Update May 2021 - v1.13 - C.Torres_ : Adding link to toc, formatting and addind the 'precision' parameter to lu_decomp, palu_decom, solve_lu, and solve_palu.\n",
    "* _Update May 2021 - v1.14 - C.Torres_ : Adding classnotes examples and changing 'precision' by 'print_precision' to avoid confusion. Notice that 'print_precision' only defines the number of decimals showed when printing certain outputs values.\n",
    "* _Update May 2021 - v1.15 - C.Torres_ : Modifying L in 'palu_decomp' so it shows 1's in the diagonal from the beginning in the computation.\n",
    "* _Update October 2021 - v1.16 - C.Torres_ : Moving pandas library import to the top cell.\n",
    "* _Update October 2021 - v1.17 - C.Torres_ : Improving Hilbert matrix example.\n",
    "* _Update October 2021 - v1.18 - C.Torres_ : Fixing normalization coefficient in Hilbert matrix example.\n",
    "* _Update April 2022 - v1.19 - C.Torres_ : Fixing syntax.\n",
    "* _Update November 2022 - v1.20 - A. Carvajal_ : Fixing typo.\n",
    "* _Update May 2024 - v1.21 - C.Torres_ : Removing Hilbert Matrix example about ill-conditioned matrix, and move it to a Bonus Jupyter Notebook. Adding a small comment of why the Cholesky factorization was included. Adding another contact email."
   ]
  },
  {
   "cell_type": "code",
   "execution_count": null,
   "metadata": {},
   "outputs": [],
   "source": []
  }
 ],
 "metadata": {
  "anaconda-cloud": {},
  "kernelspec": {
   "display_name": "Python 3.9.12 ('base')",
   "language": "python",
   "name": "python3"
  },
  "language_info": {
   "codemirror_mode": {
    "name": "ipython",
    "version": 3
   },
   "file_extension": ".py",
   "mimetype": "text/x-python",
   "name": "python",
   "nbconvert_exporter": "python",
   "pygments_lexer": "ipython3",
   "version": "3.12.2"
  },
  "vscode": {
   "interpreter": {
    "hash": "3ac50632fb3bdf9f343ef51447c90235899ecf2fcb8080338e89f31f890e4206"
   }
  }
 },
 "nbformat": 4,
 "nbformat_minor": 1
}
