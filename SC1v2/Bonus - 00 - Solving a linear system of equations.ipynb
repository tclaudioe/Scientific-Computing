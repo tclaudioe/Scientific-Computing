{
 "cells": [
  {
   "cell_type": "markdown",
   "id": "30b3501f",
   "metadata": {},
   "source": [
    "<center>\n",
    "    <img src=\"http://sct.inf.utfsm.cl/wp-content/uploads/2020/04/logo_di.png\" style=\"width:60%\">\n",
    "    <h1> INF-285 - Computación Científica </h1>\n",
    "    <h2> Solving a linear system of equations </h2>\n",
    "    <h2> <a href=\"#acknowledgements\"> [S]cientific [C]omputing [T]eam </a> </h2>\n",
    "    <h2> Version: 1.00 </h2>\n",
    "</center>\n",
    "\n"
   ]
  },
  {
   "cell_type": "markdown",
   "id": "d3fdc9b7",
   "metadata": {},
   "source": [
    "<div id='toc' />\n",
    "\n",
    "## Table of Contents\n",
    "* [Introduction](#intro)\n",
    "* [Acknowledgements](#acknowledgements)"
   ]
  },
  {
   "cell_type": "code",
   "execution_count": 2,
   "id": "0acf5aee",
   "metadata": {},
   "outputs": [],
   "source": [
    "import numpy as np\n",
    "import matplotlib.pyplot as plt"
   ]
  },
  {
   "cell_type": "markdown",
   "id": "c58b0d12",
   "metadata": {},
   "source": [
    "<div id='intro' />\n",
    "\n",
    "# Introduction\n",
    "[Back to TOC](#toc)\n",
    "\n",
    "In this jupyter notebook we will analyze two different way for solving a linear system of equations. The main idea is to verify computationally that _translating_ from a **theoretical** solution into a **computational** one is not necesarily a straightforward task and we must face some decisions.\n",
    "\n",
    "The classical problem we will be solving is the following:\n",
    "$$\n",
    "\\begin{equation}\n",
    "    A\\,\\mathbf{x} = \\mathbf{b}, \\quad A \\in \\mathbb{R}^{n\\times n}, \\mathbf{x} \\in \\mathbb{R}^n, \\text{ and } \\mathbf{b} \\in \\mathbb{R}^n,\n",
    "\\end{equation}\n",
    "$$\n",
    "where we know $A$ and $\\mathbf{b}$, and we are looking for $\\mathbf{x}$.\n",
    "The representation of the solution is the following:\n",
    "$$\n",
    "\\begin{equation}\n",
    "    \\mathbf{x}=A^{-1}\\,\\mathbf{b}.\n",
    "\\end{equation}\n",
    "$$\n",
    "This _way_ for finding $\\mathbf{x}$ can be implemented in two steps:\n",
    "1. Compute $A^{-1}$,\n",
    "2. Multiply $A^{-1}$ by $\\mathbf{b}$.\n",
    "\n",
    "This approach has been implemented in the function `solve_inverse`."
   ]
  },
  {
   "cell_type": "code",
   "execution_count": 3,
   "id": "3ef55d73",
   "metadata": {},
   "outputs": [],
   "source": [
    "# This function solves a linear system of equation \n",
    "# in a NOT recomended way, we just include it here\n",
    "# for comparison purposes. Please DON'T do this!\n",
    "def solve_inverse(A,b):\n",
    "    B = np.linalg.inv(A) # FORBIDDEN!!\n",
    "    x = np.dot(B,b)\n",
    "    return x"
   ]
  },
  {
   "cell_type": "markdown",
   "id": "edb52eb2",
   "metadata": {},
   "source": [
    "The other algorithm we will use is implemented in the function `np.linalg.solve` of NumPy.\n",
    "In both cases, they receive the matrix $A$ and the right-hand-side $\\mathbf{b}$.\n",
    "\n",
    "Before we continue the analysis, we need to briefly explain how to build a random matrix $A$ and a random right-hand-side vector $\\mathbf{b}$, this is achived in the next code:"
   ]
  },
  {
   "cell_type": "code",
   "execution_count": 4,
   "id": "c9ea69a0",
   "metadata": {},
   "outputs": [],
   "source": [
    "# We use this to ensure the output is reproducible,\n",
    "# what we do is to set a initial seed for the \n",
    "# pseudo-random number genrator.\n",
    "np.random.seed(0)\n",
    "\n",
    "# Here we define the dimension of the problem we will study\n",
    "n = 10\n",
    "# Here we generate 'A' and 'b'.\n",
    "A = np.random.random((n,n)) # Warning: We hope the matrix is not singular!\n",
    "b = np.random.random(n)"
   ]
  },
  {
   "cell_type": "markdown",
   "id": "2049c3ec",
   "metadata": {},
   "source": [
    "The following code compares the solution obtained by each approach for the small problem."
   ]
  },
  {
   "cell_type": "code",
   "execution_count": 5,
   "id": "ce30295b",
   "metadata": {},
   "outputs": [
    {
     "name": "stdout",
     "output_type": "stream",
     "text": [
      "x1:  [-0.97479192  0.58866085  0.75411335  1.38384387 -0.35926582  0.39313497\n",
      "  0.69899892  0.12335787 -0.72120104 -0.62434064]\n",
      "x2:  [-0.97479192  0.58866085  0.75411335  1.38384387 -0.35926582  0.39313497\n",
      "  0.69899892  0.12335787 -0.72120104 -0.62434064]\n"
     ]
    }
   ],
   "source": [
    "x1 = np.linalg.solve(A,b)\n",
    "print('x1: ',x1)\n",
    "\n",
    "x2 = solve_inverse(A,b)\n",
    "print('x2: ',x2)"
   ]
  },
  {
   "cell_type": "markdown",
   "id": "5f2429b8",
   "metadata": {},
   "source": [
    "We should see that the output `x1` and `x2` are the same. More on this will be study in the course, what we will study now (and also later) is the time it takes to find $\\mathbf{x}$ by both algorihtms."
   ]
  },
  {
   "cell_type": "code",
   "execution_count": 6,
   "id": "18ce71d9",
   "metadata": {},
   "outputs": [
    {
     "name": "stdout",
     "output_type": "stream",
     "text": [
      "30.6 ms ± 2.28 ms per loop (mean ± std. dev. of 7 runs, 1,000 loops each)\n"
     ]
    }
   ],
   "source": [
    "%timeit np.linalg.solve(A,b)"
   ]
  },
  {
   "cell_type": "code",
   "execution_count": 7,
   "id": "1eccc12a",
   "metadata": {},
   "outputs": [
    {
     "name": "stdout",
     "output_type": "stream",
     "text": [
      "56.7 ms ± 9.38 ms per loop (mean ± std. dev. of 7 runs, 10 loops each)\n"
     ]
    }
   ],
   "source": [
    "%timeit solve_inverse(A,b)"
   ]
  },
  {
   "cell_type": "markdown",
   "id": "adf3e21b",
   "metadata": {},
   "source": [
    "Do you notice a difference in the computation time?\n",
    "\n",
    "To be able to undertand in more detail the _tendency_ we need to test it for several values of `n`."
   ]
  },
  {
   "cell_type": "code",
   "execution_count": 8,
   "id": "cd0510f6",
   "metadata": {},
   "outputs": [],
   "source": [
    "# This line of code will help us to manipulate the output.\n",
    "out = %timeit -o -q -n 10 -r 5 np.linalg.solve(A,b)"
   ]
  },
  {
   "cell_type": "code",
   "execution_count": 9,
   "id": "02397ae9",
   "metadata": {},
   "outputs": [
    {
     "data": {
      "text/plain": [
       "[0.4992309160006698,\n",
       " 0.3019384170038393,\n",
       " 0.23017012500349665,\n",
       " 0.28371624999999767,\n",
       " 0.1959939580046921]"
      ]
     },
     "execution_count": 9,
     "metadata": {},
     "output_type": "execute_result"
    }
   ],
   "source": [
    "out.all_runs"
   ]
  },
  {
   "cell_type": "markdown",
   "id": "d1fac331",
   "metadata": {},
   "source": [
    "The following code solve 10 linear systems of equations from size $10\\times 10$ upto $2000\\times 2000$, and for each one we compute the average time for several ejecutions."
   ]
  },
  {
   "cell_type": "code",
   "execution_count": 10,
   "id": "d741fb46",
   "metadata": {},
   "outputs": [],
   "source": [
    "def generate_data_Axb():\n",
    "    Ns = np.linspace(10,2000,10, dtype=int)\n",
    "    time_solve = np.zeros(len(Ns))\n",
    "    time_inv   = np.zeros(len(Ns))\n",
    "    np.random.seed(0)\n",
    "    for i, n in np.ndenumerate(Ns):\n",
    "        print('working on n =',n)\n",
    "        A = np.random.random((n,n))\n",
    "        b = np.random.random(n)\n",
    "        out = %timeit -o -q -n 5 -r 5 np.linalg.solve(A,b)\n",
    "        time_solve[i] = out.average\n",
    "        out = %timeit -o -q -n 5 -r 5 solve_inverse(A,b)\n",
    "        time_inv[i]   = out.average\n",
    "        print('time it took =',time_solve[i]+time_inv[i],'[sec]')\n",
    "    return Ns, time_solve, time_inv\n"
   ]
  },
  {
   "cell_type": "code",
   "execution_count": 11,
   "id": "86edf377",
   "metadata": {},
   "outputs": [
    {
     "name": "stdout",
     "output_type": "stream",
     "text": [
      "working on n = 10\n",
      "time it took = 0.0895597350000753 [sec]\n",
      "working on n = 231\n",
      "time it took = 4.175194886599493 [sec]\n",
      "working on n = 452\n",
      "time it took = 6.182405196639884 [sec]\n",
      "working on n = 673\n",
      "time it took = 4.928390938399534 [sec]\n",
      "working on n = 894\n",
      "time it took = 3.6262563666803174 [sec]\n",
      "working on n = 1115\n",
      "time it took = 0.3188332333599101 [sec]\n",
      "working on n = 1336\n",
      "time it took = 0.3626693100796547 [sec]\n",
      "working on n = 1557\n",
      "time it took = 0.17089126339997165 [sec]\n",
      "working on n = 1778\n",
      "time it took = 0.37582733660034134 [sec]\n",
      "working on n = 2000\n",
      "time it took = 0.4369901432396728 [sec]\n"
     ]
    }
   ],
   "source": [
    "Ns, time_solve, time_inv = generate_data_Axb()"
   ]
  },
  {
   "cell_type": "code",
   "execution_count": 12,
   "id": "a6b4a32e",
   "metadata": {},
   "outputs": [
    {
     "data": {
      "image/png": "[encoded data removed]",
      "text/plain": [
       "<Figure size 500x500 with 1 Axes>"
      ]
     },
     "metadata": {},
     "output_type": "display_data"
    }
   ],
   "source": [
    "plt.figure(figsize=(5,5))\n",
    "plt.semilogy(Ns, time_solve, '.', label=\"np.linalg.solve\")\n",
    "plt.semilogy(Ns, time_inv,   '.', label=\"solve_inverse\")\n",
    "plt.grid(True)\n",
    "plt.ylabel('Time in [sec]')\n",
    "plt.xlabel('Dimension of linear system')\n",
    "plt.legend(loc='best')\n",
    "plt.show()\n"
   ]
  },
  {
   "cell_type": "code",
   "execution_count": 13,
   "id": "d0ea7d1a",
   "metadata": {},
   "outputs": [
    {
     "data": {
      "image/png": "[encoded data removed]",
      "text/plain": [
       "<Figure size 500x500 with 1 Axes>"
      ]
     },
     "metadata": {},
     "output_type": "display_data"
    }
   ],
   "source": [
    "plt.figure(figsize=(5,5))\n",
    "plt.plot(Ns, time_inv/time_solve, 'k.', label=\"time_inv/time_solve\")\n",
    "plt.grid(True)\n",
    "plt.ylabel('Time in [sec]')\n",
    "plt.xlabel('Dimension of linear system')\n",
    "plt.legend(loc='best')\n",
    "plt.show()"
   ]
  },
  {
   "cell_type": "code",
   "execution_count": 14,
   "id": "dfb7fb84",
   "metadata": {},
   "outputs": [
    {
     "data": {
      "image/png": "[encoded data removed]",
      "text/plain": [
       "<Figure size 500x500 with 1 Axes>"
      ]
     },
     "metadata": {},
     "output_type": "display_data"
    }
   ],
   "source": [
    "plt.figure(figsize=(5,5))\n",
    "plt.loglog(Ns, time_solve, '.', label=\"np.linalg.solve\")\n",
    "plt.loglog(Ns, time_inv,   '.', label=\"solve_inverse\")\n",
    "plt.grid(True)\n",
    "plt.ylabel('Time in [sec]')\n",
    "plt.xlabel('Dimension of linear system')\n",
    "plt.legend(loc='best')\n",
    "plt.show()"
   ]
  },
  {
   "cell_type": "markdown",
   "id": "0c29f138",
   "metadata": {},
   "source": [
    "<div id='acknowledgements' />\n",
    "\n",
    "# Acknowledgements\n",
    "[Back to TOC](#toc)\n",
    "\n",
    "* _Material originally created by professor Claudio Torres_ (`ctorres@inf.utfsm.cl`). v.1.0. DI UTFSM. March 2022._"
   ]
  },
  {
   "cell_type": "code",
   "execution_count": null,
   "id": "171ae2f1",
   "metadata": {},
   "outputs": [],
   "source": []
  }
 ],
 "metadata": {
  "kernelspec": {
   "display_name": "base",
   "language": "python",
   "name": "python3"
  },
  "language_info": {
   "codemirror_mode": {
    "name": "ipython",
    "version": 3
   },
   "file_extension": ".py",
   "mimetype": "text/x-python",
   "name": "python",
   "nbconvert_exporter": "python",
   "pygments_lexer": "ipython3",
   "version": "3.12.2"
  }
 },
 "nbformat": 4,
 "nbformat_minor": 5
}
